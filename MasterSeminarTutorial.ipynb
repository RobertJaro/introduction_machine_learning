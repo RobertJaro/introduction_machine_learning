{
  "nbformat": 4,
  "nbformat_minor": 0,
  "metadata": {
    "colab": {
      "name": "MasterSeminarTutorial.ipynb",
      "version": "0.3.2",
      "provenance": [],
      "collapsed_sections": [],
      "include_colab_link": true
    },
    "kernelspec": {
      "name": "python3",
      "display_name": "Python 3"
    },
    "accelerator": "GPU"
  },
  "cells": [
    {
      "cell_type": "markdown",
      "metadata": {
        "id": "view-in-github",
        "colab_type": "text"
      },
      "source": [
        "<a href=\"https://colab.research.google.com/github/RobertJaro/introduction_machine_learning/blob/master/MasterSeminarTutorial.ipynb\" target=\"_parent\"><img src=\"https://colab.research.google.com/assets/colab-badge.svg\" alt=\"Open In Colab\"/></a>"
      ]
    },
    {
      "cell_type": "markdown",
      "metadata": {
        "id": "AIHvaa5dyeMQ",
        "colab_type": "text"
      },
      "source": [
        "# Introduction"
      ]
    },
    {
      "cell_type": "markdown",
      "metadata": {
        "id": "UdRlmbxw-QR6",
        "colab_type": "text"
      },
      "source": [
        "This tutorial is intended to give a first impression on deep learning. We will fous on simple image classification tasks to gain some experience with neural network architecture and training. For the implementation we will use Keras, which enables us to create and train neural networks with just a few lines of code."
      ]
    },
    {
      "cell_type": "markdown",
      "metadata": {
        "id": "HtBqW2A1yZHW",
        "colab_type": "text"
      },
      "source": [
        "# Image Classification"
      ]
    },
    {
      "cell_type": "markdown",
      "metadata": {
        "id": "p3E0ZtHkLnWZ",
        "colab_type": "text"
      },
      "source": [
        "## Dataset"
      ]
    },
    {
      "cell_type": "code",
      "metadata": {
        "id": "qkDRuBqZDb3k",
        "colab_type": "code",
        "outputId": "421261d6-0a6b-47cf-d16b-73631db21486",
        "colab": {
          "base_uri": "https://localhost:8080/",
          "height": 34
        }
      },
      "source": [
        "from keras.datasets import mnist\n",
        "from matplotlib import pyplot as plt\n",
        "import numpy as np\n",
        "from keras.utils import to_categorical"
      ],
      "execution_count": 0,
      "outputs": [
        {
          "output_type": "stream",
          "text": [
            "Using TensorFlow backend.\n"
          ],
          "name": "stderr"
        }
      ]
    },
    {
      "cell_type": "markdown",
      "metadata": {
        "id": "T0pXmHEu-L0x",
        "colab_type": "text"
      },
      "source": [
        "Keras provides easy access to one of the most used datasets, MNIST. This dataset consists of images of handwritten digits between 0 and 9 and the corresponding labels. The images are greyscale with 28x28 pixels.\n",
        "\n",
        "Deep learning is all about generalization to the problem which we are trying to solve. To measure this we need to separate the dataset. We strictly split a training set and a test set. The **training set** is used for the learning progress. The **test set** is never used for training! It serves for estimating the final model, it therefore will provide an estimate for the model performance.\n",
        "To find a good configuration during the learning phase an additional set is split from the training set, the **validation set**, this will be continuously monitored.\n"
      ]
    },
    {
      "cell_type": "code",
      "metadata": {
        "id": "HQ5vqBeHDxXH",
        "colab_type": "code",
        "outputId": "64256bfe-b745-4f57-e39c-94136b463cd4",
        "colab": {
          "base_uri": "https://localhost:8080/",
          "height": 52
        }
      },
      "source": [
        "(x_train, y_train), (x_test, y_test) = mnist.load_data()"
      ],
      "execution_count": 0,
      "outputs": [
        {
          "output_type": "stream",
          "text": [
            "Downloading data from https://s3.amazonaws.com/img-datasets/mnist.npz\n",
            "11493376/11490434 [==============================] - 0s 0us/step\n"
          ],
          "name": "stdout"
        }
      ]
    },
    {
      "cell_type": "markdown",
      "metadata": {
        "id": "Inwgfr9uDeDi",
        "colab_type": "text"
      },
      "source": [
        "The data is provided as a numpy array. As a first step we want to investigate the data. Let's start with the dimensionality."
      ]
    },
    {
      "cell_type": "code",
      "metadata": {
        "id": "f_oxqLrHDz7V",
        "colab_type": "code",
        "outputId": "752ec845-e9f5-48af-931f-1dbeca462cf2",
        "colab": {
          "base_uri": "https://localhost:8080/",
          "height": 52
        }
      },
      "source": [
        "print(\"X -SHAPE\", x_train.shape)\n",
        "print(\"Y -SHAPE\", y_train.shape)"
      ],
      "execution_count": 0,
      "outputs": [
        {
          "output_type": "stream",
          "text": [
            "X -SHAPE (60000, 28, 28)\n",
            "Y -SHAPE (60000,)\n"
          ],
          "name": "stdout"
        }
      ]
    },
    {
      "cell_type": "markdown",
      "metadata": {
        "id": "XlBni-d2G0_C",
        "colab_type": "text"
      },
      "source": [
        "There are 60000 samles. The x-data consists of the images each with 28x28 pixels."
      ]
    },
    {
      "cell_type": "code",
      "metadata": {
        "id": "HX6yTrQYD_6V",
        "colab_type": "code",
        "outputId": "24fb57c1-e518-4e59-a4ee-0e87580cd4a0",
        "colab": {
          "base_uri": "https://localhost:8080/",
          "height": 35
        }
      },
      "source": [
        "y_train"
      ],
      "execution_count": 0,
      "outputs": [
        {
          "output_type": "execute_result",
          "data": {
            "text/plain": [
              "array([5, 0, 4, ..., 5, 6, 8], dtype=uint8)"
            ]
          },
          "metadata": {
            "tags": []
          },
          "execution_count": 4
        }
      ]
    },
    {
      "cell_type": "markdown",
      "metadata": {
        "id": "Jz4gSiVrHBXh",
        "colab_type": "text"
      },
      "source": [
        "The y-data consists of the corresponding labels. Digits from 0 to 9."
      ]
    },
    {
      "cell_type": "markdown",
      "metadata": {
        "id": "uxWVW2tWHVfo",
        "colab_type": "text"
      },
      "source": [
        "Lets plot the images with matplotlib, to get an idea of what we are dealing with."
      ]
    },
    {
      "cell_type": "code",
      "metadata": {
        "id": "2-T557UAErMl",
        "colab_type": "code",
        "outputId": "11b2c680-0473-4a52-d9b3-63940eb927c3",
        "colab": {
          "base_uri": "https://localhost:8080/",
          "height": 269
        }
      },
      "source": [
        "plt.imshow(x_train[0])\n",
        "plt.show()"
      ],
      "execution_count": 0,
      "outputs": [
        {
          "output_type": "display_data",
          "data": {
            "image/png": "[encoded data removed]",
            "text/plain": [
              "<Figure size 432x288 with 1 Axes>"
            ]
          },
          "metadata": {
            "tags": []
          }
        }
      ]
    },
    {
      "cell_type": "markdown",
      "metadata": {
        "id": "hTTY4NaPH44d",
        "colab_type": "text"
      },
      "source": [
        "An important factor for the convergence of the network is the normalization of the input data, therefore we check the value range."
      ]
    },
    {
      "cell_type": "code",
      "metadata": {
        "id": "Mq0gPAN3IQDl",
        "colab_type": "code",
        "outputId": "ab08b33f-d2ad-4971-baaa-006c1f5da38a",
        "colab": {
          "base_uri": "https://localhost:8080/",
          "height": 52
        }
      },
      "source": [
        "print(\"MAX-VALUE\", np.max(x_train))\n",
        "print(\"MIN-VALUE\", np.min(x_train))"
      ],
      "execution_count": 0,
      "outputs": [
        {
          "output_type": "stream",
          "text": [
            "MAX-VALUE 255\n",
            "MIN-VALUE 0\n"
          ],
          "name": "stdout"
        }
      ]
    },
    {
      "cell_type": "markdown",
      "metadata": {
        "id": "ftbPdEejIcu1",
        "colab_type": "text"
      },
      "source": [
        "Large values can result in spikes during the training which disrupt the model. Small values make it easier for the model to adjust, therefore we normalize the data to the interval [-1, 1] to benefit the convergence."
      ]
    },
    {
      "cell_type": "code",
      "metadata": {
        "id": "YHf0YUFBKZIE",
        "colab_type": "code",
        "colab": {}
      },
      "source": [
        "norm_x_train = (x_train - 127.5) / 127.5"
      ],
      "execution_count": 0,
      "outputs": []
    },
    {
      "cell_type": "markdown",
      "metadata": {
        "id": "hgTR5bKMIxjG",
        "colab_type": "text"
      },
      "source": [
        "Images are provided with there channels as large dimension. For RGB = 3, greyscale = 1. Therefore we reshape each image from (28, 28) to (28, 28, 1)."
      ]
    },
    {
      "cell_type": "code",
      "metadata": {
        "id": "p1xbT57bO3o0",
        "colab_type": "code",
        "outputId": "e1106021-f0df-4bc6-95f1-b71a2c854ddd",
        "colab": {
          "base_uri": "https://localhost:8080/",
          "height": 35
        }
      },
      "source": [
        "norm_x_train = norm_x_train.reshape((-1, 28, 28, 1))\n",
        "norm_x_train.shape"
      ],
      "execution_count": 0,
      "outputs": [
        {
          "output_type": "execute_result",
          "data": {
            "text/plain": [
              "(60000, 28, 28, 1)"
            ]
          },
          "metadata": {
            "tags": []
          },
          "execution_count": 8
        }
      ]
    },
    {
      "cell_type": "markdown",
      "metadata": {
        "id": "YlqPiXU8JM_N",
        "colab_type": "text"
      },
      "source": [
        "The target values (y-train) consists of digits. A very poor approach would be to predict the number directly, because:\n",
        "1.   There is no relation between appearance and value of the digits\n",
        "2.   Regression problems are hard to train\n",
        "\n",
        "We therefore discritize the values into 10 categories. The output corresponds then to probability for each category:\n",
        "\n",
        "3 --> [0, 0, 0, 1, 0, 0, 0, 0, 0, 0]\n",
        "\n",
        "0 --> [1, 0, 0, 0, 0, 0, 0, 0, 0, 0]\n",
        "\n",
        "8 --> [0, 0, 0, 0, 0, 0, 0, 0, 1, 0]"
      ]
    },
    {
      "cell_type": "markdown",
      "metadata": {
        "id": "D8Go14kIKjN3",
        "colab_type": "text"
      },
      "source": [
        "Keras provides a build in util for this task."
      ]
    },
    {
      "cell_type": "code",
      "metadata": {
        "id": "QNJCPwnwQ-al",
        "colab_type": "code",
        "outputId": "22546901-a0f4-439b-ecce-d1ea80296c30",
        "colab": {
          "base_uri": "https://localhost:8080/",
          "height": 35
        }
      },
      "source": [
        "categorical_y_train = to_categorical(y_train, 10)\n",
        "categorical_y_train.shape"
      ],
      "execution_count": 0,
      "outputs": [
        {
          "output_type": "execute_result",
          "data": {
            "text/plain": [
              "(60000, 10)"
            ]
          },
          "metadata": {
            "tags": []
          },
          "execution_count": 9
        }
      ]
    },
    {
      "cell_type": "markdown",
      "metadata": {
        "id": "wEAc2cq9K2A-",
        "colab_type": "text"
      },
      "source": [
        "We apply the same procedure for the test data"
      ]
    },
    {
      "cell_type": "code",
      "metadata": {
        "id": "wlClJkO3PQCE",
        "colab_type": "code",
        "colab": {}
      },
      "source": [
        "norm_x_test = (x_test - 127.5) / 127.5\n",
        "norm_x_test = norm_x_test.reshape((-1, 28, 28, 1))\n",
        "categorical_y_test = to_categorical(y_test, 10)"
      ],
      "execution_count": 0,
      "outputs": []
    },
    {
      "cell_type": "markdown",
      "metadata": {
        "id": "4A5PyCX-K-cJ",
        "colab_type": "text"
      },
      "source": [
        "Let us check the images and the value range."
      ]
    },
    {
      "cell_type": "code",
      "metadata": {
        "id": "3IJkU2xsLIRH",
        "colab_type": "code",
        "outputId": "8245619a-ab7a-4da2-d4a1-8ab5a378c0a5",
        "colab": {
          "base_uri": "https://localhost:8080/",
          "height": 316
        }
      },
      "source": [
        "plt.imshow(norm_x_train[0,...,0])\n",
        "plt.colorbar()\n",
        "plt.title(categorical_y_train[0])\n",
        "plt.show()"
      ],
      "execution_count": 0,
      "outputs": [
        {
          "output_type": "stream",
          "text": [
            "/usr/local/lib/python3.6/dist-packages/matplotlib/text.py:1191: FutureWarning: elementwise comparison failed; returning scalar instead, but in the future will perform elementwise comparison\n",
            "  if s != self._text:\n"
          ],
          "name": "stderr"
        },
        {
          "output_type": "display_data",
          "data": {
            "image/png": "[encoded data removed]",
            "text/plain": [
              "<Figure size 432x288 with 2 Axes>"
            ]
          },
          "metadata": {
            "tags": []
          }
        }
      ]
    },
    {
      "cell_type": "markdown",
      "metadata": {
        "id": "RSYzHcBfLjMj",
        "colab_type": "text"
      },
      "source": [
        "## Deep Learning Model"
      ]
    },
    {
      "cell_type": "code",
      "metadata": {
        "id": "F-HWHns-M6sP",
        "colab_type": "code",
        "colab": {}
      },
      "source": [
        "from keras.layers import Flatten, Dense, Input\n",
        "from keras import Model\n",
        "from keras.optimizers import Adam"
      ],
      "execution_count": 0,
      "outputs": []
    },
    {
      "cell_type": "markdown",
      "metadata": {
        "id": "NZOpbhpzLqx1",
        "colab_type": "text"
      },
      "source": [
        "Keras provides a very convenient way to create deep learning models. We only have to specify the input shape and the layers within the network. Each layer corresponds to a certain operation. We will start with a simple model where each neuron is connected with each neuron in the previous layer, this is called a Dense or feed-forward network. The problem is that our input is not flat (28, 28, 1), therefore we have to transform the image in a first step into a vector of size (784,).\n",
        "\n",
        "\n",
        "The value after each layer is defined by the matrix multiplication with the weights of the layer and an activation function. There is a large set of different activation functions available (https://keras.io/activations/). The most famous are ReLU, Tanh and Sigmoid. "
      ]
    },
    {
      "cell_type": "code",
      "metadata": {
        "id": "wVxAj-NdOPN-",
        "colab_type": "code",
        "outputId": "32f19a31-651a-4d23-9075-6691c7ddb5ca",
        "colab": {
          "base_uri": "https://localhost:8080/",
          "height": 225
        }
      },
      "source": [
        "x = np.arange(-5, 5.1, 0.1)\n",
        "\n",
        "relu = np.where(x < 0,0,x)\n",
        "\n",
        "plt.figure(figsize=(9, 3))\n",
        "\n",
        "plt.subplot(1, 3, 1)\n",
        "plt.title(\"ReLU\")\n",
        "plt.plot(x, relu)\n",
        "\n",
        "\n",
        "plt.subplot(1, 3, 2)\n",
        "plt.title(\"Tanh\")\n",
        "plt.plot(x, np.tanh(x))\n",
        "\n",
        "plt.subplot(1, 3, 3)\n",
        "plt.title(\"Sigmoid\")\n",
        "plt.plot(x, 1/(1+np.exp(-x)))\n",
        "\n",
        "plt.tight_layout()"
      ],
      "execution_count": 0,
      "outputs": [
        {
          "output_type": "display_data",
          "data": {
            "image/png": "[encoded data removed]",
            "text/plain": [
              "<Figure size 648x216 with 3 Axes>"
            ]
          },
          "metadata": {
            "tags": []
          }
        }
      ]
    },
    {
      "cell_type": "markdown",
      "metadata": {
        "id": "8yINkE5OQVdf",
        "colab_type": "text"
      },
      "source": [
        "The activation functions within the network are arbitrary (choose what leads to the best performance). Contrarily the activation function of the output is important.\n",
        "\n",
        "\n",
        "*   Regression (predict values): linear/no activation\n",
        "*   Single Classification: sigmoid [0, 1] --> defines probability to be class 1 or 2 where 0.5 defines the border\n",
        "*   Normalized Output (e.g. images): tanh, sigmoid\n",
        "*   Multi-Class Classification: softmax (probabilities per class sum to 1)\n",
        "\n",
        "These additional restrictions prevent that the network has to learn the output representation. In our case we are using a softmax as output activation and ReLU everywhere else."
      ]
    },
    {
      "cell_type": "code",
      "metadata": {
        "id": "M5RKgZ5XPnFk",
        "colab_type": "code",
        "outputId": "5d86d0e1-3b73-4fac-a477-aa4db759dfed",
        "colab": {
          "base_uri": "https://localhost:8080/",
          "height": 329
        }
      },
      "source": [
        "img = Input((28, 28, 1))\n",
        "x = Flatten()(img)\n",
        "x = Dense(64, activation=\"relu\")(x)\n",
        "x = Dense(10, activation=\"softmax\")(x)\n",
        "model = Model(img, x)\n",
        "\n",
        "model.summary()"
      ],
      "execution_count": 0,
      "outputs": [
        {
          "output_type": "stream",
          "text": [
            "WARNING:tensorflow:From /usr/local/lib/python3.6/dist-packages/tensorflow/python/framework/op_def_library.py:263: colocate_with (from tensorflow.python.framework.ops) is deprecated and will be removed in a future version.\n",
            "Instructions for updating:\n",
            "Colocations handled automatically by placer.\n",
            "_________________________________________________________________\n",
            "Layer (type)                 Output Shape              Param #   \n",
            "=================================================================\n",
            "input_1 (InputLayer)         (None, 28, 28, 1)         0         \n",
            "_________________________________________________________________\n",
            "flatten_1 (Flatten)          (None, 784)               0         \n",
            "_________________________________________________________________\n",
            "dense_1 (Dense)              (None, 64)                50240     \n",
            "_________________________________________________________________\n",
            "dense_2 (Dense)              (None, 10)                650       \n",
            "=================================================================\n",
            "Total params: 50,890\n",
            "Trainable params: 50,890\n",
            "Non-trainable params: 0\n",
            "_________________________________________________________________\n"
          ],
          "name": "stdout"
        }
      ]
    },
    {
      "cell_type": "markdown",
      "metadata": {
        "id": "hF-E2Z1dNLfr",
        "colab_type": "text"
      },
      "source": [
        "Next we have to define the loss function to use (e.g. mean-squared-error, mean-absolute-error, cross-entropy), this can be choosen as free parameter.\n",
        "\n",
        "The learning rate defines the parameter change per update step. If the learning rate is too low the convergence takes long (the minimum is approached very slowly). If the learning rate is too large, oscillations around the minimum or divergences can occur.\n",
        "\n",
        "For the update of the tunable parameters (weights) different algorithms can be used. Stochastic-Gradient-Descent is the simplest approach. Adam provides adaptive learning rates for each weight, which can significantly increase the convergence."
      ]
    },
    {
      "cell_type": "markdown",
      "metadata": {
        "id": "jnnsixT2VvuK",
        "colab_type": "text"
      },
      "source": [
        "![alt text](https://cdn-images-1.medium.com/max/1600/1*Y2KPVGrVX9MQkeI8Yjy59Q.gif)"
      ]
    },
    {
      "cell_type": "markdown",
      "metadata": {
        "id": "7ecmR1VdWLQb",
        "colab_type": "text"
      },
      "source": [
        "The batch size defines the samples which are simultaneously being processed. It should be rather large to increase the training speed and to efficiently use the computational resources (GPU). Additional the update based on multiple samples leads to a smoother convergence and a better generalization.\n",
        "\n",
        "An epoch defines a full run through the dataset."
      ]
    },
    {
      "cell_type": "code",
      "metadata": {
        "id": "gAMsdIp6QX6H",
        "colab_type": "code",
        "outputId": "51f8bf39-60c0-4d86-c28b-c1f92f9bb14b",
        "colab": {
          "base_uri": "https://localhost:8080/",
          "height": 1820
        }
      },
      "source": [
        "opt = Adam(0.001)\n",
        "model.compile(loss=\"categorical_crossentropy\",optimizer=opt, metrics=[\"categorical_accuracy\"])\n",
        "history = model.fit(norm_x_train, categorical_y_train, epochs=50, batch_size=512, validation_split=0.2)"
      ],
      "execution_count": 0,
      "outputs": [
        {
          "output_type": "stream",
          "text": [
            "WARNING:tensorflow:From /usr/local/lib/python3.6/dist-packages/tensorflow/python/ops/math_ops.py:3066: to_int32 (from tensorflow.python.ops.math_ops) is deprecated and will be removed in a future version.\n",
            "Instructions for updating:\n",
            "Use tf.cast instead.\n",
            "Train on 48000 samples, validate on 12000 samples\n",
            "Epoch 1/50\n",
            "48000/48000 [==============================] - 3s 69us/step - loss: 0.7341 - categorical_accuracy: 0.7820 - val_loss: 0.3573 - val_categorical_accuracy: 0.8988\n",
            "Epoch 2/50\n",
            "48000/48000 [==============================] - 1s 11us/step - loss: 0.3410 - categorical_accuracy: 0.9029 - val_loss: 0.2927 - val_categorical_accuracy: 0.9133\n",
            "Epoch 3/50\n",
            "48000/48000 [==============================] - 1s 12us/step - loss: 0.2912 - categorical_accuracy: 0.9154 - val_loss: 0.2639 - val_categorical_accuracy: 0.9237\n",
            "Epoch 4/50\n",
            "48000/48000 [==============================] - 1s 11us/step - loss: 0.2590 - categorical_accuracy: 0.9253 - val_loss: 0.2364 - val_categorical_accuracy: 0.9323\n",
            "Epoch 5/50\n",
            "48000/48000 [==============================] - 1s 11us/step - loss: 0.2330 - categorical_accuracy: 0.9323 - val_loss: 0.2213 - val_categorical_accuracy: 0.9388\n",
            "Epoch 6/50\n",
            "48000/48000 [==============================] - 1s 11us/step - loss: 0.2150 - categorical_accuracy: 0.9375 - val_loss: 0.2104 - val_categorical_accuracy: 0.9400\n",
            "Epoch 7/50\n",
            "48000/48000 [==============================] - 1s 11us/step - loss: 0.1958 - categorical_accuracy: 0.9421 - val_loss: 0.1920 - val_categorical_accuracy: 0.9466\n",
            "Epoch 8/50\n",
            "48000/48000 [==============================] - 1s 11us/step - loss: 0.1839 - categorical_accuracy: 0.9464 - val_loss: 0.1886 - val_categorical_accuracy: 0.9489\n",
            "Epoch 9/50\n",
            "48000/48000 [==============================] - 1s 11us/step - loss: 0.1723 - categorical_accuracy: 0.9495 - val_loss: 0.1757 - val_categorical_accuracy: 0.9502\n",
            "Epoch 10/50\n",
            "48000/48000 [==============================] - 1s 12us/step - loss: 0.1622 - categorical_accuracy: 0.9530 - val_loss: 0.1721 - val_categorical_accuracy: 0.9518\n",
            "Epoch 11/50\n",
            "48000/48000 [==============================] - 1s 11us/step - loss: 0.1523 - categorical_accuracy: 0.9556 - val_loss: 0.1664 - val_categorical_accuracy: 0.9540\n",
            "Epoch 12/50\n",
            "48000/48000 [==============================] - 1s 11us/step - loss: 0.1468 - categorical_accuracy: 0.9566 - val_loss: 0.1636 - val_categorical_accuracy: 0.9538\n",
            "Epoch 13/50\n",
            "48000/48000 [==============================] - 1s 11us/step - loss: 0.1390 - categorical_accuracy: 0.9586 - val_loss: 0.1545 - val_categorical_accuracy: 0.9579\n",
            "Epoch 14/50\n",
            "48000/48000 [==============================] - 1s 11us/step - loss: 0.1308 - categorical_accuracy: 0.9617 - val_loss: 0.1579 - val_categorical_accuracy: 0.9549\n",
            "Epoch 15/50\n",
            "48000/48000 [==============================] - 1s 11us/step - loss: 0.1262 - categorical_accuracy: 0.9624 - val_loss: 0.1549 - val_categorical_accuracy: 0.9540\n",
            "Epoch 16/50\n",
            "48000/48000 [==============================] - 1s 11us/step - loss: 0.1206 - categorical_accuracy: 0.9643 - val_loss: 0.1537 - val_categorical_accuracy: 0.9572\n",
            "Epoch 17/50\n",
            "48000/48000 [==============================] - 1s 11us/step - loss: 0.1159 - categorical_accuracy: 0.9656 - val_loss: 0.1446 - val_categorical_accuracy: 0.9582\n",
            "Epoch 18/50\n",
            "48000/48000 [==============================] - 1s 11us/step - loss: 0.1088 - categorical_accuracy: 0.9680 - val_loss: 0.1375 - val_categorical_accuracy: 0.9607\n",
            "Epoch 19/50\n",
            "48000/48000 [==============================] - 1s 11us/step - loss: 0.1042 - categorical_accuracy: 0.9697 - val_loss: 0.1347 - val_categorical_accuracy: 0.9634\n",
            "Epoch 20/50\n",
            "48000/48000 [==============================] - 1s 11us/step - loss: 0.1024 - categorical_accuracy: 0.9702 - val_loss: 0.1376 - val_categorical_accuracy: 0.9602\n",
            "Epoch 21/50\n",
            "48000/48000 [==============================] - 1s 11us/step - loss: 0.0977 - categorical_accuracy: 0.9713 - val_loss: 0.1347 - val_categorical_accuracy: 0.9617\n",
            "Epoch 22/50\n",
            "48000/48000 [==============================] - 1s 11us/step - loss: 0.0926 - categorical_accuracy: 0.9727 - val_loss: 0.1310 - val_categorical_accuracy: 0.9622\n",
            "Epoch 23/50\n",
            "48000/48000 [==============================] - 1s 11us/step - loss: 0.0878 - categorical_accuracy: 0.9742 - val_loss: 0.1315 - val_categorical_accuracy: 0.9611\n",
            "Epoch 24/50\n",
            "48000/48000 [==============================] - 1s 11us/step - loss: 0.0866 - categorical_accuracy: 0.9743 - val_loss: 0.1254 - val_categorical_accuracy: 0.9642\n",
            "Epoch 25/50\n",
            "48000/48000 [==============================] - 1s 11us/step - loss: 0.0831 - categorical_accuracy: 0.9754 - val_loss: 0.1223 - val_categorical_accuracy: 0.9658\n",
            "Epoch 26/50\n",
            "48000/48000 [==============================] - 1s 11us/step - loss: 0.0780 - categorical_accuracy: 0.9779 - val_loss: 0.1254 - val_categorical_accuracy: 0.9649\n",
            "Epoch 27/50\n",
            "48000/48000 [==============================] - 1s 11us/step - loss: 0.0776 - categorical_accuracy: 0.9770 - val_loss: 0.1201 - val_categorical_accuracy: 0.9662\n",
            "Epoch 28/50\n",
            "48000/48000 [==============================] - 1s 11us/step - loss: 0.0739 - categorical_accuracy: 0.9784 - val_loss: 0.1225 - val_categorical_accuracy: 0.9664\n",
            "Epoch 29/50\n",
            "48000/48000 [==============================] - 1s 11us/step - loss: 0.0732 - categorical_accuracy: 0.9781 - val_loss: 0.1261 - val_categorical_accuracy: 0.9627\n",
            "Epoch 30/50\n",
            "48000/48000 [==============================] - 1s 12us/step - loss: 0.0708 - categorical_accuracy: 0.9787 - val_loss: 0.1183 - val_categorical_accuracy: 0.9662\n",
            "Epoch 31/50\n",
            "48000/48000 [==============================] - 1s 11us/step - loss: 0.0664 - categorical_accuracy: 0.9800 - val_loss: 0.1208 - val_categorical_accuracy: 0.9656\n",
            "Epoch 32/50\n",
            "48000/48000 [==============================] - 1s 11us/step - loss: 0.0661 - categorical_accuracy: 0.9808 - val_loss: 0.1181 - val_categorical_accuracy: 0.9664\n",
            "Epoch 33/50\n",
            "48000/48000 [==============================] - 1s 11us/step - loss: 0.0629 - categorical_accuracy: 0.9812 - val_loss: 0.1194 - val_categorical_accuracy: 0.9671\n",
            "Epoch 34/50\n",
            "48000/48000 [==============================] - 1s 11us/step - loss: 0.0607 - categorical_accuracy: 0.9828 - val_loss: 0.1152 - val_categorical_accuracy: 0.9676\n",
            "Epoch 35/50\n",
            "48000/48000 [==============================] - 1s 11us/step - loss: 0.0598 - categorical_accuracy: 0.9824 - val_loss: 0.1196 - val_categorical_accuracy: 0.9661\n",
            "Epoch 36/50\n",
            "48000/48000 [==============================] - 1s 11us/step - loss: 0.0575 - categorical_accuracy: 0.9830 - val_loss: 0.1125 - val_categorical_accuracy: 0.9685\n",
            "Epoch 37/50\n",
            "48000/48000 [==============================] - 1s 11us/step - loss: 0.0555 - categorical_accuracy: 0.9837 - val_loss: 0.1174 - val_categorical_accuracy: 0.9678\n",
            "Epoch 38/50\n",
            "48000/48000 [==============================] - 1s 11us/step - loss: 0.0547 - categorical_accuracy: 0.9841 - val_loss: 0.1145 - val_categorical_accuracy: 0.9682\n",
            "Epoch 39/50\n",
            "48000/48000 [==============================] - 1s 11us/step - loss: 0.0518 - categorical_accuracy: 0.9851 - val_loss: 0.1189 - val_categorical_accuracy: 0.9663\n",
            "Epoch 40/50\n",
            "48000/48000 [==============================] - 1s 11us/step - loss: 0.0507 - categorical_accuracy: 0.9855 - val_loss: 0.1138 - val_categorical_accuracy: 0.9666\n",
            "Epoch 41/50\n",
            "48000/48000 [==============================] - 1s 11us/step - loss: 0.0476 - categorical_accuracy: 0.9870 - val_loss: 0.1120 - val_categorical_accuracy: 0.9688\n",
            "Epoch 42/50\n",
            "48000/48000 [==============================] - 1s 11us/step - loss: 0.0456 - categorical_accuracy: 0.9871 - val_loss: 0.1200 - val_categorical_accuracy: 0.9658\n",
            "Epoch 43/50\n",
            "48000/48000 [==============================] - 1s 11us/step - loss: 0.0464 - categorical_accuracy: 0.9867 - val_loss: 0.1185 - val_categorical_accuracy: 0.9668\n",
            "Epoch 44/50\n",
            "48000/48000 [==============================] - 1s 11us/step - loss: 0.0445 - categorical_accuracy: 0.9872 - val_loss: 0.1150 - val_categorical_accuracy: 0.9686\n",
            "Epoch 45/50\n",
            "48000/48000 [==============================] - 1s 11us/step - loss: 0.0443 - categorical_accuracy: 0.9870 - val_loss: 0.1125 - val_categorical_accuracy: 0.9692\n",
            "Epoch 46/50\n",
            "48000/48000 [==============================] - 1s 11us/step - loss: 0.0407 - categorical_accuracy: 0.9886 - val_loss: 0.1123 - val_categorical_accuracy: 0.9693\n",
            "Epoch 47/50\n",
            "48000/48000 [==============================] - 1s 11us/step - loss: 0.0402 - categorical_accuracy: 0.9881 - val_loss: 0.1181 - val_categorical_accuracy: 0.9678\n",
            "Epoch 48/50\n",
            "48000/48000 [==============================] - 1s 11us/step - loss: 0.0407 - categorical_accuracy: 0.9882 - val_loss: 0.1140 - val_categorical_accuracy: 0.9692\n",
            "Epoch 49/50\n",
            "48000/48000 [==============================] - 1s 11us/step - loss: 0.0384 - categorical_accuracy: 0.9891 - val_loss: 0.1155 - val_categorical_accuracy: 0.9681\n",
            "Epoch 50/50\n",
            "48000/48000 [==============================] - 1s 11us/step - loss: 0.0385 - categorical_accuracy: 0.9887 - val_loss: 0.1164 - val_categorical_accuracy: 0.9675\n"
          ],
          "name": "stdout"
        }
      ]
    },
    {
      "cell_type": "markdown",
      "metadata": {
        "id": "Qo7I5_gAW_FT",
        "colab_type": "text"
      },
      "source": [
        "From the comperisson of the training loss and the validation loss we can estimate the performance of the network. Remember that the final goal is generalization, the important quantity which we are trying to minimize is therefore the validation loss/accurarcy."
      ]
    },
    {
      "cell_type": "code",
      "metadata": {
        "id": "B1AZ0vSvSfu9",
        "colab_type": "code",
        "outputId": "22e4e36f-7bcb-45ba-bed3-b1550bd3281e",
        "colab": {
          "base_uri": "https://localhost:8080/",
          "height": 573
        }
      },
      "source": [
        "# Plot training & validation accuracy values\n",
        "plt.plot(history.history['categorical_accuracy'])\n",
        "plt.plot(history.history['val_categorical_accuracy'])\n",
        "plt.title('Model accuracy')\n",
        "plt.ylabel('Accuracy')\n",
        "plt.xlabel('Epoch')\n",
        "plt.legend(['Train', 'Test'], loc='upper left')\n",
        "plt.show()\n",
        "\n",
        "# Plot training & validation loss values\n",
        "plt.plot(history.history['loss'])\n",
        "plt.plot(history.history['val_loss'])\n",
        "plt.title('Model loss')\n",
        "plt.ylabel('Loss')\n",
        "plt.xlabel('Epoch')\n",
        "plt.legend(['Train', 'Test'], loc='upper left')\n",
        "plt.show()"
      ],
      "execution_count": 0,
      "outputs": [
        {
          "output_type": "display_data",
          "data": {
            "image/png": "[encoded data removed]",
            "text/plain": [
              "<Figure size 432x288 with 1 Axes>"
            ]
          },
          "metadata": {
            "tags": []
          }
        },
        {
          "output_type": "display_data",
          "data": {
            "image/png": "[encoded data removed]",
            "text/plain": [
              "<Figure size 432x288 with 1 Axes>"
            ]
          },
          "metadata": {
            "tags": []
          }
        }
      ]
    },
    {
      "cell_type": "markdown",
      "metadata": {
        "id": "Vh85piCzYGkk",
        "colab_type": "text"
      },
      "source": [
        "From this we can see that the model starts to performs better on the training data (overfitting) after about 10 epochs. After ~27 epochs there is no performance increase on the validation set. We rebuild the model and train on the full set for the final evaluation (no validation set). We stop the training after 27 epochs to approximitaly reach the point of best performance."
      ]
    },
    {
      "cell_type": "code",
      "metadata": {
        "id": "W6qt1TI_Y3ym",
        "colab_type": "code",
        "outputId": "bb09dee3-020a-403b-b648-a2bec4ef8756",
        "colab": {
          "base_uri": "https://localhost:8080/",
          "height": 953
        }
      },
      "source": [
        "img = Input((28, 28, 1))\n",
        "x = Flatten()(img)\n",
        "x = Dense(64, activation=\"relu\")(x)\n",
        "x = Dense(10, activation=\"softmax\")(x)\n",
        "model = Model(img, x)\n",
        "opt = Adam(0.001)\n",
        "model.compile(loss=\"categorical_crossentropy\",optimizer=opt, metrics=[\"categorical_accuracy\"])\n",
        "history = model.fit(norm_x_train, categorical_y_train, epochs=27, batch_size=512, validation_split=0)"
      ],
      "execution_count": 0,
      "outputs": [
        {
          "output_type": "stream",
          "text": [
            "Epoch 1/27\n",
            "60000/60000 [==============================] - 1s 12us/step - loss: 0.6643 - categorical_accuracy: 0.7998\n",
            "Epoch 2/27\n",
            "60000/60000 [==============================] - 1s 9us/step - loss: 0.3094 - categorical_accuracy: 0.9117\n",
            "Epoch 3/27\n",
            "60000/60000 [==============================] - 1s 10us/step - loss: 0.2615 - categorical_accuracy: 0.9246\n",
            "Epoch 4/27\n",
            "60000/60000 [==============================] - 1s 9us/step - loss: 0.2292 - categorical_accuracy: 0.9348\n",
            "Epoch 5/27\n",
            "60000/60000 [==============================] - 1s 10us/step - loss: 0.2026 - categorical_accuracy: 0.9412\n",
            "Epoch 6/27\n",
            "60000/60000 [==============================] - 1s 10us/step - loss: 0.1826 - categorical_accuracy: 0.9469\n",
            "Epoch 7/27\n",
            "60000/60000 [==============================] - 1s 9us/step - loss: 0.1657 - categorical_accuracy: 0.9522\n",
            "Epoch 8/27\n",
            "60000/60000 [==============================] - 1s 10us/step - loss: 0.1525 - categorical_accuracy: 0.9554\n",
            "Epoch 9/27\n",
            "60000/60000 [==============================] - 1s 10us/step - loss: 0.1393 - categorical_accuracy: 0.9603\n",
            "Epoch 10/27\n",
            "60000/60000 [==============================] - 1s 10us/step - loss: 0.1306 - categorical_accuracy: 0.9622\n",
            "Epoch 11/27\n",
            "60000/60000 [==============================] - 1s 9us/step - loss: 0.1206 - categorical_accuracy: 0.9655\n",
            "Epoch 12/27\n",
            "60000/60000 [==============================] - 1s 10us/step - loss: 0.1141 - categorical_accuracy: 0.9670\n",
            "Epoch 13/27\n",
            "60000/60000 [==============================] - 1s 10us/step - loss: 0.1076 - categorical_accuracy: 0.9691\n",
            "Epoch 14/27\n",
            "60000/60000 [==============================] - 1s 10us/step - loss: 0.1021 - categorical_accuracy: 0.9706\n",
            "Epoch 15/27\n",
            "60000/60000 [==============================] - 1s 10us/step - loss: 0.0967 - categorical_accuracy: 0.9715\n",
            "Epoch 16/27\n",
            "60000/60000 [==============================] - 1s 9us/step - loss: 0.0916 - categorical_accuracy: 0.9739\n",
            "Epoch 17/27\n",
            "60000/60000 [==============================] - 1s 10us/step - loss: 0.0863 - categorical_accuracy: 0.9758\n",
            "Epoch 18/27\n",
            "60000/60000 [==============================] - 1s 10us/step - loss: 0.0838 - categorical_accuracy: 0.9762\n",
            "Epoch 19/27\n",
            "60000/60000 [==============================] - 1s 10us/step - loss: 0.0804 - categorical_accuracy: 0.9766\n",
            "Epoch 20/27\n",
            "60000/60000 [==============================] - 1s 9us/step - loss: 0.0762 - categorical_accuracy: 0.9779\n",
            "Epoch 21/27\n",
            "60000/60000 [==============================] - 1s 10us/step - loss: 0.0735 - categorical_accuracy: 0.9787\n",
            "Epoch 22/27\n",
            "60000/60000 [==============================] - 1s 10us/step - loss: 0.0712 - categorical_accuracy: 0.9790\n",
            "Epoch 23/27\n",
            "60000/60000 [==============================] - 1s 9us/step - loss: 0.0675 - categorical_accuracy: 0.9804\n",
            "Epoch 24/27\n",
            "60000/60000 [==============================] - 1s 10us/step - loss: 0.0658 - categorical_accuracy: 0.9808\n",
            "Epoch 25/27\n",
            "60000/60000 [==============================] - 1s 9us/step - loss: 0.0624 - categorical_accuracy: 0.9820\n",
            "Epoch 26/27\n",
            "60000/60000 [==============================] - 1s 12us/step - loss: 0.0589 - categorical_accuracy: 0.9833\n",
            "Epoch 27/27\n",
            "60000/60000 [==============================] - 1s 10us/step - loss: 0.0600 - categorical_accuracy: 0.9822\n"
          ],
          "name": "stdout"
        }
      ]
    },
    {
      "cell_type": "code",
      "metadata": {
        "id": "J7Ybt2ZnRfOU",
        "colab_type": "code",
        "outputId": "c8afc542-6e70-4c7e-9142-8abab5c5fc5e",
        "colab": {
          "base_uri": "https://localhost:8080/",
          "height": 52
        }
      },
      "source": [
        "model.evaluate(norm_x_test, categorical_y_test)"
      ],
      "execution_count": 0,
      "outputs": [
        {
          "output_type": "stream",
          "text": [
            "10000/10000 [==============================] - 0s 43us/step\n"
          ],
          "name": "stdout"
        },
        {
          "output_type": "execute_result",
          "data": {
            "text/plain": [
              "[0.09878031772896648, 0.9715]"
            ]
          },
          "metadata": {
            "tags": []
          },
          "execution_count": 18
        }
      ]
    },
    {
      "cell_type": "markdown",
      "metadata": {
        "id": "xXNIxjkcaZZk",
        "colab_type": "text"
      },
      "source": [
        "This is already a very good result for this approach. But can we do better?"
      ]
    },
    {
      "cell_type": "markdown",
      "metadata": {
        "id": "dbhIux0Xaklq",
        "colab_type": "text"
      },
      "source": [
        "## Convolutional Neural Network"
      ]
    },
    {
      "cell_type": "code",
      "metadata": {
        "id": "SYpynk8qoi0K",
        "colab_type": "code",
        "colab": {}
      },
      "source": [
        "from keras.layers import MaxPooling2D, Conv2D, Dropout"
      ],
      "execution_count": 0,
      "outputs": []
    },
    {
      "cell_type": "markdown",
      "metadata": {
        "id": "fBDk-temfmc0",
        "colab_type": "text"
      },
      "source": [
        "Convolutional neural networks (CNN) share parameters across space. The idea is that spatially close pixels are stronger related than distant pixels. The image is estimated step by step where the spatial dimensionality is consecutively reduced whilst the depth is increased. This corresponds to a transformation into the feature space of the image, where there is no spatial information.\n",
        "\n",
        "The most important terms are:\n",
        "*   Filters\n",
        "*   Kernel\n",
        "*   Striding\n",
        "*   Padding\n",
        "\n"
      ]
    },
    {
      "cell_type": "code",
      "metadata": {
        "id": "-NeeiKq4ivbx",
        "colab_type": "code",
        "outputId": "d8211aa0-1245-4ec0-aad5-26141e77a312",
        "colab": {
          "base_uri": "https://localhost:8080/",
          "height": 421
        }
      },
      "source": [
        "#@title Introducing CNN { vertical-output: true, display-mode: \"code\" }\n",
        "#@markdown This is a very good introduction to convolutional neural networks\n",
        "from IPython.display import YouTubeVideo\n",
        "YouTubeVideo('ISHGyvsT0QY', width=600, height=400)"
      ],
      "execution_count": 1,
      "outputs": [
        {
          "output_type": "execute_result",
          "data": {
            "text/html": [
              "\n",
              "        <iframe\n",
              "            width=\"600\"\n",
              "            height=\"400\"\n",
              "            src=\"https://www.youtube.com/embed/ISHGyvsT0QY\"\n",
              "            frameborder=\"0\"\n",
              "            allowfullscreen\n",
              "        ></iframe>\n",
              "        "
            ],
            "text/plain": [
              "<IPython.lib.display.YouTubeVideo at 0x7fa0903ac7b8>"
            ],
            "image/jpeg": "[encoded data removed]"
          },
          "metadata": {
            "tags": []
          },
          "execution_count": 1
        }
      ]
    },
    {
      "cell_type": "markdown",
      "metadata": {
        "id": "H83fuKn9nVeK",
        "colab_type": "text"
      },
      "source": [
        "We can reduce spatial dimensions either by striding or pooling (presentation on blackboard).\n",
        "\n",
        "In our next approach we are including the spatial relations to increase the model performance. We start with a few Convolutional layers and reduce the dimensionalty with a single pooling layer before we continue with a fully-connected network (Flatten + Dense layers)."
      ]
    },
    {
      "cell_type": "code",
      "metadata": {
        "id": "XN3qTqoBcZ3E",
        "colab_type": "code",
        "outputId": "62a7eff6-c7d8-41d7-dd07-8cd028c93c25",
        "colab": {
          "base_uri": "https://localhost:8080/",
          "height": 1092
        }
      },
      "source": [
        "img = Input((28, 28, 1))\n",
        "x = Conv2D(32,3, padding=\"same\", activation=\"relu\")(img)\n",
        "x = Conv2D(64,3, padding=\"same\", activation=\"relu\")(x)\n",
        "x = MaxPooling2D()(x)\n",
        "x = Flatten()(x)\n",
        "x = Dense(128, activation=\"relu\")(x)\n",
        "x = Dense(10, activation=\"softmax\")(x)\n",
        "model = Model(img, x)\n",
        "\n",
        "model.summary()\n",
        "\n",
        "opt = Adam(0.001)\n",
        "model.compile(loss=\"categorical_crossentropy\",optimizer=opt, metrics=[\"categorical_accuracy\"])\n",
        "history = model.fit(norm_x_train, categorical_y_train, epochs=20, batch_size=512, validation_split=0.2)"
      ],
      "execution_count": 0,
      "outputs": [
        {
          "output_type": "stream",
          "text": [
            "_________________________________________________________________\n",
            "Layer (type)                 Output Shape              Param #   \n",
            "=================================================================\n",
            "input_3 (InputLayer)         (None, 28, 28, 1)         0         \n",
            "_________________________________________________________________\n",
            "conv2d_1 (Conv2D)            (None, 28, 28, 32)        320       \n",
            "_________________________________________________________________\n",
            "conv2d_2 (Conv2D)            (None, 28, 28, 64)        18496     \n",
            "_________________________________________________________________\n",
            "max_pooling2d_1 (MaxPooling2 (None, 14, 14, 64)        0         \n",
            "_________________________________________________________________\n",
            "flatten_3 (Flatten)          (None, 12544)             0         \n",
            "_________________________________________________________________\n",
            "dense_5 (Dense)              (None, 128)               1605760   \n",
            "_________________________________________________________________\n",
            "dense_6 (Dense)              (None, 10)                1290      \n",
            "=================================================================\n",
            "Total params: 1,625,866\n",
            "Trainable params: 1,625,866\n",
            "Non-trainable params: 0\n",
            "_________________________________________________________________\n",
            "Train on 48000 samples, validate on 12000 samples\n",
            "Epoch 1/20\n",
            "48000/48000 [==============================] - 6s 130us/step - loss: 0.4510 - categorical_accuracy: 0.8690 - val_loss: 0.1210 - val_categorical_accuracy: 0.9656\n",
            "Epoch 2/20\n",
            "48000/48000 [==============================] - 3s 58us/step - loss: 0.0931 - categorical_accuracy: 0.9724 - val_loss: 0.0754 - val_categorical_accuracy: 0.9787\n",
            "Epoch 3/20\n",
            "48000/48000 [==============================] - 3s 58us/step - loss: 0.0611 - categorical_accuracy: 0.9810 - val_loss: 0.0590 - val_categorical_accuracy: 0.9819\n",
            "Epoch 4/20\n",
            "48000/48000 [==============================] - 3s 58us/step - loss: 0.0464 - categorical_accuracy: 0.9857 - val_loss: 0.0512 - val_categorical_accuracy: 0.9846\n",
            "Epoch 5/20\n",
            "48000/48000 [==============================] - 3s 58us/step - loss: 0.0357 - categorical_accuracy: 0.9890 - val_loss: 0.0574 - val_categorical_accuracy: 0.9838\n",
            "Epoch 6/20\n",
            "48000/48000 [==============================] - 3s 58us/step - loss: 0.0286 - categorical_accuracy: 0.9910 - val_loss: 0.0462 - val_categorical_accuracy: 0.9864\n",
            "Epoch 7/20\n",
            "48000/48000 [==============================] - 3s 58us/step - loss: 0.0239 - categorical_accuracy: 0.9928 - val_loss: 0.0518 - val_categorical_accuracy: 0.9862\n",
            "Epoch 8/20\n",
            "48000/48000 [==============================] - 3s 58us/step - loss: 0.0188 - categorical_accuracy: 0.9944 - val_loss: 0.0515 - val_categorical_accuracy: 0.9859\n",
            "Epoch 9/20\n",
            "48000/48000 [==============================] - 3s 58us/step - loss: 0.0143 - categorical_accuracy: 0.9957 - val_loss: 0.0435 - val_categorical_accuracy: 0.9878\n",
            "Epoch 10/20\n",
            "48000/48000 [==============================] - 3s 58us/step - loss: 0.0116 - categorical_accuracy: 0.9964 - val_loss: 0.0491 - val_categorical_accuracy: 0.9873\n",
            "Epoch 11/20\n",
            "48000/48000 [==============================] - 3s 59us/step - loss: 0.0090 - categorical_accuracy: 0.9975 - val_loss: 0.0460 - val_categorical_accuracy: 0.9866\n",
            "Epoch 12/20\n",
            "48000/48000 [==============================] - 3s 58us/step - loss: 0.0083 - categorical_accuracy: 0.9976 - val_loss: 0.0489 - val_categorical_accuracy: 0.9872\n",
            "Epoch 13/20\n",
            "48000/48000 [==============================] - 3s 58us/step - loss: 0.0059 - categorical_accuracy: 0.9983 - val_loss: 0.0521 - val_categorical_accuracy: 0.9873\n",
            "Epoch 14/20\n",
            "48000/48000 [==============================] - 3s 58us/step - loss: 0.0043 - categorical_accuracy: 0.9988 - val_loss: 0.0546 - val_categorical_accuracy: 0.9869\n",
            "Epoch 15/20\n",
            "48000/48000 [==============================] - 3s 59us/step - loss: 0.0049 - categorical_accuracy: 0.9985 - val_loss: 0.0509 - val_categorical_accuracy: 0.9885\n",
            "Epoch 16/20\n",
            "48000/48000 [==============================] - 3s 58us/step - loss: 0.0032 - categorical_accuracy: 0.9992 - val_loss: 0.0540 - val_categorical_accuracy: 0.9866\n",
            "Epoch 17/20\n",
            "48000/48000 [==============================] - 3s 58us/step - loss: 0.0032 - categorical_accuracy: 0.9991 - val_loss: 0.0600 - val_categorical_accuracy: 0.9856\n",
            "Epoch 18/20\n",
            "48000/48000 [==============================] - 3s 58us/step - loss: 0.0051 - categorical_accuracy: 0.9983 - val_loss: 0.0564 - val_categorical_accuracy: 0.9876\n",
            "Epoch 19/20\n",
            "48000/48000 [==============================] - 3s 59us/step - loss: 0.0043 - categorical_accuracy: 0.9986 - val_loss: 0.0568 - val_categorical_accuracy: 0.9878\n",
            "Epoch 20/20\n",
            "48000/48000 [==============================] - 3s 59us/step - loss: 0.0056 - categorical_accuracy: 0.9981 - val_loss: 0.0635 - val_categorical_accuracy: 0.9862\n"
          ],
          "name": "stdout"
        }
      ]
    },
    {
      "cell_type": "code",
      "metadata": {
        "id": "HhQHTr3xo_XE",
        "colab_type": "code",
        "outputId": "3fbf5960-276b-443a-dd0a-6eb3a2654980",
        "colab": {
          "base_uri": "https://localhost:8080/",
          "height": 295
        }
      },
      "source": [
        "# Plot training & validation loss values\n",
        "plt.plot(history.history['loss'])\n",
        "plt.plot(history.history['val_loss'])\n",
        "plt.title('Model loss')\n",
        "plt.ylabel('Loss')\n",
        "plt.xlabel('Epoch')\n",
        "plt.legend(['Train', 'Test'], loc='upper left')\n",
        "plt.show()"
      ],
      "execution_count": 0,
      "outputs": [
        {
          "output_type": "display_data",
          "data": {
            "image/png": "[encoded data removed]",
            "text/plain": [
              "<Figure size 432x288 with 1 Axes>"
            ]
          },
          "metadata": {
            "tags": []
          }
        }
      ]
    },
    {
      "cell_type": "markdown",
      "metadata": {
        "id": "VfG1U7ZXpGJF",
        "colab_type": "text"
      },
      "source": [
        "Overfitting is one of the major problems in deep learning. As can be seen from the validation loss the network starts to memorize the training data.\n",
        "This can be prevented either by limiting the model complexity or by using more data.\n",
        "\n",
        "The commonly used steps to circumvent this are:\n",
        "*   Change Architecture\n",
        "*   Data augmentation\n",
        "*   Weight decay (L1/L2)\n",
        "*   Dropout\n",
        "*   Early stopping\n",
        "\n",
        "We have already applied early stopping by limiting the training epochs, now we add additional dropout layers which randomly switch off connections within the network. With this technique the network learns to find multiple paths which lead to a solution, this improves the performance and the generalization."
      ]
    },
    {
      "cell_type": "code",
      "metadata": {
        "id": "dRUrdailrVKz",
        "colab_type": "code",
        "outputId": "e8c9f38c-0955-4863-fbfe-6e850e2908f4",
        "colab": {
          "base_uri": "https://localhost:8080/",
          "height": 1907
        }
      },
      "source": [
        "img = Input((28, 28, 1))\n",
        "x = Conv2D(32,3, padding=\"same\", activation=\"relu\")(img)\n",
        "x = Dropout(0.3)(x)\n",
        "x = Conv2D(64,3, padding=\"same\", activation=\"relu\")(x)\n",
        "x = MaxPooling2D()(x)\n",
        "x = Flatten()(x)\n",
        "x = Dropout(0.5)(x)\n",
        "x = Dense(128, activation=\"relu\")(x)\n",
        "x = Dense(10, activation=\"softmax\")(x)\n",
        "model = Model(img, x)\n",
        "\n",
        "model.summary()\n",
        "\n",
        "opt = Adam(0.0005)\n",
        "model.compile(loss=\"categorical_crossentropy\",optimizer=opt, metrics=[\"categorical_accuracy\"])\n",
        "history = model.fit(norm_x_train, categorical_y_train, epochs=40, batch_size=512, validation_split=0.2)"
      ],
      "execution_count": 0,
      "outputs": [
        {
          "output_type": "stream",
          "text": [
            "WARNING:tensorflow:From /usr/local/lib/python3.6/dist-packages/keras/backend/tensorflow_backend.py:3445: calling dropout (from tensorflow.python.ops.nn_ops) with keep_prob is deprecated and will be removed in a future version.\n",
            "Instructions for updating:\n",
            "Please use `rate` instead of `keep_prob`. Rate should be set to `rate = 1 - keep_prob`.\n",
            "_________________________________________________________________\n",
            "Layer (type)                 Output Shape              Param #   \n",
            "=================================================================\n",
            "input_4 (InputLayer)         (None, 28, 28, 1)         0         \n",
            "_________________________________________________________________\n",
            "conv2d_3 (Conv2D)            (None, 28, 28, 32)        320       \n",
            "_________________________________________________________________\n",
            "dropout_1 (Dropout)          (None, 28, 28, 32)        0         \n",
            "_________________________________________________________________\n",
            "conv2d_4 (Conv2D)            (None, 28, 28, 64)        18496     \n",
            "_________________________________________________________________\n",
            "max_pooling2d_2 (MaxPooling2 (None, 14, 14, 64)        0         \n",
            "_________________________________________________________________\n",
            "flatten_4 (Flatten)          (None, 12544)             0         \n",
            "_________________________________________________________________\n",
            "dropout_2 (Dropout)          (None, 12544)             0         \n",
            "_________________________________________________________________\n",
            "dense_7 (Dense)              (None, 128)               1605760   \n",
            "_________________________________________________________________\n",
            "dense_8 (Dense)              (None, 10)                1290      \n",
            "=================================================================\n",
            "Total params: 1,625,866\n",
            "Trainable params: 1,625,866\n",
            "Non-trainable params: 0\n",
            "_________________________________________________________________\n",
            "Train on 48000 samples, validate on 12000 samples\n",
            "Epoch 1/40\n",
            "48000/48000 [==============================] - 4s 87us/step - loss: 0.6300 - categorical_accuracy: 0.8162 - val_loss: 0.2205 - val_categorical_accuracy: 0.9377\n",
            "Epoch 2/40\n",
            "48000/48000 [==============================] - 4s 77us/step - loss: 0.1757 - categorical_accuracy: 0.9479 - val_loss: 0.1071 - val_categorical_accuracy: 0.9726\n",
            "Epoch 3/40\n",
            "48000/48000 [==============================] - 4s 78us/step - loss: 0.1085 - categorical_accuracy: 0.9677 - val_loss: 0.0772 - val_categorical_accuracy: 0.9790\n",
            "Epoch 4/40\n",
            "48000/48000 [==============================] - 4s 78us/step - loss: 0.0828 - categorical_accuracy: 0.9746 - val_loss: 0.0663 - val_categorical_accuracy: 0.9813\n",
            "Epoch 5/40\n",
            "48000/48000 [==============================] - 4s 78us/step - loss: 0.0707 - categorical_accuracy: 0.9784 - val_loss: 0.0558 - val_categorical_accuracy: 0.9844\n",
            "Epoch 6/40\n",
            "48000/48000 [==============================] - 4s 77us/step - loss: 0.0592 - categorical_accuracy: 0.9816 - val_loss: 0.0540 - val_categorical_accuracy: 0.9852\n",
            "Epoch 7/40\n",
            "48000/48000 [==============================] - 4s 78us/step - loss: 0.0523 - categorical_accuracy: 0.9834 - val_loss: 0.0494 - val_categorical_accuracy: 0.9869\n",
            "Epoch 8/40\n",
            "48000/48000 [==============================] - 4s 78us/step - loss: 0.0479 - categorical_accuracy: 0.9855 - val_loss: 0.0475 - val_categorical_accuracy: 0.9865\n",
            "Epoch 9/40\n",
            "48000/48000 [==============================] - 4s 78us/step - loss: 0.0423 - categorical_accuracy: 0.9869 - val_loss: 0.0447 - val_categorical_accuracy: 0.9881\n",
            "Epoch 10/40\n",
            "48000/48000 [==============================] - 4s 78us/step - loss: 0.0394 - categorical_accuracy: 0.9878 - val_loss: 0.0418 - val_categorical_accuracy: 0.9877\n",
            "Epoch 11/40\n",
            "48000/48000 [==============================] - 4s 78us/step - loss: 0.0368 - categorical_accuracy: 0.9881 - val_loss: 0.0414 - val_categorical_accuracy: 0.9882\n",
            "Epoch 12/40\n",
            "48000/48000 [==============================] - 4s 78us/step - loss: 0.0342 - categorical_accuracy: 0.9889 - val_loss: 0.0407 - val_categorical_accuracy: 0.9885\n",
            "Epoch 13/40\n",
            "48000/48000 [==============================] - 4s 77us/step - loss: 0.0321 - categorical_accuracy: 0.9901 - val_loss: 0.0416 - val_categorical_accuracy: 0.9884\n",
            "Epoch 14/40\n",
            "48000/48000 [==============================] - 4s 77us/step - loss: 0.0290 - categorical_accuracy: 0.9908 - val_loss: 0.0394 - val_categorical_accuracy: 0.9881\n",
            "Epoch 15/40\n",
            "48000/48000 [==============================] - 4s 77us/step - loss: 0.0262 - categorical_accuracy: 0.9914 - val_loss: 0.0398 - val_categorical_accuracy: 0.9893\n",
            "Epoch 16/40\n",
            "48000/48000 [==============================] - 4s 77us/step - loss: 0.0246 - categorical_accuracy: 0.9921 - val_loss: 0.0384 - val_categorical_accuracy: 0.9891\n",
            "Epoch 17/40\n",
            "48000/48000 [==============================] - 4s 77us/step - loss: 0.0237 - categorical_accuracy: 0.9922 - val_loss: 0.0402 - val_categorical_accuracy: 0.9892\n",
            "Epoch 18/40\n",
            "48000/48000 [==============================] - 4s 77us/step - loss: 0.0208 - categorical_accuracy: 0.9930 - val_loss: 0.0367 - val_categorical_accuracy: 0.9897\n",
            "Epoch 19/40\n",
            "48000/48000 [==============================] - 4s 77us/step - loss: 0.0196 - categorical_accuracy: 0.9934 - val_loss: 0.0385 - val_categorical_accuracy: 0.9888\n",
            "Epoch 20/40\n",
            "48000/48000 [==============================] - 4s 77us/step - loss: 0.0194 - categorical_accuracy: 0.9929 - val_loss: 0.0365 - val_categorical_accuracy: 0.9888\n",
            "Epoch 21/40\n",
            "48000/48000 [==============================] - 4s 77us/step - loss: 0.0179 - categorical_accuracy: 0.9945 - val_loss: 0.0390 - val_categorical_accuracy: 0.9893\n",
            "Epoch 22/40\n",
            "48000/48000 [==============================] - 4s 77us/step - loss: 0.0163 - categorical_accuracy: 0.9942 - val_loss: 0.0363 - val_categorical_accuracy: 0.9901\n",
            "Epoch 23/40\n",
            "48000/48000 [==============================] - 4s 77us/step - loss: 0.0147 - categorical_accuracy: 0.9949 - val_loss: 0.0348 - val_categorical_accuracy: 0.9908\n",
            "Epoch 24/40\n",
            "48000/48000 [==============================] - 4s 77us/step - loss: 0.0155 - categorical_accuracy: 0.9944 - val_loss: 0.0365 - val_categorical_accuracy: 0.9900\n",
            "Epoch 25/40\n",
            "48000/48000 [==============================] - 4s 77us/step - loss: 0.0134 - categorical_accuracy: 0.9960 - val_loss: 0.0344 - val_categorical_accuracy: 0.9906\n",
            "Epoch 26/40\n",
            "48000/48000 [==============================] - 4s 77us/step - loss: 0.0135 - categorical_accuracy: 0.9952 - val_loss: 0.0347 - val_categorical_accuracy: 0.9905\n",
            "Epoch 27/40\n",
            "48000/48000 [==============================] - 4s 77us/step - loss: 0.0120 - categorical_accuracy: 0.9957 - val_loss: 0.0382 - val_categorical_accuracy: 0.9897\n",
            "Epoch 28/40\n",
            "48000/48000 [==============================] - 4s 77us/step - loss: 0.0109 - categorical_accuracy: 0.9962 - val_loss: 0.0371 - val_categorical_accuracy: 0.9903\n",
            "Epoch 29/40\n",
            "48000/48000 [==============================] - 4s 77us/step - loss: 0.0112 - categorical_accuracy: 0.9960 - val_loss: 0.0419 - val_categorical_accuracy: 0.9894\n",
            "Epoch 30/40\n",
            "48000/48000 [==============================] - 4s 77us/step - loss: 0.0103 - categorical_accuracy: 0.9965 - val_loss: 0.0341 - val_categorical_accuracy: 0.9908\n",
            "Epoch 31/40\n",
            "48000/48000 [==============================] - 4s 77us/step - loss: 0.0089 - categorical_accuracy: 0.9971 - val_loss: 0.0356 - val_categorical_accuracy: 0.9903\n",
            "Epoch 32/40\n",
            "48000/48000 [==============================] - 4s 77us/step - loss: 0.0085 - categorical_accuracy: 0.9969 - val_loss: 0.0371 - val_categorical_accuracy: 0.9913\n",
            "Epoch 33/40\n",
            "48000/48000 [==============================] - 4s 77us/step - loss: 0.0092 - categorical_accuracy: 0.9967 - val_loss: 0.0365 - val_categorical_accuracy: 0.9908\n",
            "Epoch 34/40\n",
            "48000/48000 [==============================] - 4s 77us/step - loss: 0.0085 - categorical_accuracy: 0.9971 - val_loss: 0.0379 - val_categorical_accuracy: 0.9908\n",
            "Epoch 35/40\n",
            "48000/48000 [==============================] - 4s 77us/step - loss: 0.0073 - categorical_accuracy: 0.9974 - val_loss: 0.0379 - val_categorical_accuracy: 0.9903\n",
            "Epoch 36/40\n",
            "48000/48000 [==============================] - 4s 77us/step - loss: 0.0069 - categorical_accuracy: 0.9976 - val_loss: 0.0379 - val_categorical_accuracy: 0.9905\n",
            "Epoch 37/40\n",
            "48000/48000 [==============================] - 4s 77us/step - loss: 0.0073 - categorical_accuracy: 0.9973 - val_loss: 0.0373 - val_categorical_accuracy: 0.9913\n",
            "Epoch 38/40\n",
            "48000/48000 [==============================] - 4s 77us/step - loss: 0.0076 - categorical_accuracy: 0.9972 - val_loss: 0.0380 - val_categorical_accuracy: 0.9901\n",
            "Epoch 39/40\n",
            "48000/48000 [==============================] - 4s 77us/step - loss: 0.0071 - categorical_accuracy: 0.9974 - val_loss: 0.0379 - val_categorical_accuracy: 0.9902\n",
            "Epoch 40/40\n",
            "48000/48000 [==============================] - 4s 77us/step - loss: 0.0057 - categorical_accuracy: 0.9980 - val_loss: 0.0453 - val_categorical_accuracy: 0.9897\n"
          ],
          "name": "stdout"
        }
      ]
    },
    {
      "cell_type": "code",
      "metadata": {
        "id": "VpwJAi_sr_cT",
        "colab_type": "code",
        "outputId": "21a0dfd1-8c9a-4d49-f537-37eeaf9f1b12",
        "colab": {
          "base_uri": "https://localhost:8080/",
          "height": 295
        }
      },
      "source": [
        "# Plot training & validation loss values\n",
        "plt.plot(history.history['loss'])\n",
        "plt.plot(history.history['val_loss'])\n",
        "plt.title('Model loss')\n",
        "plt.ylabel('Loss')\n",
        "plt.xlabel('Epoch')\n",
        "plt.legend(['Train', 'Test'], loc='upper left')\n",
        "plt.show()"
      ],
      "execution_count": 0,
      "outputs": [
        {
          "output_type": "display_data",
          "data": {
            "image/png": "[encoded data removed]",
            "text/plain": [
              "<Figure size 432x288 with 1 Axes>"
            ]
          },
          "metadata": {
            "tags": []
          }
        }
      ]
    },
    {
      "cell_type": "markdown",
      "metadata": {
        "id": "_rghYM4rsaoy",
        "colab_type": "text"
      },
      "source": [
        "With this the training and validation loss decrease gradually together. Lets train the model on the full training set for the final prediction."
      ]
    },
    {
      "cell_type": "code",
      "metadata": {
        "id": "UAL1Vcjbtc2j",
        "colab_type": "code",
        "outputId": "03699679-c8bb-4431-8e91-5ae1fca3b2e7",
        "colab": {
          "base_uri": "https://localhost:8080/",
          "height": 1837
        }
      },
      "source": [
        "img = Input((28, 28, 1))\n",
        "x = Conv2D(32,3, padding=\"same\", activation=\"relu\")(img)\n",
        "x = Dropout(0.3)(x)\n",
        "x = Conv2D(64,3, padding=\"same\", activation=\"relu\")(x)\n",
        "x = MaxPooling2D()(x)\n",
        "x = Flatten()(x)\n",
        "x = Dropout(0.5)(x)\n",
        "x = Dense(128, activation=\"relu\")(x)\n",
        "x = Dense(10, activation=\"softmax\")(x)\n",
        "model = Model(img, x)\n",
        "\n",
        "model.summary()\n",
        "\n",
        "opt = Adam(0.0005)\n",
        "model.compile(loss=\"categorical_crossentropy\",optimizer=opt, metrics=[\"categorical_accuracy\"])\n",
        "history = model.fit(norm_x_train, categorical_y_train, epochs=40, batch_size=512, validation_split=0)"
      ],
      "execution_count": 0,
      "outputs": [
        {
          "output_type": "stream",
          "text": [
            "_________________________________________________________________\n",
            "Layer (type)                 Output Shape              Param #   \n",
            "=================================================================\n",
            "input_5 (InputLayer)         (None, 28, 28, 1)         0         \n",
            "_________________________________________________________________\n",
            "conv2d_5 (Conv2D)            (None, 28, 28, 32)        320       \n",
            "_________________________________________________________________\n",
            "dropout_3 (Dropout)          (None, 28, 28, 32)        0         \n",
            "_________________________________________________________________\n",
            "conv2d_6 (Conv2D)            (None, 28, 28, 64)        18496     \n",
            "_________________________________________________________________\n",
            "max_pooling2d_3 (MaxPooling2 (None, 14, 14, 64)        0         \n",
            "_________________________________________________________________\n",
            "flatten_5 (Flatten)          (None, 12544)             0         \n",
            "_________________________________________________________________\n",
            "dropout_4 (Dropout)          (None, 12544)             0         \n",
            "_________________________________________________________________\n",
            "dense_9 (Dense)              (None, 128)               1605760   \n",
            "_________________________________________________________________\n",
            "dense_10 (Dense)             (None, 10)                1290      \n",
            "=================================================================\n",
            "Total params: 1,625,866\n",
            "Trainable params: 1,625,866\n",
            "Non-trainable params: 0\n",
            "_________________________________________________________________\n",
            "Epoch 1/40\n",
            "60000/60000 [==============================] - 5s 81us/step - loss: 0.5918 - categorical_accuracy: 0.8212\n",
            "Epoch 2/40\n",
            "60000/60000 [==============================] - 4s 73us/step - loss: 0.1594 - categorical_accuracy: 0.9522\n",
            "Epoch 3/40\n",
            "60000/60000 [==============================] - 4s 73us/step - loss: 0.1047 - categorical_accuracy: 0.9685\n",
            "Epoch 4/40\n",
            "60000/60000 [==============================] - 4s 73us/step - loss: 0.0809 - categorical_accuracy: 0.9759\n",
            "Epoch 5/40\n",
            "60000/60000 [==============================] - 4s 74us/step - loss: 0.0675 - categorical_accuracy: 0.9794\n",
            "Epoch 6/40\n",
            "60000/60000 [==============================] - 4s 73us/step - loss: 0.0603 - categorical_accuracy: 0.9812\n",
            "Epoch 7/40\n",
            "60000/60000 [==============================] - 4s 72us/step - loss: 0.0512 - categorical_accuracy: 0.9844\n",
            "Epoch 8/40\n",
            "60000/60000 [==============================] - 4s 72us/step - loss: 0.0453 - categorical_accuracy: 0.9861\n",
            "Epoch 9/40\n",
            "60000/60000 [==============================] - 4s 73us/step - loss: 0.0421 - categorical_accuracy: 0.9870\n",
            "Epoch 10/40\n",
            "60000/60000 [==============================] - 4s 72us/step - loss: 0.0381 - categorical_accuracy: 0.9880\n",
            "Epoch 11/40\n",
            "60000/60000 [==============================] - 4s 72us/step - loss: 0.0343 - categorical_accuracy: 0.9893\n",
            "Epoch 12/40\n",
            "60000/60000 [==============================] - 4s 72us/step - loss: 0.0307 - categorical_accuracy: 0.9901\n",
            "Epoch 13/40\n",
            "60000/60000 [==============================] - 4s 72us/step - loss: 0.0287 - categorical_accuracy: 0.9913\n",
            "Epoch 14/40\n",
            "60000/60000 [==============================] - 4s 73us/step - loss: 0.0259 - categorical_accuracy: 0.9915\n",
            "Epoch 15/40\n",
            "60000/60000 [==============================] - 4s 72us/step - loss: 0.0255 - categorical_accuracy: 0.9918\n",
            "Epoch 16/40\n",
            "60000/60000 [==============================] - 4s 72us/step - loss: 0.0233 - categorical_accuracy: 0.9924\n",
            "Epoch 17/40\n",
            "60000/60000 [==============================] - 4s 72us/step - loss: 0.0218 - categorical_accuracy: 0.9927\n",
            "Epoch 18/40\n",
            "60000/60000 [==============================] - 4s 72us/step - loss: 0.0212 - categorical_accuracy: 0.9929\n",
            "Epoch 19/40\n",
            "60000/60000 [==============================] - 4s 72us/step - loss: 0.0182 - categorical_accuracy: 0.9938\n",
            "Epoch 20/40\n",
            "60000/60000 [==============================] - 4s 72us/step - loss: 0.0183 - categorical_accuracy: 0.9938\n",
            "Epoch 21/40\n",
            "60000/60000 [==============================] - 4s 73us/step - loss: 0.0173 - categorical_accuracy: 0.9942\n",
            "Epoch 22/40\n",
            "60000/60000 [==============================] - 4s 72us/step - loss: 0.0164 - categorical_accuracy: 0.9943\n",
            "Epoch 23/40\n",
            "60000/60000 [==============================] - 4s 73us/step - loss: 0.0151 - categorical_accuracy: 0.9952\n",
            "Epoch 24/40\n",
            "60000/60000 [==============================] - 4s 72us/step - loss: 0.0152 - categorical_accuracy: 0.9945\n",
            "Epoch 25/40\n",
            "60000/60000 [==============================] - 4s 72us/step - loss: 0.0143 - categorical_accuracy: 0.9954\n",
            "Epoch 26/40\n",
            "60000/60000 [==============================] - 4s 72us/step - loss: 0.0136 - categorical_accuracy: 0.9953\n",
            "Epoch 27/40\n",
            "60000/60000 [==============================] - 4s 72us/step - loss: 0.0130 - categorical_accuracy: 0.9957\n",
            "Epoch 28/40\n",
            "60000/60000 [==============================] - 4s 72us/step - loss: 0.0116 - categorical_accuracy: 0.9961\n",
            "Epoch 29/40\n",
            "60000/60000 [==============================] - 4s 72us/step - loss: 0.0118 - categorical_accuracy: 0.9962\n",
            "Epoch 30/40\n",
            "60000/60000 [==============================] - 4s 72us/step - loss: 0.0106 - categorical_accuracy: 0.9967\n",
            "Epoch 31/40\n",
            "60000/60000 [==============================] - 4s 72us/step - loss: 0.0119 - categorical_accuracy: 0.9961\n",
            "Epoch 32/40\n",
            "60000/60000 [==============================] - 4s 72us/step - loss: 0.0100 - categorical_accuracy: 0.9967\n",
            "Epoch 33/40\n",
            "60000/60000 [==============================] - 4s 72us/step - loss: 0.0104 - categorical_accuracy: 0.9965\n",
            "Epoch 34/40\n",
            "60000/60000 [==============================] - 4s 72us/step - loss: 0.0094 - categorical_accuracy: 0.9967\n",
            "Epoch 35/40\n",
            "60000/60000 [==============================] - 4s 72us/step - loss: 0.0098 - categorical_accuracy: 0.9965\n",
            "Epoch 36/40\n",
            "60000/60000 [==============================] - 4s 72us/step - loss: 0.0078 - categorical_accuracy: 0.9974\n",
            "Epoch 37/40\n",
            "60000/60000 [==============================] - 4s 72us/step - loss: 0.0085 - categorical_accuracy: 0.9974\n",
            "Epoch 38/40\n",
            "60000/60000 [==============================] - 4s 72us/step - loss: 0.0084 - categorical_accuracy: 0.9974\n",
            "Epoch 39/40\n",
            "60000/60000 [==============================] - 4s 72us/step - loss: 0.0076 - categorical_accuracy: 0.9975\n",
            "Epoch 40/40\n",
            "60000/60000 [==============================] - 4s 72us/step - loss: 0.0077 - categorical_accuracy: 0.9974\n"
          ],
          "name": "stdout"
        }
      ]
    },
    {
      "cell_type": "code",
      "metadata": {
        "id": "dSkPY_UYuaz3",
        "colab_type": "code",
        "outputId": "4a46c465-fb5b-4921-b305-197808319c06",
        "colab": {
          "base_uri": "https://localhost:8080/",
          "height": 52
        }
      },
      "source": [
        "model.evaluate(norm_x_test, categorical_y_test)"
      ],
      "execution_count": 0,
      "outputs": [
        {
          "output_type": "stream",
          "text": [
            "10000/10000 [==============================] - 1s 70us/step\n"
          ],
          "name": "stdout"
        },
        {
          "output_type": "execute_result",
          "data": {
            "text/plain": [
              "[0.030920346066437922, 0.9916]"
            ]
          },
          "metadata": {
            "tags": []
          },
          "execution_count": 26
        }
      ]
    },
    {
      "cell_type": "markdown",
      "metadata": {
        "id": "qpFmbNg4t1f_",
        "colab_type": "text"
      },
      "source": [
        "Thus, the use of convolutional layers lead to an increas of about 2 percent in prediction accuracy."
      ]
    },
    {
      "cell_type": "markdown",
      "metadata": {
        "id": "Trvf6vLw80Tn",
        "colab_type": "text"
      },
      "source": [
        "# CIFAR"
      ]
    },
    {
      "cell_type": "markdown",
      "metadata": {
        "id": "iBdFHtAC-dhG",
        "colab_type": "text"
      },
      "source": [
        "![alt text](https://alexisbcook.github.io/assets/cifar10.png)"
      ]
    },
    {
      "cell_type": "markdown",
      "metadata": {
        "id": "a79Ti5ywwpGp",
        "colab_type": "text"
      },
      "source": [
        "**Choose your weapons!**\n",
        "\n",
        "\n",
        "\n",
        "```\n",
        "from keras.layers import Dense, Flatten, Conv2D, MaxPooling2D, AveragePooling2D, Dropout, Activation, BatchNormalization, GaussianNoise, SeparableConv2D\n",
        "from keras.optimizers import SGD, RMSprop, Adagrad, Adam, Adadelta, Adamax, Nadam\n",
        "```\n",
        "Change learning rate, batch size, loss and optimizer\n",
        "\n",
        "\n",
        "Activations: relu, sigmoid, tanh, elu\n",
        "\n",
        "```\n",
        "x = Activation(\"tanh\")(x)\n",
        "```\n",
        "\n",
        "Normalization for faster convergence (for images):\n",
        "\n",
        "```\n",
        "x = BatchNormalization()(x)\n",
        "```\n",
        "\n",
        "Striding instead of pooling:\n",
        "\n",
        "```\n",
        "x = Conv2D(... , strides=2)(img)\n",
        "```\n",
        "\n",
        "Try different kernel sizes, pooling steps and paddings:\n",
        "```\n",
        "x = Conv2D(filters=128, kernel_size=10, padding=\"valid\", activation=\"relu\", strides=2)(img)\n",
        "```\n",
        "\n",
        "\n",
        "https://keras.io/"
      ]
    },
    {
      "cell_type": "code",
      "metadata": {
        "id": "JvUI2Bw9upW3",
        "colab_type": "code",
        "colab": {}
      },
      "source": [
        "from keras.datasets import cifar10"
      ],
      "execution_count": 0,
      "outputs": []
    },
    {
      "cell_type": "code",
      "metadata": {
        "id": "fDxdj4ZSz8KB",
        "colab_type": "code",
        "outputId": "9199a171-c3d9-4e59-d894-da2f9a3276b8",
        "colab": {
          "base_uri": "https://localhost:8080/",
          "height": 50
        }
      },
      "source": [
        "(x_train, y_train), (x_test, y_test) = cifar10.load_data()"
      ],
      "execution_count": 0,
      "outputs": [
        {
          "output_type": "stream",
          "text": [
            "Downloading data from https://www.cs.toronto.edu/~kriz/cifar-10-python.tar.gz\n",
            "170500096/170498071 [==============================] - 20s 0us/step\n"
          ],
          "name": "stdout"
        }
      ]
    },
    {
      "cell_type": "code",
      "metadata": {
        "id": "GzlnpRYCArJd",
        "colab_type": "code",
        "outputId": "401a54ca-4e59-47fb-e7e8-a3e91a73c8fe",
        "colab": {
          "base_uri": "https://localhost:8080/",
          "height": 52
        }
      },
      "source": [
        "print(\"X-shape:\", x_train.shape)\n",
        "print(\"Y-shape:\", y_train.shape)"
      ],
      "execution_count": 0,
      "outputs": [
        {
          "output_type": "stream",
          "text": [
            "X-shape: (50000, 32, 32, 3)\n",
            "Y-shape: (50000, 1)\n"
          ],
          "name": "stdout"
        }
      ]
    },
    {
      "cell_type": "code",
      "metadata": {
        "id": "Ub7s6-rC9uYV",
        "colab_type": "code",
        "outputId": "60e53a4f-dbcb-4083-9511-51eff5dc0504",
        "colab": {
          "base_uri": "https://localhost:8080/",
          "height": 1277
        }
      },
      "source": [
        "for i in range(5):\n",
        "  plt.imshow(x_train[i])\n",
        "  plt.show()"
      ],
      "execution_count": 0,
      "outputs": [
        {
          "output_type": "display_data",
          "data": {
            "image/png": "[encoded data removed]",
            "text/plain": [
              "<Figure size 432x288 with 1 Axes>"
            ]
          },
          "metadata": {
            "tags": []
          }
        },
        {
          "output_type": "display_data",
          "data": {
            "image/png": "[encoded data removed]",
            "text/plain": [
              "<Figure size 432x288 with 1 Axes>"
            ]
          },
          "metadata": {
            "tags": []
          }
        },
        {
          "output_type": "display_data",
          "data": {
            "image/png": "[encoded data removed]",
            "text/plain": [
              "<Figure size 432x288 with 1 Axes>"
            ]
          },
          "metadata": {
            "tags": []
          }
        },
        {
          "output_type": "display_data",
          "data": {
            "image/png": "[encoded data removed]",
            "text/plain": [
              "<Figure size 432x288 with 1 Axes>"
            ]
          },
          "metadata": {
            "tags": []
          }
        },
        {
          "output_type": "display_data",
          "data": {
            "image/png": "[encoded data removed]",
            "text/plain": [
              "<Figure size 432x288 with 1 Axes>"
            ]
          },
          "metadata": {
            "tags": []
          }
        }
      ]
    },
    {
      "cell_type": "code",
      "metadata": {
        "id": "GS8Pp8ZH-B4a",
        "colab_type": "code",
        "colab": {}
      },
      "source": [
        "x_train = (x_train - np.mean(x_train)) / np.std(x_train)\n",
        "y_train = to_categorical(y_train)\n",
        "\n",
        "x_test = (x_test - np.mean(x_test)) / np.std(x_test)\n",
        "y_test = to_categorical(y_test)"
      ],
      "execution_count": 0,
      "outputs": []
    },
    {
      "cell_type": "code",
      "metadata": {
        "id": "iU6twv6dCOLT",
        "colab_type": "code",
        "outputId": "db6fd31a-2b2c-4191-e3ef-213e85dce12b",
        "colab": {
          "base_uri": "https://localhost:8080/",
          "height": 1855
        }
      },
      "source": [
        "img = Input((32, 32, 3))\n",
        "x = Conv2D(32,3, padding=\"same\", activation=\"relu\")(img)\n",
        "x = Dropout(0.3)(x)\n",
        "x = Conv2D(64,3, padding=\"same\", activation=\"relu\")(x)\n",
        "x = MaxPooling2D()(x)\n",
        "x = Flatten()(x)\n",
        "x = Dropout(0.5)(x)\n",
        "x = Dense(128, activation=\"relu\")(x)\n",
        "x = Dense(10, activation=\"softmax\")(x)\n",
        "model = Model(img, x)\n",
        "\n",
        "model.summary()\n",
        "\n",
        "opt = Adam(0.0005)\n",
        "model.compile(loss=\"categorical_crossentropy\",optimizer=opt, metrics=[\"categorical_accuracy\"])\n",
        "history = model.fit(x_train, y_train, epochs=40, batch_size=512, validation_split=0.2)"
      ],
      "execution_count": 0,
      "outputs": [
        {
          "output_type": "stream",
          "text": [
            "_________________________________________________________________\n",
            "Layer (type)                 Output Shape              Param #   \n",
            "=================================================================\n",
            "input_6 (InputLayer)         (None, 32, 32, 3)         0         \n",
            "_________________________________________________________________\n",
            "conv2d_7 (Conv2D)            (None, 32, 32, 32)        896       \n",
            "_________________________________________________________________\n",
            "dropout_5 (Dropout)          (None, 32, 32, 32)        0         \n",
            "_________________________________________________________________\n",
            "conv2d_8 (Conv2D)            (None, 32, 32, 64)        18496     \n",
            "_________________________________________________________________\n",
            "max_pooling2d_4 (MaxPooling2 (None, 16, 16, 64)        0         \n",
            "_________________________________________________________________\n",
            "flatten_6 (Flatten)          (None, 16384)             0         \n",
            "_________________________________________________________________\n",
            "dropout_6 (Dropout)          (None, 16384)             0         \n",
            "_________________________________________________________________\n",
            "dense_11 (Dense)             (None, 128)               2097280   \n",
            "_________________________________________________________________\n",
            "dense_12 (Dense)             (None, 10)                1290      \n",
            "=================================================================\n",
            "Total params: 2,117,962\n",
            "Trainable params: 2,117,962\n",
            "Non-trainable params: 0\n",
            "_________________________________________________________________\n",
            "Train on 40000 samples, validate on 10000 samples\n",
            "Epoch 1/40\n",
            "40000/40000 [==============================] - 6s 150us/step - loss: 1.8467 - categorical_accuracy: 0.3472 - val_loss: 1.5593 - val_categorical_accuracy: 0.4698\n",
            "Epoch 2/40\n",
            "40000/40000 [==============================] - 5s 116us/step - loss: 1.4179 - categorical_accuracy: 0.4994 - val_loss: 1.3484 - val_categorical_accuracy: 0.5367\n",
            "Epoch 3/40\n",
            "40000/40000 [==============================] - 5s 116us/step - loss: 1.2784 - categorical_accuracy: 0.5483 - val_loss: 1.2572 - val_categorical_accuracy: 0.5599\n",
            "Epoch 4/40\n",
            "40000/40000 [==============================] - 5s 117us/step - loss: 1.1895 - categorical_accuracy: 0.5834 - val_loss: 1.1942 - val_categorical_accuracy: 0.5891\n",
            "Epoch 5/40\n",
            "40000/40000 [==============================] - 5s 117us/step - loss: 1.1102 - categorical_accuracy: 0.6115 - val_loss: 1.1322 - val_categorical_accuracy: 0.6130\n",
            "Epoch 6/40\n",
            "40000/40000 [==============================] - 5s 117us/step - loss: 1.0498 - categorical_accuracy: 0.6309 - val_loss: 1.0977 - val_categorical_accuracy: 0.6246\n",
            "Epoch 7/40\n",
            "40000/40000 [==============================] - 5s 117us/step - loss: 1.0018 - categorical_accuracy: 0.6492 - val_loss: 1.0295 - val_categorical_accuracy: 0.6501\n",
            "Epoch 8/40\n",
            "40000/40000 [==============================] - 5s 118us/step - loss: 0.9567 - categorical_accuracy: 0.6666 - val_loss: 1.0133 - val_categorical_accuracy: 0.6562\n",
            "Epoch 9/40\n",
            "40000/40000 [==============================] - 5s 117us/step - loss: 0.9163 - categorical_accuracy: 0.6813 - val_loss: 0.9782 - val_categorical_accuracy: 0.6670\n",
            "Epoch 10/40\n",
            "40000/40000 [==============================] - 5s 117us/step - loss: 0.8824 - categorical_accuracy: 0.6936 - val_loss: 0.9919 - val_categorical_accuracy: 0.6537\n",
            "Epoch 11/40\n",
            "40000/40000 [==============================] - 5s 117us/step - loss: 0.8537 - categorical_accuracy: 0.6993 - val_loss: 0.9652 - val_categorical_accuracy: 0.6663\n",
            "Epoch 12/40\n",
            "40000/40000 [==============================] - 5s 116us/step - loss: 0.8251 - categorical_accuracy: 0.7107 - val_loss: 0.9577 - val_categorical_accuracy: 0.6676\n",
            "Epoch 13/40\n",
            "40000/40000 [==============================] - 5s 117us/step - loss: 0.7982 - categorical_accuracy: 0.7219 - val_loss: 0.9335 - val_categorical_accuracy: 0.6803\n",
            "Epoch 14/40\n",
            "40000/40000 [==============================] - 5s 116us/step - loss: 0.7728 - categorical_accuracy: 0.7268 - val_loss: 0.9263 - val_categorical_accuracy: 0.6765\n",
            "Epoch 15/40\n",
            "40000/40000 [==============================] - 5s 116us/step - loss: 0.7484 - categorical_accuracy: 0.7386 - val_loss: 0.9176 - val_categorical_accuracy: 0.6853\n",
            "Epoch 16/40\n",
            "40000/40000 [==============================] - 5s 116us/step - loss: 0.7255 - categorical_accuracy: 0.7480 - val_loss: 0.9171 - val_categorical_accuracy: 0.6864\n",
            "Epoch 17/40\n",
            "40000/40000 [==============================] - 5s 116us/step - loss: 0.7087 - categorical_accuracy: 0.7518 - val_loss: 0.9143 - val_categorical_accuracy: 0.6903\n",
            "Epoch 18/40\n",
            "40000/40000 [==============================] - 5s 116us/step - loss: 0.6863 - categorical_accuracy: 0.7600 - val_loss: 0.9062 - val_categorical_accuracy: 0.6897\n",
            "Epoch 19/40\n",
            "40000/40000 [==============================] - 5s 117us/step - loss: 0.6697 - categorical_accuracy: 0.7672 - val_loss: 0.8905 - val_categorical_accuracy: 0.6970\n",
            "Epoch 20/40\n",
            "40000/40000 [==============================] - 5s 117us/step - loss: 0.6513 - categorical_accuracy: 0.7714 - val_loss: 0.8847 - val_categorical_accuracy: 0.7000\n",
            "Epoch 21/40\n",
            "40000/40000 [==============================] - 5s 116us/step - loss: 0.6338 - categorical_accuracy: 0.7768 - val_loss: 0.8853 - val_categorical_accuracy: 0.6999\n",
            "Epoch 22/40\n",
            "40000/40000 [==============================] - 5s 116us/step - loss: 0.6130 - categorical_accuracy: 0.7862 - val_loss: 0.8881 - val_categorical_accuracy: 0.7005\n",
            "Epoch 23/40\n",
            "40000/40000 [==============================] - 5s 116us/step - loss: 0.6027 - categorical_accuracy: 0.7880 - val_loss: 0.8790 - val_categorical_accuracy: 0.7026\n",
            "Epoch 24/40\n",
            "40000/40000 [==============================] - 5s 118us/step - loss: 0.5834 - categorical_accuracy: 0.7937 - val_loss: 0.9085 - val_categorical_accuracy: 0.6977\n",
            "Epoch 25/40\n",
            "40000/40000 [==============================] - 5s 119us/step - loss: 0.5663 - categorical_accuracy: 0.8000 - val_loss: 0.8914 - val_categorical_accuracy: 0.6992\n",
            "Epoch 26/40\n",
            "40000/40000 [==============================] - 5s 118us/step - loss: 0.5520 - categorical_accuracy: 0.8066 - val_loss: 0.9027 - val_categorical_accuracy: 0.6984\n",
            "Epoch 27/40\n",
            "40000/40000 [==============================] - 5s 117us/step - loss: 0.5345 - categorical_accuracy: 0.8116 - val_loss: 0.8864 - val_categorical_accuracy: 0.7049\n",
            "Epoch 28/40\n",
            "40000/40000 [==============================] - 5s 117us/step - loss: 0.5177 - categorical_accuracy: 0.8181 - val_loss: 0.8889 - val_categorical_accuracy: 0.7043\n",
            "Epoch 29/40\n",
            "40000/40000 [==============================] - 5s 117us/step - loss: 0.5065 - categorical_accuracy: 0.8210 - val_loss: 0.9079 - val_categorical_accuracy: 0.7020\n",
            "Epoch 30/40\n",
            "40000/40000 [==============================] - 5s 115us/step - loss: 0.4961 - categorical_accuracy: 0.8261 - val_loss: 0.8963 - val_categorical_accuracy: 0.7036\n",
            "Epoch 31/40\n",
            "40000/40000 [==============================] - 5s 116us/step - loss: 0.4764 - categorical_accuracy: 0.8332 - val_loss: 0.9037 - val_categorical_accuracy: 0.7042\n",
            "Epoch 32/40\n",
            "40000/40000 [==============================] - 5s 117us/step - loss: 0.4654 - categorical_accuracy: 0.8344 - val_loss: 0.9090 - val_categorical_accuracy: 0.7040\n",
            "Epoch 33/40\n",
            "40000/40000 [==============================] - 5s 116us/step - loss: 0.4505 - categorical_accuracy: 0.8428 - val_loss: 0.9127 - val_categorical_accuracy: 0.7023\n",
            "Epoch 34/40\n",
            "40000/40000 [==============================] - 5s 116us/step - loss: 0.4388 - categorical_accuracy: 0.8443 - val_loss: 0.9139 - val_categorical_accuracy: 0.7061\n",
            "Epoch 35/40\n",
            "40000/40000 [==============================] - 5s 116us/step - loss: 0.4247 - categorical_accuracy: 0.8518 - val_loss: 0.9161 - val_categorical_accuracy: 0.7071\n",
            "Epoch 36/40\n",
            "40000/40000 [==============================] - 5s 116us/step - loss: 0.4163 - categorical_accuracy: 0.8522 - val_loss: 0.9230 - val_categorical_accuracy: 0.7103\n",
            "Epoch 37/40\n",
            "40000/40000 [==============================] - 5s 116us/step - loss: 0.4064 - categorical_accuracy: 0.8554 - val_loss: 0.9291 - val_categorical_accuracy: 0.7068\n",
            "Epoch 38/40\n",
            "40000/40000 [==============================] - 5s 116us/step - loss: 0.3913 - categorical_accuracy: 0.8606 - val_loss: 0.9436 - val_categorical_accuracy: 0.7039\n",
            "Epoch 39/40\n",
            "40000/40000 [==============================] - 5s 116us/step - loss: 0.3841 - categorical_accuracy: 0.8633 - val_loss: 0.9379 - val_categorical_accuracy: 0.7070\n",
            "Epoch 40/40\n",
            "40000/40000 [==============================] - 5s 116us/step - loss: 0.3774 - categorical_accuracy: 0.8661 - val_loss: 0.9465 - val_categorical_accuracy: 0.7041\n"
          ],
          "name": "stdout"
        }
      ]
    },
    {
      "cell_type": "code",
      "metadata": {
        "id": "K7MmVaQOSBUj",
        "colab_type": "code",
        "outputId": "3a0feb01-e1e7-454b-f415-33c787a74bd2",
        "colab": {
          "base_uri": "https://localhost:8080/",
          "height": 52
        }
      },
      "source": [
        "model.evaluate(x_test, y_test)"
      ],
      "execution_count": 0,
      "outputs": [
        {
          "output_type": "stream",
          "text": [
            "10000/10000 [==============================] - 1s 83us/step\n"
          ],
          "name": "stdout"
        },
        {
          "output_type": "execute_result",
          "data": {
            "text/plain": [
              "[0.9594542414665223, 0.6966]"
            ]
          },
          "metadata": {
            "tags": []
          },
          "execution_count": 33
        }
      ]
    },
    {
      "cell_type": "markdown",
      "metadata": {
        "id": "nOfAZbBoR487",
        "colab_type": "text"
      },
      "source": [
        "## Residual Blocks"
      ]
    },
    {
      "cell_type": "code",
      "metadata": {
        "id": "NYesTy6v2VCg",
        "colab_type": "code",
        "colab": {}
      },
      "source": [
        "from keras.layers import BatchNormalization, Add, GlobalAveragePooling2D, Activation"
      ],
      "execution_count": 0,
      "outputs": []
    },
    {
      "cell_type": "code",
      "metadata": {
        "id": "DGx6MOKuwQgi",
        "colab_type": "code",
        "outputId": "79691efd-0a25-41c9-ef09-ee38881685ac",
        "colab": {
          "base_uri": "https://localhost:8080/",
          "height": 6621
        }
      },
      "source": [
        "img = Input((32, 32, 3))\n",
        "\n",
        "# ENTRY\n",
        "\n",
        "x = Conv2D(16, 3, padding=\"same\", activation=\"relu\", strides=1)(img)\n",
        "x = BatchNormalization()(x)\n",
        "x = Activation(\"relu\")(x)\n",
        "\n",
        "# identity block\n",
        "skip = x\n",
        "\n",
        "x = Conv2D(16, 3, padding=\"same\", strides=1)(x)\n",
        "x = BatchNormalization()(x)\n",
        "x = Activation(\"relu\")(x)\n",
        "x = Dropout(0.4)(x)\n",
        "x = Conv2D(16, 3, padding=\"same\", strides=1)(x)\n",
        "x = BatchNormalization()(x)\n",
        "\n",
        "\n",
        "x = Add()([skip, x])\n",
        "x = Activation(\"relu\")(x)\n",
        "\n",
        "# identity block\n",
        "skip = x\n",
        "\n",
        "x = Conv2D(16, 3, padding=\"same\", strides=1)(x)\n",
        "x = BatchNormalization()(x)\n",
        "x = Activation(\"relu\")(x)\n",
        "x = Dropout(0.4)(x)\n",
        "x = Conv2D(16, 3, padding=\"same\", strides=1)(x)\n",
        "x = BatchNormalization()(x)\n",
        "\n",
        "\n",
        "x = Add()([skip, x])\n",
        "x = Activation(\"relu\")(x)\n",
        "\n",
        "# identity block\n",
        "skip = x\n",
        "\n",
        "x = Conv2D(16, 3, padding=\"same\", strides=1)(x)\n",
        "x = BatchNormalization()(x)\n",
        "x = Activation(\"relu\")(x)\n",
        "x = Dropout(0.4)(x)\n",
        "x = Conv2D(16, 3, padding=\"same\", strides=1)(x)\n",
        "x = BatchNormalization()(x)\n",
        "\n",
        "\n",
        "x = Add()([skip, x])\n",
        "x = Activation(\"relu\")(x)\n",
        "\n",
        "\n",
        "# residual block\n",
        "residual = Conv2D(32, 1, padding=\"same\", strides=2)(x)\n",
        "residual = BatchNormalization()(residual)\n",
        "\n",
        "x = Conv2D(32, 3, padding=\"same\", strides=2)(x)\n",
        "x = BatchNormalization()(x)\n",
        "x = Activation(\"relu\")(x)\n",
        "x = Dropout(0.4)(x)\n",
        "x = Conv2D(32, 3, padding=\"same\", strides=1)(x)\n",
        "x = BatchNormalization()(x)\n",
        "\n",
        "x = Add()([residual, x])\n",
        "x = Activation(\"relu\")(x)\n",
        "\n",
        "# identity block\n",
        "skip = x\n",
        "\n",
        "x = Conv2D(32, 3, padding=\"same\", strides=1)(x)\n",
        "x = BatchNormalization()(x)\n",
        "x = Activation(\"relu\")(x)\n",
        "x = Dropout(0.4)(x)\n",
        "x = Conv2D(32, 3, padding=\"same\", strides=1)(x)\n",
        "x = BatchNormalization()(x)\n",
        "\n",
        "\n",
        "x = Add()([skip, x])\n",
        "x = Activation(\"relu\")(x)\n",
        "\n",
        "# identity block\n",
        "skip = x\n",
        "\n",
        "x = Conv2D(32, 3, padding=\"same\", strides=1)(x)\n",
        "x = BatchNormalization()(x)\n",
        "x = Activation(\"relu\")(x)\n",
        "x = Dropout(0.4)(x)\n",
        "x = Conv2D(32, 3, padding=\"same\", strides=1)(x)\n",
        "x = BatchNormalization()(x)\n",
        "\n",
        "\n",
        "x = Add()([skip, x])\n",
        "x = Activation(\"relu\")(x)\n",
        "\n",
        "# residual block\n",
        "residual = Conv2D(64, 1, padding=\"same\", strides=2)(x)\n",
        "residual = BatchNormalization()(residual)\n",
        "\n",
        "x = Conv2D(64, 3, padding=\"same\", strides=2)(x)\n",
        "x = BatchNormalization()(x)\n",
        "x = Activation(\"relu\")(x)\n",
        "x = Dropout(0.4)(x)\n",
        "x = Conv2D(64, 3, padding=\"same\", strides=1)(x)\n",
        "x = BatchNormalization()(x)\n",
        "\n",
        "x = Add()([residual, x])\n",
        "x = Activation(\"relu\")(x)\n",
        "\n",
        "# identity block\n",
        "skip = x\n",
        "\n",
        "x = Conv2D(64, 3, padding=\"same\", strides=1)(x)\n",
        "x = BatchNormalization()(x)\n",
        "x = Activation(\"relu\")(x)\n",
        "x = Dropout(0.4)(x)\n",
        "x = Conv2D(64, 3, padding=\"same\", strides=1)(x)\n",
        "x = BatchNormalization()(x)\n",
        "\n",
        "\n",
        "x = Add()([skip, x])\n",
        "x = Activation(\"relu\")(x)\n",
        "\n",
        "# identity block\n",
        "skip = x\n",
        "\n",
        "x = Conv2D(64, 3, padding=\"same\", strides=1)(x)\n",
        "x = BatchNormalization()(x)\n",
        "x = Activation(\"relu\")(x)\n",
        "x = Dropout(0.4)(x)\n",
        "x = Conv2D(64, 3, padding=\"same\", strides=1)(x)\n",
        "x = BatchNormalization()(x)\n",
        "\n",
        "\n",
        "x = Add()([skip, x])\n",
        "x = Activation(\"relu\")(x)\n",
        "\n",
        "# END\n",
        "x = GlobalAveragePooling2D()(x)\n",
        "x = Dense(10, activation=\"softmax\")(x)\n",
        "model = Model(img, x)\n",
        "\n",
        "model.summary()\n",
        "\n",
        "opt = Adam(0.001)\n",
        "model.compile(loss=\"categorical_crossentropy\",optimizer=opt, metrics=[\"categorical_accuracy\"])\n",
        "history = model.fit(x_train, y_train, epochs=100, batch_size=128, validation_split=0.1)"
      ],
      "execution_count": 0,
      "outputs": [
        {
          "output_type": "stream",
          "text": [
            "__________________________________________________________________________________________________\n",
            "Layer (type)                    Output Shape         Param #     Connected to                     \n",
            "==================================================================================================\n",
            "input_7 (InputLayer)            (None, 32, 32, 3)    0                                            \n",
            "__________________________________________________________________________________________________\n",
            "conv2d_9 (Conv2D)               (None, 32, 32, 16)   448         input_7[0][0]                    \n",
            "__________________________________________________________________________________________________\n",
            "batch_normalization_1 (BatchNor (None, 32, 32, 16)   64          conv2d_9[0][0]                   \n",
            "__________________________________________________________________________________________________\n",
            "activation_1 (Activation)       (None, 32, 32, 16)   0           batch_normalization_1[0][0]      \n",
            "__________________________________________________________________________________________________\n",
            "conv2d_10 (Conv2D)              (None, 32, 32, 16)   2320        activation_1[0][0]               \n",
            "__________________________________________________________________________________________________\n",
            "batch_normalization_2 (BatchNor (None, 32, 32, 16)   64          conv2d_10[0][0]                  \n",
            "__________________________________________________________________________________________________\n",
            "activation_2 (Activation)       (None, 32, 32, 16)   0           batch_normalization_2[0][0]      \n",
            "__________________________________________________________________________________________________\n",
            "dropout_7 (Dropout)             (None, 32, 32, 16)   0           activation_2[0][0]               \n",
            "__________________________________________________________________________________________________\n",
            "conv2d_11 (Conv2D)              (None, 32, 32, 16)   2320        dropout_7[0][0]                  \n",
            "__________________________________________________________________________________________________\n",
            "batch_normalization_3 (BatchNor (None, 32, 32, 16)   64          conv2d_11[0][0]                  \n",
            "__________________________________________________________________________________________________\n",
            "add_1 (Add)                     (None, 32, 32, 16)   0           activation_1[0][0]               \n",
            "                                                                 batch_normalization_3[0][0]      \n",
            "__________________________________________________________________________________________________\n",
            "activation_3 (Activation)       (None, 32, 32, 16)   0           add_1[0][0]                      \n",
            "__________________________________________________________________________________________________\n",
            "conv2d_12 (Conv2D)              (None, 32, 32, 16)   2320        activation_3[0][0]               \n",
            "__________________________________________________________________________________________________\n",
            "batch_normalization_4 (BatchNor (None, 32, 32, 16)   64          conv2d_12[0][0]                  \n",
            "__________________________________________________________________________________________________\n",
            "activation_4 (Activation)       (None, 32, 32, 16)   0           batch_normalization_4[0][0]      \n",
            "__________________________________________________________________________________________________\n",
            "dropout_8 (Dropout)             (None, 32, 32, 16)   0           activation_4[0][0]               \n",
            "__________________________________________________________________________________________________\n",
            "conv2d_13 (Conv2D)              (None, 32, 32, 16)   2320        dropout_8[0][0]                  \n",
            "__________________________________________________________________________________________________\n",
            "batch_normalization_5 (BatchNor (None, 32, 32, 16)   64          conv2d_13[0][0]                  \n",
            "__________________________________________________________________________________________________\n",
            "add_2 (Add)                     (None, 32, 32, 16)   0           activation_3[0][0]               \n",
            "                                                                 batch_normalization_5[0][0]      \n",
            "__________________________________________________________________________________________________\n",
            "activation_5 (Activation)       (None, 32, 32, 16)   0           add_2[0][0]                      \n",
            "__________________________________________________________________________________________________\n",
            "conv2d_14 (Conv2D)              (None, 32, 32, 16)   2320        activation_5[0][0]               \n",
            "__________________________________________________________________________________________________\n",
            "batch_normalization_6 (BatchNor (None, 32, 32, 16)   64          conv2d_14[0][0]                  \n",
            "__________________________________________________________________________________________________\n",
            "activation_6 (Activation)       (None, 32, 32, 16)   0           batch_normalization_6[0][0]      \n",
            "__________________________________________________________________________________________________\n",
            "dropout_9 (Dropout)             (None, 32, 32, 16)   0           activation_6[0][0]               \n",
            "__________________________________________________________________________________________________\n",
            "conv2d_15 (Conv2D)              (None, 32, 32, 16)   2320        dropout_9[0][0]                  \n",
            "__________________________________________________________________________________________________\n",
            "batch_normalization_7 (BatchNor (None, 32, 32, 16)   64          conv2d_15[0][0]                  \n",
            "__________________________________________________________________________________________________\n",
            "add_3 (Add)                     (None, 32, 32, 16)   0           activation_5[0][0]               \n",
            "                                                                 batch_normalization_7[0][0]      \n",
            "__________________________________________________________________________________________________\n",
            "activation_7 (Activation)       (None, 32, 32, 16)   0           add_3[0][0]                      \n",
            "__________________________________________________________________________________________________\n",
            "conv2d_17 (Conv2D)              (None, 16, 16, 32)   4640        activation_7[0][0]               \n",
            "__________________________________________________________________________________________________\n",
            "batch_normalization_9 (BatchNor (None, 16, 16, 32)   128         conv2d_17[0][0]                  \n",
            "__________________________________________________________________________________________________\n",
            "activation_8 (Activation)       (None, 16, 16, 32)   0           batch_normalization_9[0][0]      \n",
            "__________________________________________________________________________________________________\n",
            "dropout_10 (Dropout)            (None, 16, 16, 32)   0           activation_8[0][0]               \n",
            "__________________________________________________________________________________________________\n",
            "conv2d_16 (Conv2D)              (None, 16, 16, 32)   544         activation_7[0][0]               \n",
            "__________________________________________________________________________________________________\n",
            "conv2d_18 (Conv2D)              (None, 16, 16, 32)   9248        dropout_10[0][0]                 \n",
            "__________________________________________________________________________________________________\n",
            "batch_normalization_8 (BatchNor (None, 16, 16, 32)   128         conv2d_16[0][0]                  \n",
            "__________________________________________________________________________________________________\n",
            "batch_normalization_10 (BatchNo (None, 16, 16, 32)   128         conv2d_18[0][0]                  \n",
            "__________________________________________________________________________________________________\n",
            "add_4 (Add)                     (None, 16, 16, 32)   0           batch_normalization_8[0][0]      \n",
            "                                                                 batch_normalization_10[0][0]     \n",
            "__________________________________________________________________________________________________\n",
            "activation_9 (Activation)       (None, 16, 16, 32)   0           add_4[0][0]                      \n",
            "__________________________________________________________________________________________________\n",
            "conv2d_19 (Conv2D)              (None, 16, 16, 32)   9248        activation_9[0][0]               \n",
            "__________________________________________________________________________________________________\n",
            "batch_normalization_11 (BatchNo (None, 16, 16, 32)   128         conv2d_19[0][0]                  \n",
            "__________________________________________________________________________________________________\n",
            "activation_10 (Activation)      (None, 16, 16, 32)   0           batch_normalization_11[0][0]     \n",
            "__________________________________________________________________________________________________\n",
            "dropout_11 (Dropout)            (None, 16, 16, 32)   0           activation_10[0][0]              \n",
            "__________________________________________________________________________________________________\n",
            "conv2d_20 (Conv2D)              (None, 16, 16, 32)   9248        dropout_11[0][0]                 \n",
            "__________________________________________________________________________________________________\n",
            "batch_normalization_12 (BatchNo (None, 16, 16, 32)   128         conv2d_20[0][0]                  \n",
            "__________________________________________________________________________________________________\n",
            "add_5 (Add)                     (None, 16, 16, 32)   0           activation_9[0][0]               \n",
            "                                                                 batch_normalization_12[0][0]     \n",
            "__________________________________________________________________________________________________\n",
            "activation_11 (Activation)      (None, 16, 16, 32)   0           add_5[0][0]                      \n",
            "__________________________________________________________________________________________________\n",
            "conv2d_21 (Conv2D)              (None, 16, 16, 32)   9248        activation_11[0][0]              \n",
            "__________________________________________________________________________________________________\n",
            "batch_normalization_13 (BatchNo (None, 16, 16, 32)   128         conv2d_21[0][0]                  \n",
            "__________________________________________________________________________________________________\n",
            "activation_12 (Activation)      (None, 16, 16, 32)   0           batch_normalization_13[0][0]     \n",
            "__________________________________________________________________________________________________\n",
            "dropout_12 (Dropout)            (None, 16, 16, 32)   0           activation_12[0][0]              \n",
            "__________________________________________________________________________________________________\n",
            "conv2d_22 (Conv2D)              (None, 16, 16, 32)   9248        dropout_12[0][0]                 \n",
            "__________________________________________________________________________________________________\n",
            "batch_normalization_14 (BatchNo (None, 16, 16, 32)   128         conv2d_22[0][0]                  \n",
            "__________________________________________________________________________________________________\n",
            "add_6 (Add)                     (None, 16, 16, 32)   0           activation_11[0][0]              \n",
            "                                                                 batch_normalization_14[0][0]     \n",
            "__________________________________________________________________________________________________\n",
            "activation_13 (Activation)      (None, 16, 16, 32)   0           add_6[0][0]                      \n",
            "__________________________________________________________________________________________________\n",
            "conv2d_24 (Conv2D)              (None, 8, 8, 64)     18496       activation_13[0][0]              \n",
            "__________________________________________________________________________________________________\n",
            "batch_normalization_16 (BatchNo (None, 8, 8, 64)     256         conv2d_24[0][0]                  \n",
            "__________________________________________________________________________________________________\n",
            "activation_14 (Activation)      (None, 8, 8, 64)     0           batch_normalization_16[0][0]     \n",
            "__________________________________________________________________________________________________\n",
            "dropout_13 (Dropout)            (None, 8, 8, 64)     0           activation_14[0][0]              \n",
            "__________________________________________________________________________________________________\n",
            "conv2d_23 (Conv2D)              (None, 8, 8, 64)     2112        activation_13[0][0]              \n",
            "__________________________________________________________________________________________________\n",
            "conv2d_25 (Conv2D)              (None, 8, 8, 64)     36928       dropout_13[0][0]                 \n",
            "__________________________________________________________________________________________________\n",
            "batch_normalization_15 (BatchNo (None, 8, 8, 64)     256         conv2d_23[0][0]                  \n",
            "__________________________________________________________________________________________________\n",
            "batch_normalization_17 (BatchNo (None, 8, 8, 64)     256         conv2d_25[0][0]                  \n",
            "__________________________________________________________________________________________________\n",
            "add_7 (Add)                     (None, 8, 8, 64)     0           batch_normalization_15[0][0]     \n",
            "                                                                 batch_normalization_17[0][0]     \n",
            "__________________________________________________________________________________________________\n",
            "activation_15 (Activation)      (None, 8, 8, 64)     0           add_7[0][0]                      \n",
            "__________________________________________________________________________________________________\n",
            "conv2d_26 (Conv2D)              (None, 8, 8, 64)     36928       activation_15[0][0]              \n",
            "__________________________________________________________________________________________________\n",
            "batch_normalization_18 (BatchNo (None, 8, 8, 64)     256         conv2d_26[0][0]                  \n",
            "__________________________________________________________________________________________________\n",
            "activation_16 (Activation)      (None, 8, 8, 64)     0           batch_normalization_18[0][0]     \n",
            "__________________________________________________________________________________________________\n",
            "dropout_14 (Dropout)            (None, 8, 8, 64)     0           activation_16[0][0]              \n",
            "__________________________________________________________________________________________________\n",
            "conv2d_27 (Conv2D)              (None, 8, 8, 64)     36928       dropout_14[0][0]                 \n",
            "__________________________________________________________________________________________________\n",
            "batch_normalization_19 (BatchNo (None, 8, 8, 64)     256         conv2d_27[0][0]                  \n",
            "__________________________________________________________________________________________________\n",
            "add_8 (Add)                     (None, 8, 8, 64)     0           activation_15[0][0]              \n",
            "                                                                 batch_normalization_19[0][0]     \n",
            "__________________________________________________________________________________________________\n",
            "activation_17 (Activation)      (None, 8, 8, 64)     0           add_8[0][0]                      \n",
            "__________________________________________________________________________________________________\n",
            "conv2d_28 (Conv2D)              (None, 8, 8, 64)     36928       activation_17[0][0]              \n",
            "__________________________________________________________________________________________________\n",
            "batch_normalization_20 (BatchNo (None, 8, 8, 64)     256         conv2d_28[0][0]                  \n",
            "__________________________________________________________________________________________________\n",
            "activation_18 (Activation)      (None, 8, 8, 64)     0           batch_normalization_20[0][0]     \n",
            "__________________________________________________________________________________________________\n",
            "dropout_15 (Dropout)            (None, 8, 8, 64)     0           activation_18[0][0]              \n",
            "__________________________________________________________________________________________________\n",
            "conv2d_29 (Conv2D)              (None, 8, 8, 64)     36928       dropout_15[0][0]                 \n",
            "__________________________________________________________________________________________________\n",
            "batch_normalization_21 (BatchNo (None, 8, 8, 64)     256         conv2d_29[0][0]                  \n",
            "__________________________________________________________________________________________________\n",
            "add_9 (Add)                     (None, 8, 8, 64)     0           activation_17[0][0]              \n",
            "                                                                 batch_normalization_21[0][0]     \n",
            "__________________________________________________________________________________________________\n",
            "activation_19 (Activation)      (None, 8, 8, 64)     0           add_9[0][0]                      \n",
            "__________________________________________________________________________________________________\n",
            "global_average_pooling2d_1 (Glo (None, 64)           0           activation_19[0][0]              \n",
            "__________________________________________________________________________________________________\n",
            "dense_13 (Dense)                (None, 10)           650         global_average_pooling2d_1[0][0] \n",
            "==================================================================================================\n",
            "Total params: 274,826\n",
            "Trainable params: 273,258\n",
            "Non-trainable params: 1,568\n",
            "__________________________________________________________________________________________________\n",
            "Train on 45000 samples, validate on 5000 samples\n",
            "Epoch 1/100\n",
            "45000/45000 [==============================] - 21s 457us/step - loss: 1.5806 - categorical_accuracy: 0.4126 - val_loss: 1.6745 - val_categorical_accuracy: 0.4676\n",
            "Epoch 2/100\n",
            "45000/45000 [==============================] - 17s 368us/step - loss: 1.2157 - categorical_accuracy: 0.5601 - val_loss: 1.2717 - val_categorical_accuracy: 0.5700\n",
            "Epoch 3/100\n",
            "45000/45000 [==============================] - 17s 368us/step - loss: 1.0462 - categorical_accuracy: 0.6278 - val_loss: 0.9981 - val_categorical_accuracy: 0.6456\n",
            "Epoch 4/100\n",
            "45000/45000 [==============================] - 16s 366us/step - loss: 0.9369 - categorical_accuracy: 0.6652 - val_loss: 0.9138 - val_categorical_accuracy: 0.6788\n",
            "Epoch 5/100\n",
            "45000/45000 [==============================] - 16s 366us/step - loss: 0.8575 - categorical_accuracy: 0.6946 - val_loss: 0.9532 - val_categorical_accuracy: 0.6680\n",
            "Epoch 6/100\n",
            "45000/45000 [==============================] - 17s 367us/step - loss: 0.7993 - categorical_accuracy: 0.7178 - val_loss: 0.8097 - val_categorical_accuracy: 0.7236\n",
            "Epoch 7/100\n",
            "45000/45000 [==============================] - 17s 367us/step - loss: 0.7412 - categorical_accuracy: 0.7368 - val_loss: 0.7735 - val_categorical_accuracy: 0.7382\n",
            "Epoch 8/100\n",
            "45000/45000 [==============================] - 16s 366us/step - loss: 0.7024 - categorical_accuracy: 0.7522 - val_loss: 0.7076 - val_categorical_accuracy: 0.7560\n",
            "Epoch 9/100\n",
            "45000/45000 [==============================] - 17s 367us/step - loss: 0.6627 - categorical_accuracy: 0.7670 - val_loss: 0.7205 - val_categorical_accuracy: 0.7594\n",
            "Epoch 10/100\n",
            "45000/45000 [==============================] - 17s 367us/step - loss: 0.6331 - categorical_accuracy: 0.7787 - val_loss: 0.6443 - val_categorical_accuracy: 0.7820\n",
            "Epoch 11/100\n",
            "45000/45000 [==============================] - 17s 368us/step - loss: 0.6021 - categorical_accuracy: 0.7887 - val_loss: 0.6304 - val_categorical_accuracy: 0.7814\n",
            "Epoch 12/100\n",
            "45000/45000 [==============================] - 17s 368us/step - loss: 0.5765 - categorical_accuracy: 0.7949 - val_loss: 0.6133 - val_categorical_accuracy: 0.7962\n",
            "Epoch 13/100\n",
            "45000/45000 [==============================] - 17s 368us/step - loss: 0.5609 - categorical_accuracy: 0.8016 - val_loss: 0.5670 - val_categorical_accuracy: 0.8114\n",
            "Epoch 14/100\n",
            "45000/45000 [==============================] - 17s 372us/step - loss: 0.5387 - categorical_accuracy: 0.8101 - val_loss: 0.6607 - val_categorical_accuracy: 0.7914\n",
            "Epoch 15/100\n",
            "45000/45000 [==============================] - 17s 369us/step - loss: 0.5174 - categorical_accuracy: 0.8190 - val_loss: 0.5683 - val_categorical_accuracy: 0.8116\n",
            "Epoch 16/100\n",
            "45000/45000 [==============================] - 17s 369us/step - loss: 0.5015 - categorical_accuracy: 0.8238 - val_loss: 0.5845 - val_categorical_accuracy: 0.8084\n",
            "Epoch 17/100\n",
            "45000/45000 [==============================] - 17s 367us/step - loss: 0.4831 - categorical_accuracy: 0.8308 - val_loss: 0.5606 - val_categorical_accuracy: 0.8124\n",
            "Epoch 18/100\n",
            "45000/45000 [==============================] - 17s 368us/step - loss: 0.4715 - categorical_accuracy: 0.8351 - val_loss: 0.5625 - val_categorical_accuracy: 0.8198\n",
            "Epoch 19/100\n",
            "45000/45000 [==============================] - 16s 366us/step - loss: 0.4610 - categorical_accuracy: 0.8361 - val_loss: 0.5630 - val_categorical_accuracy: 0.8098\n",
            "Epoch 20/100\n",
            "45000/45000 [==============================] - 17s 367us/step - loss: 0.4488 - categorical_accuracy: 0.8417 - val_loss: 0.4735 - val_categorical_accuracy: 0.8432\n",
            "Epoch 21/100\n",
            "45000/45000 [==============================] - 17s 367us/step - loss: 0.4335 - categorical_accuracy: 0.8467 - val_loss: 0.5229 - val_categorical_accuracy: 0.8290\n",
            "Epoch 22/100\n",
            "45000/45000 [==============================] - 17s 367us/step - loss: 0.4265 - categorical_accuracy: 0.8489 - val_loss: 0.5569 - val_categorical_accuracy: 0.8192\n",
            "Epoch 23/100\n",
            "45000/45000 [==============================] - 16s 366us/step - loss: 0.4121 - categorical_accuracy: 0.8535 - val_loss: 0.5439 - val_categorical_accuracy: 0.8228\n",
            "Epoch 24/100\n",
            "45000/45000 [==============================] - 17s 368us/step - loss: 0.4056 - categorical_accuracy: 0.8572 - val_loss: 0.5267 - val_categorical_accuracy: 0.8300\n",
            "Epoch 25/100\n",
            "45000/45000 [==============================] - 17s 367us/step - loss: 0.3941 - categorical_accuracy: 0.8606 - val_loss: 0.4836 - val_categorical_accuracy: 0.8388\n",
            "Epoch 26/100\n",
            "45000/45000 [==============================] - 16s 366us/step - loss: 0.3870 - categorical_accuracy: 0.8630 - val_loss: 0.5003 - val_categorical_accuracy: 0.8400\n",
            "Epoch 27/100\n",
            "45000/45000 [==============================] - 16s 367us/step - loss: 0.3795 - categorical_accuracy: 0.8651 - val_loss: 0.4691 - val_categorical_accuracy: 0.8490\n",
            "Epoch 28/100\n",
            "45000/45000 [==============================] - 16s 366us/step - loss: 0.3685 - categorical_accuracy: 0.8706 - val_loss: 0.4825 - val_categorical_accuracy: 0.8432\n",
            "Epoch 29/100\n",
            "45000/45000 [==============================] - 17s 367us/step - loss: 0.3624 - categorical_accuracy: 0.8725 - val_loss: 0.4807 - val_categorical_accuracy: 0.8430\n",
            "Epoch 30/100\n",
            "45000/45000 [==============================] - 17s 367us/step - loss: 0.3598 - categorical_accuracy: 0.8727 - val_loss: 0.4700 - val_categorical_accuracy: 0.8470\n",
            "Epoch 31/100\n",
            "45000/45000 [==============================] - 17s 367us/step - loss: 0.3432 - categorical_accuracy: 0.8789 - val_loss: 0.4764 - val_categorical_accuracy: 0.8484\n",
            "Epoch 32/100\n",
            "45000/45000 [==============================] - 16s 366us/step - loss: 0.3415 - categorical_accuracy: 0.8788 - val_loss: 0.5092 - val_categorical_accuracy: 0.8396\n",
            "Epoch 33/100\n",
            "45000/45000 [==============================] - 17s 370us/step - loss: 0.3335 - categorical_accuracy: 0.8817 - val_loss: 0.4548 - val_categorical_accuracy: 0.8548\n",
            "Epoch 34/100\n",
            "45000/45000 [==============================] - 17s 367us/step - loss: 0.3243 - categorical_accuracy: 0.8849 - val_loss: 0.4744 - val_categorical_accuracy: 0.8534\n",
            "Epoch 35/100\n",
            "45000/45000 [==============================] - 17s 367us/step - loss: 0.3271 - categorical_accuracy: 0.8840 - val_loss: 0.5324 - val_categorical_accuracy: 0.8334\n",
            "Epoch 36/100\n",
            "45000/45000 [==============================] - 16s 366us/step - loss: 0.3219 - categorical_accuracy: 0.8860 - val_loss: 0.5115 - val_categorical_accuracy: 0.8426\n",
            "Epoch 37/100\n",
            "45000/45000 [==============================] - 16s 365us/step - loss: 0.3159 - categorical_accuracy: 0.8888 - val_loss: 0.5326 - val_categorical_accuracy: 0.8374\n",
            "Epoch 38/100\n",
            "45000/45000 [==============================] - 16s 366us/step - loss: 0.3039 - categorical_accuracy: 0.8922 - val_loss: 0.4853 - val_categorical_accuracy: 0.8532\n",
            "Epoch 39/100\n",
            "45000/45000 [==============================] - 16s 365us/step - loss: 0.3016 - categorical_accuracy: 0.8923 - val_loss: 0.5127 - val_categorical_accuracy: 0.8414\n",
            "Epoch 40/100\n",
            "45000/45000 [==============================] - 17s 368us/step - loss: 0.3004 - categorical_accuracy: 0.8931 - val_loss: 0.4989 - val_categorical_accuracy: 0.8496\n",
            "Epoch 41/100\n",
            "45000/45000 [==============================] - 16s 367us/step - loss: 0.2962 - categorical_accuracy: 0.8942 - val_loss: 0.4692 - val_categorical_accuracy: 0.8532\n",
            "Epoch 42/100\n",
            "45000/45000 [==============================] - 17s 367us/step - loss: 0.2868 - categorical_accuracy: 0.8977 - val_loss: 0.4601 - val_categorical_accuracy: 0.8598\n",
            "Epoch 43/100\n",
            "45000/45000 [==============================] - 17s 367us/step - loss: 0.2890 - categorical_accuracy: 0.8948 - val_loss: 0.4583 - val_categorical_accuracy: 0.8594\n",
            "Epoch 44/100\n",
            "45000/45000 [==============================] - 16s 366us/step - loss: 0.2808 - categorical_accuracy: 0.8998 - val_loss: 0.4681 - val_categorical_accuracy: 0.8594\n",
            "Epoch 45/100\n",
            "45000/45000 [==============================] - 17s 368us/step - loss: 0.2792 - categorical_accuracy: 0.8996 - val_loss: 0.5169 - val_categorical_accuracy: 0.8462\n",
            "Epoch 46/100\n",
            "45000/45000 [==============================] - 16s 366us/step - loss: 0.2703 - categorical_accuracy: 0.9026 - val_loss: 0.5090 - val_categorical_accuracy: 0.8510\n",
            "Epoch 47/100\n",
            "45000/45000 [==============================] - 16s 366us/step - loss: 0.2678 - categorical_accuracy: 0.9042 - val_loss: 0.4584 - val_categorical_accuracy: 0.8618\n",
            "Epoch 48/100\n",
            "45000/45000 [==============================] - 16s 366us/step - loss: 0.2629 - categorical_accuracy: 0.9037 - val_loss: 0.4804 - val_categorical_accuracy: 0.8564\n",
            "Epoch 49/100\n",
            "45000/45000 [==============================] - 17s 369us/step - loss: 0.2651 - categorical_accuracy: 0.9049 - val_loss: 0.4912 - val_categorical_accuracy: 0.8544\n",
            "Epoch 50/100\n",
            "45000/45000 [==============================] - 16s 367us/step - loss: 0.2570 - categorical_accuracy: 0.9087 - val_loss: 0.5167 - val_categorical_accuracy: 0.8442\n",
            "Epoch 51/100\n",
            "45000/45000 [==============================] - 16s 367us/step - loss: 0.2524 - categorical_accuracy: 0.9102 - val_loss: 0.4677 - val_categorical_accuracy: 0.8606\n",
            "Epoch 52/100\n",
            "45000/45000 [==============================] - 17s 369us/step - loss: 0.2544 - categorical_accuracy: 0.9085 - val_loss: 0.4843 - val_categorical_accuracy: 0.8586\n",
            "Epoch 53/100\n",
            "45000/45000 [==============================] - 16s 365us/step - loss: 0.2472 - categorical_accuracy: 0.9121 - val_loss: 0.4679 - val_categorical_accuracy: 0.8620\n",
            "Epoch 54/100\n",
            "45000/45000 [==============================] - 17s 367us/step - loss: 0.2491 - categorical_accuracy: 0.9102 - val_loss: 0.4777 - val_categorical_accuracy: 0.8574\n",
            "Epoch 55/100\n",
            "45000/45000 [==============================] - 16s 367us/step - loss: 0.2387 - categorical_accuracy: 0.9136 - val_loss: 0.5020 - val_categorical_accuracy: 0.8538\n",
            "Epoch 56/100\n",
            "45000/45000 [==============================] - 17s 367us/step - loss: 0.2441 - categorical_accuracy: 0.9112 - val_loss: 0.4932 - val_categorical_accuracy: 0.8552\n",
            "Epoch 57/100\n",
            "45000/45000 [==============================] - 16s 366us/step - loss: 0.2421 - categorical_accuracy: 0.9123 - val_loss: 0.5027 - val_categorical_accuracy: 0.8516\n",
            "Epoch 58/100\n",
            "45000/45000 [==============================] - 16s 367us/step - loss: 0.2354 - categorical_accuracy: 0.9162 - val_loss: 0.4802 - val_categorical_accuracy: 0.8616\n",
            "Epoch 59/100\n",
            "45000/45000 [==============================] - 17s 368us/step - loss: 0.2392 - categorical_accuracy: 0.9145 - val_loss: 0.4776 - val_categorical_accuracy: 0.8530\n",
            "Epoch 60/100\n",
            "45000/45000 [==============================] - 17s 367us/step - loss: 0.2285 - categorical_accuracy: 0.9189 - val_loss: 0.4840 - val_categorical_accuracy: 0.8598\n",
            "Epoch 61/100\n",
            "45000/45000 [==============================] - 17s 369us/step - loss: 0.2253 - categorical_accuracy: 0.9180 - val_loss: 0.4763 - val_categorical_accuracy: 0.8614\n",
            "Epoch 62/100\n",
            "45000/45000 [==============================] - 16s 366us/step - loss: 0.2248 - categorical_accuracy: 0.9202 - val_loss: 0.4673 - val_categorical_accuracy: 0.8616\n",
            "Epoch 63/100\n",
            "45000/45000 [==============================] - 17s 367us/step - loss: 0.2232 - categorical_accuracy: 0.9199 - val_loss: 0.4833 - val_categorical_accuracy: 0.8628\n",
            "Epoch 64/100\n",
            "45000/45000 [==============================] - 16s 366us/step - loss: 0.2187 - categorical_accuracy: 0.9216 - val_loss: 0.4912 - val_categorical_accuracy: 0.8580\n",
            "Epoch 65/100\n",
            "45000/45000 [==============================] - 16s 367us/step - loss: 0.2164 - categorical_accuracy: 0.9232 - val_loss: 0.4836 - val_categorical_accuracy: 0.8632\n",
            "Epoch 66/100\n",
            "45000/45000 [==============================] - 16s 366us/step - loss: 0.2242 - categorical_accuracy: 0.9186 - val_loss: 0.4714 - val_categorical_accuracy: 0.8632\n",
            "Epoch 67/100\n",
            "45000/45000 [==============================] - 16s 366us/step - loss: 0.2095 - categorical_accuracy: 0.9250 - val_loss: 0.5314 - val_categorical_accuracy: 0.8558\n",
            "Epoch 68/100\n",
            "45000/45000 [==============================] - 17s 368us/step - loss: 0.2135 - categorical_accuracy: 0.9220 - val_loss: 0.4981 - val_categorical_accuracy: 0.8654\n",
            "Epoch 69/100\n",
            "45000/45000 [==============================] - 17s 369us/step - loss: 0.2058 - categorical_accuracy: 0.9256 - val_loss: 0.4795 - val_categorical_accuracy: 0.8640\n",
            "Epoch 70/100\n",
            "45000/45000 [==============================] - 17s 371us/step - loss: 0.2060 - categorical_accuracy: 0.9258 - val_loss: 0.4886 - val_categorical_accuracy: 0.8594\n",
            "Epoch 71/100\n",
            "45000/45000 [==============================] - 17s 374us/step - loss: 0.2078 - categorical_accuracy: 0.9263 - val_loss: 0.5126 - val_categorical_accuracy: 0.8552\n",
            "Epoch 72/100\n",
            "45000/45000 [==============================] - 16s 367us/step - loss: 0.2004 - categorical_accuracy: 0.9280 - val_loss: 0.5014 - val_categorical_accuracy: 0.8596\n",
            "Epoch 73/100\n",
            "45000/45000 [==============================] - 16s 366us/step - loss: 0.2021 - categorical_accuracy: 0.9270 - val_loss: 0.5029 - val_categorical_accuracy: 0.8598\n",
            "Epoch 74/100\n",
            "45000/45000 [==============================] - 17s 367us/step - loss: 0.2034 - categorical_accuracy: 0.9273 - val_loss: 0.4898 - val_categorical_accuracy: 0.8644\n",
            "Epoch 75/100\n",
            "45000/45000 [==============================] - 17s 368us/step - loss: 0.1970 - categorical_accuracy: 0.9300 - val_loss: 0.5480 - val_categorical_accuracy: 0.8474\n",
            "Epoch 76/100\n",
            "45000/45000 [==============================] - 16s 366us/step - loss: 0.1965 - categorical_accuracy: 0.9297 - val_loss: 0.5119 - val_categorical_accuracy: 0.8568\n",
            "Epoch 77/100\n",
            "45000/45000 [==============================] - 17s 368us/step - loss: 0.1898 - categorical_accuracy: 0.9299 - val_loss: 0.4722 - val_categorical_accuracy: 0.8666\n",
            "Epoch 78/100\n",
            "45000/45000 [==============================] - 16s 365us/step - loss: 0.1905 - categorical_accuracy: 0.9311 - val_loss: 0.5015 - val_categorical_accuracy: 0.8640\n",
            "Epoch 79/100\n",
            "45000/45000 [==============================] - 17s 368us/step - loss: 0.1951 - categorical_accuracy: 0.9292 - val_loss: 0.4767 - val_categorical_accuracy: 0.8638\n",
            "Epoch 80/100\n",
            "45000/45000 [==============================] - 16s 366us/step - loss: 0.1996 - categorical_accuracy: 0.9266 - val_loss: 0.4961 - val_categorical_accuracy: 0.8558\n",
            "Epoch 81/100\n",
            "45000/45000 [==============================] - 17s 367us/step - loss: 0.1857 - categorical_accuracy: 0.9322 - val_loss: 0.4910 - val_categorical_accuracy: 0.8628\n",
            "Epoch 82/100\n",
            "45000/45000 [==============================] - 16s 366us/step - loss: 0.1844 - categorical_accuracy: 0.9322 - val_loss: 0.5063 - val_categorical_accuracy: 0.8588\n",
            "Epoch 83/100\n",
            "45000/45000 [==============================] - 16s 366us/step - loss: 0.1889 - categorical_accuracy: 0.9311 - val_loss: 0.5149 - val_categorical_accuracy: 0.8580\n",
            "Epoch 84/100\n",
            "45000/45000 [==============================] - 17s 367us/step - loss: 0.1777 - categorical_accuracy: 0.9371 - val_loss: 0.5338 - val_categorical_accuracy: 0.8586\n",
            "Epoch 85/100\n",
            "45000/45000 [==============================] - 16s 366us/step - loss: 0.1761 - categorical_accuracy: 0.9368 - val_loss: 0.5145 - val_categorical_accuracy: 0.8594\n",
            "Epoch 86/100\n",
            "45000/45000 [==============================] - 17s 368us/step - loss: 0.1828 - categorical_accuracy: 0.9347 - val_loss: 0.5491 - val_categorical_accuracy: 0.8584\n",
            "Epoch 87/100\n",
            "45000/45000 [==============================] - 16s 366us/step - loss: 0.1815 - categorical_accuracy: 0.9330 - val_loss: 0.5071 - val_categorical_accuracy: 0.8574\n",
            "Epoch 88/100\n",
            "45000/45000 [==============================] - 16s 366us/step - loss: 0.1796 - categorical_accuracy: 0.9338 - val_loss: 0.5387 - val_categorical_accuracy: 0.8550\n",
            "Epoch 89/100\n",
            "45000/45000 [==============================] - 17s 368us/step - loss: 0.1773 - categorical_accuracy: 0.9369 - val_loss: 0.5489 - val_categorical_accuracy: 0.8540\n",
            "Epoch 90/100\n",
            "45000/45000 [==============================] - 17s 367us/step - loss: 0.1798 - categorical_accuracy: 0.9349 - val_loss: 0.5067 - val_categorical_accuracy: 0.8664\n",
            "Epoch 91/100\n",
            "45000/45000 [==============================] - 16s 365us/step - loss: 0.1757 - categorical_accuracy: 0.9371 - val_loss: 0.5237 - val_categorical_accuracy: 0.8618\n",
            "Epoch 92/100\n",
            "45000/45000 [==============================] - 16s 365us/step - loss: 0.1750 - categorical_accuracy: 0.9379 - val_loss: 0.5110 - val_categorical_accuracy: 0.8664\n",
            "Epoch 93/100\n",
            "45000/45000 [==============================] - 16s 365us/step - loss: 0.1657 - categorical_accuracy: 0.9406 - val_loss: 0.5395 - val_categorical_accuracy: 0.8604\n",
            "Epoch 94/100\n",
            "45000/45000 [==============================] - 16s 366us/step - loss: 0.1734 - categorical_accuracy: 0.9370 - val_loss: 0.5173 - val_categorical_accuracy: 0.8584\n",
            "Epoch 95/100\n",
            "45000/45000 [==============================] - 16s 365us/step - loss: 0.1677 - categorical_accuracy: 0.9391 - val_loss: 0.5306 - val_categorical_accuracy: 0.8612\n",
            "Epoch 96/100\n",
            "45000/45000 [==============================] - 16s 366us/step - loss: 0.1661 - categorical_accuracy: 0.9404 - val_loss: 0.5068 - val_categorical_accuracy: 0.8660\n",
            "Epoch 97/100\n",
            "45000/45000 [==============================] - 17s 367us/step - loss: 0.1687 - categorical_accuracy: 0.9402 - val_loss: 0.5167 - val_categorical_accuracy: 0.8614\n",
            "Epoch 98/100\n",
            "45000/45000 [==============================] - 17s 368us/step - loss: 0.1661 - categorical_accuracy: 0.9400 - val_loss: 0.5199 - val_categorical_accuracy: 0.8620\n",
            "Epoch 99/100\n",
            "45000/45000 [==============================] - 16s 366us/step - loss: 0.1669 - categorical_accuracy: 0.9389 - val_loss: 0.5531 - val_categorical_accuracy: 0.8622\n",
            "Epoch 100/100\n",
            "45000/45000 [==============================] - 16s 366us/step - loss: 0.1660 - categorical_accuracy: 0.9396 - val_loss: 0.4988 - val_categorical_accuracy: 0.8656\n"
          ],
          "name": "stdout"
        }
      ]
    },
    {
      "cell_type": "code",
      "metadata": {
        "id": "SPhsaod2dXic",
        "colab_type": "code",
        "outputId": "f8ea5807-219f-4500-fed6-24851a0d8197",
        "colab": {
          "base_uri": "https://localhost:8080/",
          "height": 295
        }
      },
      "source": [
        "# Plot training & validation loss values\n",
        "plt.plot(history.history['loss'])\n",
        "plt.plot(history.history['val_loss'])\n",
        "plt.title('Model loss')\n",
        "plt.ylabel('Loss')\n",
        "plt.xlabel('Epoch')\n",
        "plt.legend(['Train', 'Test'], loc='upper left')\n",
        "plt.show()"
      ],
      "execution_count": 0,
      "outputs": [
        {
          "output_type": "display_data",
          "data": {
            "image/png": "[encoded data removed]",
            "text/plain": [
              "<Figure size 432x288 with 1 Axes>"
            ]
          },
          "metadata": {
            "tags": []
          }
        }
      ]
    },
    {
      "cell_type": "code",
      "metadata": {
        "id": "zZLZwfPM1lP6",
        "colab_type": "code",
        "outputId": "74e70e07-9f13-4fd9-a392-fbc1fb872c78",
        "colab": {
          "base_uri": "https://localhost:8080/",
          "height": 52
        }
      },
      "source": [
        "model.evaluate(x_test, y_test)"
      ],
      "execution_count": 0,
      "outputs": [
        {
          "output_type": "stream",
          "text": [
            "10000/10000 [==============================] - 1s 129us/step\n"
          ],
          "name": "stdout"
        },
        {
          "output_type": "execute_result",
          "data": {
            "text/plain": [
              "[0.5135058200836181, 0.8602]"
            ]
          },
          "metadata": {
            "tags": []
          },
          "execution_count": 37
        }
      ]
    },
    {
      "cell_type": "markdown",
      "metadata": {
        "id": "j6GrWI1V_keT",
        "colab_type": "text"
      },
      "source": [
        "## Data Augmentation"
      ]
    },
    {
      "cell_type": "code",
      "metadata": {
        "id": "783klChkBPNo",
        "colab_type": "code",
        "colab": {}
      },
      "source": [
        "from sklearn.utils import shuffle"
      ],
      "execution_count": 0,
      "outputs": []
    },
    {
      "cell_type": "code",
      "metadata": {
        "id": "ZUaaWvtO9Ofy",
        "colab_type": "code",
        "colab": {}
      },
      "source": [
        "flipped = np.flip(x_train, 2)"
      ],
      "execution_count": 0,
      "outputs": []
    },
    {
      "cell_type": "code",
      "metadata": {
        "id": "wwfMPya1APBW",
        "colab_type": "code",
        "outputId": "e45c06ee-ebd7-494b-be9d-37e1c0376d46",
        "colab": {
          "base_uri": "https://localhost:8080/",
          "height": 6621
        }
      },
      "source": [
        "img = Input((32, 32, 3))\n",
        "\n",
        "# ENTRY\n",
        "\n",
        "x = Conv2D(16, 3, padding=\"same\", activation=\"relu\", strides=1)(img)\n",
        "x = BatchNormalization()(x)\n",
        "x = Activation(\"relu\")(x)\n",
        "\n",
        "# identity block\n",
        "skip = x\n",
        "\n",
        "x = Conv2D(16, 3, padding=\"same\", strides=1)(x)\n",
        "x = BatchNormalization()(x)\n",
        "x = Activation(\"relu\")(x)\n",
        "x = Dropout(0.4)(x)\n",
        "x = Conv2D(16, 3, padding=\"same\", strides=1)(x)\n",
        "x = BatchNormalization()(x)\n",
        "\n",
        "\n",
        "x = Add()([skip, x])\n",
        "x = Activation(\"relu\")(x)\n",
        "\n",
        "# identity block\n",
        "skip = x\n",
        "\n",
        "x = Conv2D(16, 3, padding=\"same\", strides=1)(x)\n",
        "x = BatchNormalization()(x)\n",
        "x = Activation(\"relu\")(x)\n",
        "x = Dropout(0.4)(x)\n",
        "x = Conv2D(16, 3, padding=\"same\", strides=1)(x)\n",
        "x = BatchNormalization()(x)\n",
        "\n",
        "\n",
        "x = Add()([skip, x])\n",
        "x = Activation(\"relu\")(x)\n",
        "\n",
        "# identity block\n",
        "skip = x\n",
        "\n",
        "x = Conv2D(16, 3, padding=\"same\", strides=1)(x)\n",
        "x = BatchNormalization()(x)\n",
        "x = Activation(\"relu\")(x)\n",
        "x = Dropout(0.4)(x)\n",
        "x = Conv2D(16, 3, padding=\"same\", strides=1)(x)\n",
        "x = BatchNormalization()(x)\n",
        "\n",
        "\n",
        "x = Add()([skip, x])\n",
        "x = Activation(\"relu\")(x)\n",
        "\n",
        "\n",
        "# residual block\n",
        "residual = Conv2D(32, 1, padding=\"same\", strides=2)(x)\n",
        "residual = BatchNormalization()(residual)\n",
        "\n",
        "x = Conv2D(32, 3, padding=\"same\", strides=2)(x)\n",
        "x = BatchNormalization()(x)\n",
        "x = Activation(\"relu\")(x)\n",
        "x = Dropout(0.4)(x)\n",
        "x = Conv2D(32, 3, padding=\"same\", strides=1)(x)\n",
        "x = BatchNormalization()(x)\n",
        "\n",
        "x = Add()([residual, x])\n",
        "x = Activation(\"relu\")(x)\n",
        "\n",
        "# identity block\n",
        "skip = x\n",
        "\n",
        "x = Conv2D(32, 3, padding=\"same\", strides=1)(x)\n",
        "x = BatchNormalization()(x)\n",
        "x = Activation(\"relu\")(x)\n",
        "x = Dropout(0.4)(x)\n",
        "x = Conv2D(32, 3, padding=\"same\", strides=1)(x)\n",
        "x = BatchNormalization()(x)\n",
        "\n",
        "\n",
        "x = Add()([skip, x])\n",
        "x = Activation(\"relu\")(x)\n",
        "\n",
        "# identity block\n",
        "skip = x\n",
        "\n",
        "x = Conv2D(32, 3, padding=\"same\", strides=1)(x)\n",
        "x = BatchNormalization()(x)\n",
        "x = Activation(\"relu\")(x)\n",
        "x = Dropout(0.4)(x)\n",
        "x = Conv2D(32, 3, padding=\"same\", strides=1)(x)\n",
        "x = BatchNormalization()(x)\n",
        "\n",
        "\n",
        "x = Add()([skip, x])\n",
        "x = Activation(\"relu\")(x)\n",
        "\n",
        "# residual block\n",
        "residual = Conv2D(64, 1, padding=\"same\", strides=2)(x)\n",
        "residual = BatchNormalization()(residual)\n",
        "\n",
        "x = Conv2D(64, 3, padding=\"same\", strides=2)(x)\n",
        "x = BatchNormalization()(x)\n",
        "x = Activation(\"relu\")(x)\n",
        "x = Dropout(0.4)(x)\n",
        "x = Conv2D(64, 3, padding=\"same\", strides=1)(x)\n",
        "x = BatchNormalization()(x)\n",
        "\n",
        "x = Add()([residual, x])\n",
        "x = Activation(\"relu\")(x)\n",
        "\n",
        "# identity block\n",
        "skip = x\n",
        "\n",
        "x = Conv2D(64, 3, padding=\"same\", strides=1)(x)\n",
        "x = BatchNormalization()(x)\n",
        "x = Activation(\"relu\")(x)\n",
        "x = Dropout(0.4)(x)\n",
        "x = Conv2D(64, 3, padding=\"same\", strides=1)(x)\n",
        "x = BatchNormalization()(x)\n",
        "\n",
        "\n",
        "x = Add()([skip, x])\n",
        "x = Activation(\"relu\")(x)\n",
        "\n",
        "# identity block\n",
        "skip = x\n",
        "\n",
        "x = Conv2D(64, 3, padding=\"same\", strides=1)(x)\n",
        "x = BatchNormalization()(x)\n",
        "x = Activation(\"relu\")(x)\n",
        "x = Dropout(0.4)(x)\n",
        "x = Conv2D(64, 3, padding=\"same\", strides=1)(x)\n",
        "x = BatchNormalization()(x)\n",
        "\n",
        "\n",
        "x = Add()([skip, x])\n",
        "x = Activation(\"relu\")(x)\n",
        "\n",
        "# END\n",
        "x = GlobalAveragePooling2D()(x)\n",
        "x = Dense(10, activation=\"softmax\")(x)\n",
        "model = Model(img, x)\n",
        "\n",
        "model.summary()\n",
        "\n",
        "opt = Adam(0.001)\n",
        "model.compile(loss=\"categorical_crossentropy\",optimizer=opt, metrics=[\"categorical_accuracy\"])\n",
        "x = np.concatenate([x_train, flipped])\n",
        "y = np.concatenate([y_train, y_train])\n",
        "x,y = shuffle(x,y)\n",
        "history = model.fit(x, y, epochs=100, batch_size=128, validation_split=0.1)"
      ],
      "execution_count": 0,
      "outputs": [
        {
          "output_type": "stream",
          "text": [
            "__________________________________________________________________________________________________\n",
            "Layer (type)                    Output Shape         Param #     Connected to                     \n",
            "==================================================================================================\n",
            "input_8 (InputLayer)            (None, 32, 32, 3)    0                                            \n",
            "__________________________________________________________________________________________________\n",
            "conv2d_30 (Conv2D)              (None, 32, 32, 16)   448         input_8[0][0]                    \n",
            "__________________________________________________________________________________________________\n",
            "batch_normalization_22 (BatchNo (None, 32, 32, 16)   64          conv2d_30[0][0]                  \n",
            "__________________________________________________________________________________________________\n",
            "activation_20 (Activation)      (None, 32, 32, 16)   0           batch_normalization_22[0][0]     \n",
            "__________________________________________________________________________________________________\n",
            "conv2d_31 (Conv2D)              (None, 32, 32, 16)   2320        activation_20[0][0]              \n",
            "__________________________________________________________________________________________________\n",
            "batch_normalization_23 (BatchNo (None, 32, 32, 16)   64          conv2d_31[0][0]                  \n",
            "__________________________________________________________________________________________________\n",
            "activation_21 (Activation)      (None, 32, 32, 16)   0           batch_normalization_23[0][0]     \n",
            "__________________________________________________________________________________________________\n",
            "dropout_16 (Dropout)            (None, 32, 32, 16)   0           activation_21[0][0]              \n",
            "__________________________________________________________________________________________________\n",
            "conv2d_32 (Conv2D)              (None, 32, 32, 16)   2320        dropout_16[0][0]                 \n",
            "__________________________________________________________________________________________________\n",
            "batch_normalization_24 (BatchNo (None, 32, 32, 16)   64          conv2d_32[0][0]                  \n",
            "__________________________________________________________________________________________________\n",
            "add_10 (Add)                    (None, 32, 32, 16)   0           activation_20[0][0]              \n",
            "                                                                 batch_normalization_24[0][0]     \n",
            "__________________________________________________________________________________________________\n",
            "activation_22 (Activation)      (None, 32, 32, 16)   0           add_10[0][0]                     \n",
            "__________________________________________________________________________________________________\n",
            "conv2d_33 (Conv2D)              (None, 32, 32, 16)   2320        activation_22[0][0]              \n",
            "__________________________________________________________________________________________________\n",
            "batch_normalization_25 (BatchNo (None, 32, 32, 16)   64          conv2d_33[0][0]                  \n",
            "__________________________________________________________________________________________________\n",
            "activation_23 (Activation)      (None, 32, 32, 16)   0           batch_normalization_25[0][0]     \n",
            "__________________________________________________________________________________________________\n",
            "dropout_17 (Dropout)            (None, 32, 32, 16)   0           activation_23[0][0]              \n",
            "__________________________________________________________________________________________________\n",
            "conv2d_34 (Conv2D)              (None, 32, 32, 16)   2320        dropout_17[0][0]                 \n",
            "__________________________________________________________________________________________________\n",
            "batch_normalization_26 (BatchNo (None, 32, 32, 16)   64          conv2d_34[0][0]                  \n",
            "__________________________________________________________________________________________________\n",
            "add_11 (Add)                    (None, 32, 32, 16)   0           activation_22[0][0]              \n",
            "                                                                 batch_normalization_26[0][0]     \n",
            "__________________________________________________________________________________________________\n",
            "activation_24 (Activation)      (None, 32, 32, 16)   0           add_11[0][0]                     \n",
            "__________________________________________________________________________________________________\n",
            "conv2d_35 (Conv2D)              (None, 32, 32, 16)   2320        activation_24[0][0]              \n",
            "__________________________________________________________________________________________________\n",
            "batch_normalization_27 (BatchNo (None, 32, 32, 16)   64          conv2d_35[0][0]                  \n",
            "__________________________________________________________________________________________________\n",
            "activation_25 (Activation)      (None, 32, 32, 16)   0           batch_normalization_27[0][0]     \n",
            "__________________________________________________________________________________________________\n",
            "dropout_18 (Dropout)            (None, 32, 32, 16)   0           activation_25[0][0]              \n",
            "__________________________________________________________________________________________________\n",
            "conv2d_36 (Conv2D)              (None, 32, 32, 16)   2320        dropout_18[0][0]                 \n",
            "__________________________________________________________________________________________________\n",
            "batch_normalization_28 (BatchNo (None, 32, 32, 16)   64          conv2d_36[0][0]                  \n",
            "__________________________________________________________________________________________________\n",
            "add_12 (Add)                    (None, 32, 32, 16)   0           activation_24[0][0]              \n",
            "                                                                 batch_normalization_28[0][0]     \n",
            "__________________________________________________________________________________________________\n",
            "activation_26 (Activation)      (None, 32, 32, 16)   0           add_12[0][0]                     \n",
            "__________________________________________________________________________________________________\n",
            "conv2d_38 (Conv2D)              (None, 16, 16, 32)   4640        activation_26[0][0]              \n",
            "__________________________________________________________________________________________________\n",
            "batch_normalization_30 (BatchNo (None, 16, 16, 32)   128         conv2d_38[0][0]                  \n",
            "__________________________________________________________________________________________________\n",
            "activation_27 (Activation)      (None, 16, 16, 32)   0           batch_normalization_30[0][0]     \n",
            "__________________________________________________________________________________________________\n",
            "dropout_19 (Dropout)            (None, 16, 16, 32)   0           activation_27[0][0]              \n",
            "__________________________________________________________________________________________________\n",
            "conv2d_37 (Conv2D)              (None, 16, 16, 32)   544         activation_26[0][0]              \n",
            "__________________________________________________________________________________________________\n",
            "conv2d_39 (Conv2D)              (None, 16, 16, 32)   9248        dropout_19[0][0]                 \n",
            "__________________________________________________________________________________________________\n",
            "batch_normalization_29 (BatchNo (None, 16, 16, 32)   128         conv2d_37[0][0]                  \n",
            "__________________________________________________________________________________________________\n",
            "batch_normalization_31 (BatchNo (None, 16, 16, 32)   128         conv2d_39[0][0]                  \n",
            "__________________________________________________________________________________________________\n",
            "add_13 (Add)                    (None, 16, 16, 32)   0           batch_normalization_29[0][0]     \n",
            "                                                                 batch_normalization_31[0][0]     \n",
            "__________________________________________________________________________________________________\n",
            "activation_28 (Activation)      (None, 16, 16, 32)   0           add_13[0][0]                     \n",
            "__________________________________________________________________________________________________\n",
            "conv2d_40 (Conv2D)              (None, 16, 16, 32)   9248        activation_28[0][0]              \n",
            "__________________________________________________________________________________________________\n",
            "batch_normalization_32 (BatchNo (None, 16, 16, 32)   128         conv2d_40[0][0]                  \n",
            "__________________________________________________________________________________________________\n",
            "activation_29 (Activation)      (None, 16, 16, 32)   0           batch_normalization_32[0][0]     \n",
            "__________________________________________________________________________________________________\n",
            "dropout_20 (Dropout)            (None, 16, 16, 32)   0           activation_29[0][0]              \n",
            "__________________________________________________________________________________________________\n",
            "conv2d_41 (Conv2D)              (None, 16, 16, 32)   9248        dropout_20[0][0]                 \n",
            "__________________________________________________________________________________________________\n",
            "batch_normalization_33 (BatchNo (None, 16, 16, 32)   128         conv2d_41[0][0]                  \n",
            "__________________________________________________________________________________________________\n",
            "add_14 (Add)                    (None, 16, 16, 32)   0           activation_28[0][0]              \n",
            "                                                                 batch_normalization_33[0][0]     \n",
            "__________________________________________________________________________________________________\n",
            "activation_30 (Activation)      (None, 16, 16, 32)   0           add_14[0][0]                     \n",
            "__________________________________________________________________________________________________\n",
            "conv2d_42 (Conv2D)              (None, 16, 16, 32)   9248        activation_30[0][0]              \n",
            "__________________________________________________________________________________________________\n",
            "batch_normalization_34 (BatchNo (None, 16, 16, 32)   128         conv2d_42[0][0]                  \n",
            "__________________________________________________________________________________________________\n",
            "activation_31 (Activation)      (None, 16, 16, 32)   0           batch_normalization_34[0][0]     \n",
            "__________________________________________________________________________________________________\n",
            "dropout_21 (Dropout)            (None, 16, 16, 32)   0           activation_31[0][0]              \n",
            "__________________________________________________________________________________________________\n",
            "conv2d_43 (Conv2D)              (None, 16, 16, 32)   9248        dropout_21[0][0]                 \n",
            "__________________________________________________________________________________________________\n",
            "batch_normalization_35 (BatchNo (None, 16, 16, 32)   128         conv2d_43[0][0]                  \n",
            "__________________________________________________________________________________________________\n",
            "add_15 (Add)                    (None, 16, 16, 32)   0           activation_30[0][0]              \n",
            "                                                                 batch_normalization_35[0][0]     \n",
            "__________________________________________________________________________________________________\n",
            "activation_32 (Activation)      (None, 16, 16, 32)   0           add_15[0][0]                     \n",
            "__________________________________________________________________________________________________\n",
            "conv2d_45 (Conv2D)              (None, 8, 8, 64)     18496       activation_32[0][0]              \n",
            "__________________________________________________________________________________________________\n",
            "batch_normalization_37 (BatchNo (None, 8, 8, 64)     256         conv2d_45[0][0]                  \n",
            "__________________________________________________________________________________________________\n",
            "activation_33 (Activation)      (None, 8, 8, 64)     0           batch_normalization_37[0][0]     \n",
            "__________________________________________________________________________________________________\n",
            "dropout_22 (Dropout)            (None, 8, 8, 64)     0           activation_33[0][0]              \n",
            "__________________________________________________________________________________________________\n",
            "conv2d_44 (Conv2D)              (None, 8, 8, 64)     2112        activation_32[0][0]              \n",
            "__________________________________________________________________________________________________\n",
            "conv2d_46 (Conv2D)              (None, 8, 8, 64)     36928       dropout_22[0][0]                 \n",
            "__________________________________________________________________________________________________\n",
            "batch_normalization_36 (BatchNo (None, 8, 8, 64)     256         conv2d_44[0][0]                  \n",
            "__________________________________________________________________________________________________\n",
            "batch_normalization_38 (BatchNo (None, 8, 8, 64)     256         conv2d_46[0][0]                  \n",
            "__________________________________________________________________________________________________\n",
            "add_16 (Add)                    (None, 8, 8, 64)     0           batch_normalization_36[0][0]     \n",
            "                                                                 batch_normalization_38[0][0]     \n",
            "__________________________________________________________________________________________________\n",
            "activation_34 (Activation)      (None, 8, 8, 64)     0           add_16[0][0]                     \n",
            "__________________________________________________________________________________________________\n",
            "conv2d_47 (Conv2D)              (None, 8, 8, 64)     36928       activation_34[0][0]              \n",
            "__________________________________________________________________________________________________\n",
            "batch_normalization_39 (BatchNo (None, 8, 8, 64)     256         conv2d_47[0][0]                  \n",
            "__________________________________________________________________________________________________\n",
            "activation_35 (Activation)      (None, 8, 8, 64)     0           batch_normalization_39[0][0]     \n",
            "__________________________________________________________________________________________________\n",
            "dropout_23 (Dropout)            (None, 8, 8, 64)     0           activation_35[0][0]              \n",
            "__________________________________________________________________________________________________\n",
            "conv2d_48 (Conv2D)              (None, 8, 8, 64)     36928       dropout_23[0][0]                 \n",
            "__________________________________________________________________________________________________\n",
            "batch_normalization_40 (BatchNo (None, 8, 8, 64)     256         conv2d_48[0][0]                  \n",
            "__________________________________________________________________________________________________\n",
            "add_17 (Add)                    (None, 8, 8, 64)     0           activation_34[0][0]              \n",
            "                                                                 batch_normalization_40[0][0]     \n",
            "__________________________________________________________________________________________________\n",
            "activation_36 (Activation)      (None, 8, 8, 64)     0           add_17[0][0]                     \n",
            "__________________________________________________________________________________________________\n",
            "conv2d_49 (Conv2D)              (None, 8, 8, 64)     36928       activation_36[0][0]              \n",
            "__________________________________________________________________________________________________\n",
            "batch_normalization_41 (BatchNo (None, 8, 8, 64)     256         conv2d_49[0][0]                  \n",
            "__________________________________________________________________________________________________\n",
            "activation_37 (Activation)      (None, 8, 8, 64)     0           batch_normalization_41[0][0]     \n",
            "__________________________________________________________________________________________________\n",
            "dropout_24 (Dropout)            (None, 8, 8, 64)     0           activation_37[0][0]              \n",
            "__________________________________________________________________________________________________\n",
            "conv2d_50 (Conv2D)              (None, 8, 8, 64)     36928       dropout_24[0][0]                 \n",
            "__________________________________________________________________________________________________\n",
            "batch_normalization_42 (BatchNo (None, 8, 8, 64)     256         conv2d_50[0][0]                  \n",
            "__________________________________________________________________________________________________\n",
            "add_18 (Add)                    (None, 8, 8, 64)     0           activation_36[0][0]              \n",
            "                                                                 batch_normalization_42[0][0]     \n",
            "__________________________________________________________________________________________________\n",
            "activation_38 (Activation)      (None, 8, 8, 64)     0           add_18[0][0]                     \n",
            "__________________________________________________________________________________________________\n",
            "global_average_pooling2d_2 (Glo (None, 64)           0           activation_38[0][0]              \n",
            "__________________________________________________________________________________________________\n",
            "dense_14 (Dense)                (None, 10)           650         global_average_pooling2d_2[0][0] \n",
            "==================================================================================================\n",
            "Total params: 274,826\n",
            "Trainable params: 273,258\n",
            "Non-trainable params: 1,568\n",
            "__________________________________________________________________________________________________\n",
            "Train on 90000 samples, validate on 10000 samples\n",
            "Epoch 1/100\n",
            "90000/90000 [==============================] - 38s 418us/step - loss: 1.4062 - categorical_accuracy: 0.4820 - val_loss: 1.2299 - val_categorical_accuracy: 0.5753\n",
            "Epoch 2/100\n",
            "90000/90000 [==============================] - 33s 366us/step - loss: 0.9914 - categorical_accuracy: 0.6460 - val_loss: 1.0525 - val_categorical_accuracy: 0.6419\n",
            "Epoch 3/100\n",
            "90000/90000 [==============================] - 33s 363us/step - loss: 0.8459 - categorical_accuracy: 0.6993 - val_loss: 0.7788 - val_categorical_accuracy: 0.7267\n",
            "Epoch 4/100\n",
            "90000/90000 [==============================] - 33s 366us/step - loss: 0.7458 - categorical_accuracy: 0.7364 - val_loss: 0.6770 - val_categorical_accuracy: 0.7603\n",
            "Epoch 5/100\n",
            "90000/90000 [==============================] - 33s 363us/step - loss: 0.6751 - categorical_accuracy: 0.7621 - val_loss: 0.6643 - val_categorical_accuracy: 0.7736\n",
            "Epoch 6/100\n",
            "90000/90000 [==============================] - 33s 364us/step - loss: 0.6207 - categorical_accuracy: 0.7838 - val_loss: 0.6331 - val_categorical_accuracy: 0.7799\n",
            "Epoch 7/100\n",
            "90000/90000 [==============================] - 33s 364us/step - loss: 0.5822 - categorical_accuracy: 0.7958 - val_loss: 0.6857 - val_categorical_accuracy: 0.7733\n",
            "Epoch 8/100\n",
            "90000/90000 [==============================] - 33s 364us/step - loss: 0.5502 - categorical_accuracy: 0.8070 - val_loss: 0.5838 - val_categorical_accuracy: 0.8007\n",
            "Epoch 9/100\n",
            "90000/90000 [==============================] - 33s 364us/step - loss: 0.5215 - categorical_accuracy: 0.8168 - val_loss: 0.5100 - val_categorical_accuracy: 0.8250\n",
            "Epoch 10/100\n",
            "90000/90000 [==============================] - 33s 364us/step - loss: 0.5001 - categorical_accuracy: 0.8249 - val_loss: 0.5365 - val_categorical_accuracy: 0.8154\n",
            "Epoch 11/100\n",
            "90000/90000 [==============================] - 33s 366us/step - loss: 0.4771 - categorical_accuracy: 0.8329 - val_loss: 0.4907 - val_categorical_accuracy: 0.8335\n",
            "Epoch 12/100\n",
            "90000/90000 [==============================] - 33s 364us/step - loss: 0.4632 - categorical_accuracy: 0.8383 - val_loss: 0.4647 - val_categorical_accuracy: 0.8419\n",
            "Epoch 13/100\n",
            "90000/90000 [==============================] - 33s 367us/step - loss: 0.4462 - categorical_accuracy: 0.8435 - val_loss: 0.4602 - val_categorical_accuracy: 0.8413\n",
            "Epoch 14/100\n",
            "90000/90000 [==============================] - 33s 364us/step - loss: 0.4330 - categorical_accuracy: 0.8490 - val_loss: 0.4442 - val_categorical_accuracy: 0.8452\n",
            "Epoch 15/100\n",
            "90000/90000 [==============================] - 33s 363us/step - loss: 0.4189 - categorical_accuracy: 0.8520 - val_loss: 0.4470 - val_categorical_accuracy: 0.8499\n",
            "Epoch 16/100\n",
            "90000/90000 [==============================] - 33s 364us/step - loss: 0.4069 - categorical_accuracy: 0.8570 - val_loss: 0.4015 - val_categorical_accuracy: 0.8647\n",
            "Epoch 17/100\n",
            "90000/90000 [==============================] - 33s 365us/step - loss: 0.3963 - categorical_accuracy: 0.8613 - val_loss: 0.4163 - val_categorical_accuracy: 0.8596\n",
            "Epoch 18/100\n",
            "90000/90000 [==============================] - 33s 363us/step - loss: 0.3853 - categorical_accuracy: 0.8642 - val_loss: 0.4351 - val_categorical_accuracy: 0.8519\n",
            "Epoch 19/100\n",
            "90000/90000 [==============================] - 33s 363us/step - loss: 0.3743 - categorical_accuracy: 0.8685 - val_loss: 0.4249 - val_categorical_accuracy: 0.8552\n",
            "Epoch 20/100\n",
            "90000/90000 [==============================] - 33s 363us/step - loss: 0.3673 - categorical_accuracy: 0.8709 - val_loss: 0.3914 - val_categorical_accuracy: 0.8716\n",
            "Epoch 21/100\n",
            "90000/90000 [==============================] - 33s 364us/step - loss: 0.3564 - categorical_accuracy: 0.8742 - val_loss: 0.3700 - val_categorical_accuracy: 0.8751\n",
            "Epoch 22/100\n",
            "90000/90000 [==============================] - 33s 363us/step - loss: 0.3521 - categorical_accuracy: 0.8754 - val_loss: 0.3776 - val_categorical_accuracy: 0.8697\n",
            "Epoch 23/100\n",
            "90000/90000 [==============================] - 33s 364us/step - loss: 0.3445 - categorical_accuracy: 0.8782 - val_loss: 0.3914 - val_categorical_accuracy: 0.8682\n",
            "Epoch 24/100\n",
            "90000/90000 [==============================] - 33s 364us/step - loss: 0.3366 - categorical_accuracy: 0.8806 - val_loss: 0.3616 - val_categorical_accuracy: 0.8772\n",
            "Epoch 25/100\n",
            "90000/90000 [==============================] - 33s 364us/step - loss: 0.3285 - categorical_accuracy: 0.8834 - val_loss: 0.3559 - val_categorical_accuracy: 0.8796\n",
            "Epoch 26/100\n",
            "90000/90000 [==============================] - 33s 365us/step - loss: 0.3245 - categorical_accuracy: 0.8858 - val_loss: 0.3586 - val_categorical_accuracy: 0.8774\n",
            "Epoch 27/100\n",
            "90000/90000 [==============================] - 33s 364us/step - loss: 0.3167 - categorical_accuracy: 0.8870 - val_loss: 0.3836 - val_categorical_accuracy: 0.8704\n",
            "Epoch 28/100\n",
            "90000/90000 [==============================] - 33s 365us/step - loss: 0.3113 - categorical_accuracy: 0.8892 - val_loss: 0.3671 - val_categorical_accuracy: 0.8774\n",
            "Epoch 29/100\n",
            "90000/90000 [==============================] - 33s 365us/step - loss: 0.3094 - categorical_accuracy: 0.8896 - val_loss: 0.3579 - val_categorical_accuracy: 0.8804\n",
            "Epoch 30/100\n",
            "90000/90000 [==============================] - 33s 363us/step - loss: 0.3016 - categorical_accuracy: 0.8933 - val_loss: 0.3511 - val_categorical_accuracy: 0.8792\n",
            "Epoch 31/100\n",
            "90000/90000 [==============================] - 33s 364us/step - loss: 0.2957 - categorical_accuracy: 0.8936 - val_loss: 0.3578 - val_categorical_accuracy: 0.8818\n",
            "Epoch 32/100\n",
            "90000/90000 [==============================] - 33s 366us/step - loss: 0.2946 - categorical_accuracy: 0.8949 - val_loss: 0.3478 - val_categorical_accuracy: 0.8857\n",
            "Epoch 33/100\n",
            "90000/90000 [==============================] - 33s 364us/step - loss: 0.2909 - categorical_accuracy: 0.8962 - val_loss: 0.3513 - val_categorical_accuracy: 0.8833\n",
            "Epoch 34/100\n",
            "90000/90000 [==============================] - 33s 363us/step - loss: 0.2863 - categorical_accuracy: 0.8983 - val_loss: 0.3968 - val_categorical_accuracy: 0.8705\n",
            "Epoch 35/100\n",
            "90000/90000 [==============================] - 33s 364us/step - loss: 0.2756 - categorical_accuracy: 0.9023 - val_loss: 0.3605 - val_categorical_accuracy: 0.8784\n",
            "Epoch 36/100\n",
            "90000/90000 [==============================] - 33s 365us/step - loss: 0.2781 - categorical_accuracy: 0.9018 - val_loss: 0.3424 - val_categorical_accuracy: 0.8864\n",
            "Epoch 37/100\n",
            "90000/90000 [==============================] - 33s 364us/step - loss: 0.2745 - categorical_accuracy: 0.9024 - val_loss: 0.3322 - val_categorical_accuracy: 0.8859\n",
            "Epoch 38/100\n",
            "90000/90000 [==============================] - 33s 365us/step - loss: 0.2729 - categorical_accuracy: 0.9022 - val_loss: 0.3304 - val_categorical_accuracy: 0.8906\n",
            "Epoch 39/100\n",
            "90000/90000 [==============================] - 33s 363us/step - loss: 0.2665 - categorical_accuracy: 0.9049 - val_loss: 0.3230 - val_categorical_accuracy: 0.8902\n",
            "Epoch 40/100\n",
            "90000/90000 [==============================] - 33s 364us/step - loss: 0.2627 - categorical_accuracy: 0.9062 - val_loss: 0.3187 - val_categorical_accuracy: 0.8933\n",
            "Epoch 41/100\n",
            "90000/90000 [==============================] - 33s 363us/step - loss: 0.2600 - categorical_accuracy: 0.9071 - val_loss: 0.3197 - val_categorical_accuracy: 0.8927\n",
            "Epoch 42/100\n",
            "90000/90000 [==============================] - 33s 365us/step - loss: 0.2592 - categorical_accuracy: 0.9060 - val_loss: 0.3382 - val_categorical_accuracy: 0.8884\n",
            "Epoch 43/100\n",
            "90000/90000 [==============================] - 33s 363us/step - loss: 0.2546 - categorical_accuracy: 0.9088 - val_loss: 0.3367 - val_categorical_accuracy: 0.8899\n",
            "Epoch 44/100\n",
            "90000/90000 [==============================] - 33s 362us/step - loss: 0.2509 - categorical_accuracy: 0.9090 - val_loss: 0.3283 - val_categorical_accuracy: 0.8916\n",
            "Epoch 45/100\n",
            "90000/90000 [==============================] - 33s 364us/step - loss: 0.2481 - categorical_accuracy: 0.9104 - val_loss: 0.3040 - val_categorical_accuracy: 0.9008\n",
            "Epoch 46/100\n",
            "90000/90000 [==============================] - 33s 364us/step - loss: 0.2463 - categorical_accuracy: 0.9114 - val_loss: 0.3649 - val_categorical_accuracy: 0.8815\n",
            "Epoch 47/100\n",
            "90000/90000 [==============================] - 33s 364us/step - loss: 0.2410 - categorical_accuracy: 0.9130 - val_loss: 0.3232 - val_categorical_accuracy: 0.8947\n",
            "Epoch 48/100\n",
            "90000/90000 [==============================] - 33s 363us/step - loss: 0.2425 - categorical_accuracy: 0.9122 - val_loss: 0.3320 - val_categorical_accuracy: 0.8910\n",
            "Epoch 49/100\n",
            "90000/90000 [==============================] - 33s 364us/step - loss: 0.2374 - categorical_accuracy: 0.9147 - val_loss: 0.3411 - val_categorical_accuracy: 0.8872\n",
            "Epoch 50/100\n",
            "90000/90000 [==============================] - 33s 364us/step - loss: 0.2355 - categorical_accuracy: 0.9163 - val_loss: 0.3243 - val_categorical_accuracy: 0.8941\n",
            "Epoch 51/100\n",
            "90000/90000 [==============================] - 33s 365us/step - loss: 0.2336 - categorical_accuracy: 0.9169 - val_loss: 0.3299 - val_categorical_accuracy: 0.8924\n",
            "Epoch 52/100\n",
            "90000/90000 [==============================] - 33s 362us/step - loss: 0.2286 - categorical_accuracy: 0.9185 - val_loss: 0.3528 - val_categorical_accuracy: 0.8805\n",
            "Epoch 53/100\n",
            "90000/90000 [==============================] - 33s 364us/step - loss: 0.2314 - categorical_accuracy: 0.9163 - val_loss: 0.3250 - val_categorical_accuracy: 0.8962\n",
            "Epoch 54/100\n",
            "90000/90000 [==============================] - 33s 363us/step - loss: 0.2264 - categorical_accuracy: 0.9180 - val_loss: 0.3080 - val_categorical_accuracy: 0.8983\n",
            "Epoch 55/100\n",
            "90000/90000 [==============================] - 33s 363us/step - loss: 0.2262 - categorical_accuracy: 0.9196 - val_loss: 0.2986 - val_categorical_accuracy: 0.9016\n",
            "Epoch 56/100\n",
            "90000/90000 [==============================] - 33s 363us/step - loss: 0.2244 - categorical_accuracy: 0.9196 - val_loss: 0.3125 - val_categorical_accuracy: 0.8993\n",
            "Epoch 57/100\n",
            "90000/90000 [==============================] - 33s 363us/step - loss: 0.2190 - categorical_accuracy: 0.9209 - val_loss: 0.3034 - val_categorical_accuracy: 0.9011\n",
            "Epoch 58/100\n",
            "90000/90000 [==============================] - 33s 363us/step - loss: 0.2216 - categorical_accuracy: 0.9204 - val_loss: 0.2926 - val_categorical_accuracy: 0.9034\n",
            "Epoch 59/100\n",
            "90000/90000 [==============================] - 33s 363us/step - loss: 0.2157 - categorical_accuracy: 0.9218 - val_loss: 0.3130 - val_categorical_accuracy: 0.8940\n",
            "Epoch 60/100\n",
            "90000/90000 [==============================] - 33s 364us/step - loss: 0.2166 - categorical_accuracy: 0.9209 - val_loss: 0.3320 - val_categorical_accuracy: 0.8938\n",
            "Epoch 61/100\n",
            "90000/90000 [==============================] - 33s 365us/step - loss: 0.2162 - categorical_accuracy: 0.9216 - val_loss: 0.3033 - val_categorical_accuracy: 0.9009\n",
            "Epoch 62/100\n",
            "90000/90000 [==============================] - 33s 362us/step - loss: 0.2099 - categorical_accuracy: 0.9253 - val_loss: 0.3106 - val_categorical_accuracy: 0.9005\n",
            "Epoch 63/100\n",
            "90000/90000 [==============================] - 33s 363us/step - loss: 0.2091 - categorical_accuracy: 0.9234 - val_loss: 0.3045 - val_categorical_accuracy: 0.9005\n",
            "Epoch 64/100\n",
            "90000/90000 [==============================] - 33s 363us/step - loss: 0.2084 - categorical_accuracy: 0.9236 - val_loss: 0.3038 - val_categorical_accuracy: 0.9030\n",
            "Epoch 65/100\n",
            "90000/90000 [==============================] - 33s 371us/step - loss: 0.2079 - categorical_accuracy: 0.9242 - val_loss: 0.3253 - val_categorical_accuracy: 0.8970\n",
            "Epoch 66/100\n",
            "90000/90000 [==============================] - 33s 371us/step - loss: 0.2040 - categorical_accuracy: 0.9261 - val_loss: 0.3062 - val_categorical_accuracy: 0.9009\n",
            "Epoch 67/100\n",
            "90000/90000 [==============================] - 33s 363us/step - loss: 0.2054 - categorical_accuracy: 0.9248 - val_loss: 0.3118 - val_categorical_accuracy: 0.8972\n",
            "Epoch 68/100\n",
            "90000/90000 [==============================] - 33s 366us/step - loss: 0.2037 - categorical_accuracy: 0.9262 - val_loss: 0.3069 - val_categorical_accuracy: 0.9026\n",
            "Epoch 69/100\n",
            "90000/90000 [==============================] - 33s 363us/step - loss: 0.2008 - categorical_accuracy: 0.9271 - val_loss: 0.2985 - val_categorical_accuracy: 0.9031\n",
            "Epoch 70/100\n",
            "90000/90000 [==============================] - 33s 367us/step - loss: 0.1974 - categorical_accuracy: 0.9286 - val_loss: 0.2917 - val_categorical_accuracy: 0.9051\n",
            "Epoch 71/100\n",
            "90000/90000 [==============================] - 33s 363us/step - loss: 0.1976 - categorical_accuracy: 0.9282 - val_loss: 0.2802 - val_categorical_accuracy: 0.9075\n",
            "Epoch 72/100\n",
            "90000/90000 [==============================] - 33s 364us/step - loss: 0.1965 - categorical_accuracy: 0.9287 - val_loss: 0.3050 - val_categorical_accuracy: 0.9013\n",
            "Epoch 73/100\n",
            "90000/90000 [==============================] - 33s 367us/step - loss: 0.1965 - categorical_accuracy: 0.9284 - val_loss: 0.3189 - val_categorical_accuracy: 0.8986\n",
            "Epoch 74/100\n",
            "90000/90000 [==============================] - 33s 366us/step - loss: 0.1927 - categorical_accuracy: 0.9312 - val_loss: 0.3398 - val_categorical_accuracy: 0.8912\n",
            "Epoch 75/100\n",
            "90000/90000 [==============================] - 33s 364us/step - loss: 0.1945 - categorical_accuracy: 0.9288 - val_loss: 0.3043 - val_categorical_accuracy: 0.9023\n",
            "Epoch 76/100\n",
            "90000/90000 [==============================] - 33s 362us/step - loss: 0.1912 - categorical_accuracy: 0.9313 - val_loss: 0.3127 - val_categorical_accuracy: 0.9020\n",
            "Epoch 77/100\n",
            "90000/90000 [==============================] - 33s 361us/step - loss: 0.1904 - categorical_accuracy: 0.9313 - val_loss: 0.3183 - val_categorical_accuracy: 0.8951\n",
            "Epoch 78/100\n",
            "90000/90000 [==============================] - 32s 361us/step - loss: 0.1877 - categorical_accuracy: 0.9314 - val_loss: 0.3070 - val_categorical_accuracy: 0.9033\n",
            "Epoch 79/100\n",
            "90000/90000 [==============================] - 32s 361us/step - loss: 0.1863 - categorical_accuracy: 0.9318 - val_loss: 0.2913 - val_categorical_accuracy: 0.9066\n",
            "Epoch 80/100\n",
            "90000/90000 [==============================] - 33s 362us/step - loss: 0.1877 - categorical_accuracy: 0.9309 - val_loss: 0.3012 - val_categorical_accuracy: 0.9019\n",
            "Epoch 81/100\n",
            "90000/90000 [==============================] - 32s 359us/step - loss: 0.1895 - categorical_accuracy: 0.9311 - val_loss: 0.2906 - val_categorical_accuracy: 0.9084\n",
            "Epoch 82/100\n",
            "90000/90000 [==============================] - 32s 359us/step - loss: 0.1817 - categorical_accuracy: 0.9343 - val_loss: 0.2896 - val_categorical_accuracy: 0.9090\n",
            "Epoch 83/100\n",
            "90000/90000 [==============================] - 32s 360us/step - loss: 0.1835 - categorical_accuracy: 0.9330 - val_loss: 0.2982 - val_categorical_accuracy: 0.9077\n",
            "Epoch 84/100\n",
            "90000/90000 [==============================] - 32s 359us/step - loss: 0.1807 - categorical_accuracy: 0.9344 - val_loss: 0.2856 - val_categorical_accuracy: 0.9097\n",
            "Epoch 85/100\n",
            "90000/90000 [==============================] - 32s 360us/step - loss: 0.1804 - categorical_accuracy: 0.9342 - val_loss: 0.2897 - val_categorical_accuracy: 0.9094\n",
            "Epoch 86/100\n",
            "90000/90000 [==============================] - 32s 359us/step - loss: 0.1780 - categorical_accuracy: 0.9348 - val_loss: 0.3111 - val_categorical_accuracy: 0.9059\n",
            "Epoch 87/100\n",
            "90000/90000 [==============================] - 32s 359us/step - loss: 0.1810 - categorical_accuracy: 0.9339 - val_loss: 0.2881 - val_categorical_accuracy: 0.9093\n",
            "Epoch 88/100\n",
            "90000/90000 [==============================] - 32s 358us/step - loss: 0.1784 - categorical_accuracy: 0.9349 - val_loss: 0.3069 - val_categorical_accuracy: 0.9043\n",
            "Epoch 89/100\n",
            "90000/90000 [==============================] - 32s 360us/step - loss: 0.1753 - categorical_accuracy: 0.9354 - val_loss: 0.2848 - val_categorical_accuracy: 0.9113\n",
            "Epoch 90/100\n",
            "90000/90000 [==============================] - 32s 359us/step - loss: 0.1762 - categorical_accuracy: 0.9363 - val_loss: 0.3040 - val_categorical_accuracy: 0.9036\n",
            "Epoch 91/100\n",
            "90000/90000 [==============================] - 32s 358us/step - loss: 0.1735 - categorical_accuracy: 0.9367 - val_loss: 0.2973 - val_categorical_accuracy: 0.9095\n",
            "Epoch 92/100\n",
            "90000/90000 [==============================] - 32s 359us/step - loss: 0.1753 - categorical_accuracy: 0.9359 - val_loss: 0.3126 - val_categorical_accuracy: 0.9040\n",
            "Epoch 93/100\n",
            "90000/90000 [==============================] - 32s 360us/step - loss: 0.1736 - categorical_accuracy: 0.9374 - val_loss: 0.2910 - val_categorical_accuracy: 0.9071\n",
            "Epoch 94/100\n",
            "90000/90000 [==============================] - 32s 360us/step - loss: 0.1745 - categorical_accuracy: 0.9367 - val_loss: 0.2917 - val_categorical_accuracy: 0.9070\n",
            "Epoch 95/100\n",
            "90000/90000 [==============================] - 33s 362us/step - loss: 0.1693 - categorical_accuracy: 0.9381 - val_loss: 0.3046 - val_categorical_accuracy: 0.9068\n",
            "Epoch 96/100\n",
            "90000/90000 [==============================] - 32s 360us/step - loss: 0.1721 - categorical_accuracy: 0.9370 - val_loss: 0.2855 - val_categorical_accuracy: 0.9088\n",
            "Epoch 97/100\n",
            "90000/90000 [==============================] - 32s 359us/step - loss: 0.1689 - categorical_accuracy: 0.9389 - val_loss: 0.3002 - val_categorical_accuracy: 0.9054\n",
            "Epoch 98/100\n",
            "90000/90000 [==============================] - 32s 360us/step - loss: 0.1718 - categorical_accuracy: 0.9372 - val_loss: 0.2930 - val_categorical_accuracy: 0.9101\n",
            "Epoch 99/100\n",
            "90000/90000 [==============================] - 32s 359us/step - loss: 0.1664 - categorical_accuracy: 0.9402 - val_loss: 0.2956 - val_categorical_accuracy: 0.9055\n",
            "Epoch 100/100\n",
            "90000/90000 [==============================] - 32s 359us/step - loss: 0.1684 - categorical_accuracy: 0.9387 - val_loss: 0.2979 - val_categorical_accuracy: 0.9066\n"
          ],
          "name": "stdout"
        }
      ]
    },
    {
      "cell_type": "code",
      "metadata": {
        "id": "Am4uWjWLBWes",
        "colab_type": "code",
        "outputId": "9a0f346b-4c25-4bd5-f310-e3b083f34b4a",
        "colab": {
          "base_uri": "https://localhost:8080/",
          "height": 52
        }
      },
      "source": [
        "model.evaluate(x_test, y_test)"
      ],
      "execution_count": 0,
      "outputs": [
        {
          "output_type": "stream",
          "text": [
            "10000/10000 [==============================] - 1s 132us/step\n"
          ],
          "name": "stdout"
        },
        {
          "output_type": "execute_result",
          "data": {
            "text/plain": [
              "[0.4050118687182665, 0.8866]"
            ]
          },
          "metadata": {
            "tags": []
          },
          "execution_count": 41
        }
      ]
    }
  ]
}