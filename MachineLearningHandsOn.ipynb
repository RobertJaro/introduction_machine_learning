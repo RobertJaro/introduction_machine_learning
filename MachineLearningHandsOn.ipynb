{
  "nbformat": 4,
  "nbformat_minor": 0,
  "metadata": {
    "colab": {
      "name": "MachineLearningHandsOn.ipynb",
      "provenance": [],
      "collapsed_sections": []
    },
    "kernelspec": {
      "name": "python3",
      "display_name": "Python 3"
    },
    "accelerator": "GPU"
  },
  "cells": [
    {
      "cell_type": "markdown",
      "metadata": {
        "id": "AIHvaa5dyeMQ"
      },
      "source": [
        "# Introduction"
      ]
    },
    {
      "cell_type": "markdown",
      "metadata": {
        "id": "UdRlmbxw-QR6"
      },
      "source": [
        "This is a first introduction to deep learning. We will focus on simple image classification tasks to gain experience with neural network architectures, model training and utilizing a deep learning framework. For the implementation we will use Keras, which enables us to create and train neural networks with just a few lines of code."
      ]
    },
    {
      "cell_type": "markdown",
      "metadata": {
        "id": "HtBqW2A1yZHW"
      },
      "source": [
        "# Image Classification"
      ]
    },
    {
      "cell_type": "markdown",
      "metadata": {
        "id": "p3E0ZtHkLnWZ"
      },
      "source": [
        "## Dataset"
      ]
    },
    {
      "cell_type": "code",
      "metadata": {
        "id": "qkDRuBqZDb3k"
      },
      "source": [
        "from keras.datasets import mnist\n",
        "from matplotlib import pyplot as plt\n",
        "import numpy as np\n",
        "from tensorflow.keras.utils import to_categorical"
      ],
      "execution_count": 2,
      "outputs": []
    },
    {
      "cell_type": "markdown",
      "metadata": {
        "id": "T0pXmHEu-L0x"
      },
      "source": [
        "Keras provides easy access to one of the most used datasets, MNIST. This dataset consists of images of handwritten digits between 0 and 9 and the corresponding labels. The images are greyscale with 28x28 pixels.\n",
        "\n",
        "Deep learning is all about generalization to the problem which we are trying to solve. To measure this we need to separate the dataset. We strictly split a training set and a test set. The **training set** is used for the learning progress. The **test set** is never used for training! It serves for estimating the final model, it therefore will provide an estimate for the model performance.\n",
        "To find a good configuration during the learning phase an additional set is split from the training set, the **validation set**, this will be continuously monitored.\n"
      ]
    },
    {
      "cell_type": "code",
      "metadata": {
        "id": "HQ5vqBeHDxXH",
        "outputId": "20ab6791-0b4e-4ba1-a66c-a350377a7d03",
        "colab": {
          "base_uri": "https://localhost:8080/"
        }
      },
      "source": [
        "(x_train, y_train), (x_test, y_test) = mnist.load_data()"
      ],
      "execution_count": 3,
      "outputs": [
        {
          "output_type": "stream",
          "name": "stdout",
          "text": [
            "Downloading data from https://storage.googleapis.com/tensorflow/tf-keras-datasets/mnist.npz\n",
            "11493376/11490434 [==============================] - 0s 0us/step\n",
            "11501568/11490434 [==============================] - 0s 0us/step\n"
          ]
        }
      ]
    },
    {
      "cell_type": "markdown",
      "metadata": {
        "id": "Inwgfr9uDeDi"
      },
      "source": [
        "The data is provided as a numpy array. As a first step we want to investigate the data. Let's start with the dimensionality."
      ]
    },
    {
      "cell_type": "code",
      "metadata": {
        "id": "f_oxqLrHDz7V",
        "outputId": "4ac7fd79-33e0-4431-ee58-abab139c24ac",
        "colab": {
          "base_uri": "https://localhost:8080/"
        }
      },
      "source": [
        "print(\"X -SHAPE\", x_train.shape)\n",
        "print(\"Y -SHAPE\", y_train.shape)"
      ],
      "execution_count": 4,
      "outputs": [
        {
          "output_type": "stream",
          "name": "stdout",
          "text": [
            "X -SHAPE (60000, 28, 28)\n",
            "Y -SHAPE (60000,)\n"
          ]
        }
      ]
    },
    {
      "cell_type": "markdown",
      "metadata": {
        "id": "XlBni-d2G0_C"
      },
      "source": [
        "There are 60000 samles. The x-data consists of the images each with 28x28 pixels."
      ]
    },
    {
      "cell_type": "code",
      "metadata": {
        "id": "HX6yTrQYD_6V",
        "outputId": "db337e21-7423-491a-9ad1-6f756e59edf8",
        "colab": {
          "base_uri": "https://localhost:8080/"
        }
      },
      "source": [
        "y_train"
      ],
      "execution_count": 5,
      "outputs": [
        {
          "output_type": "execute_result",
          "data": {
            "text/plain": [
              "array([5, 0, 4, ..., 5, 6, 8], dtype=uint8)"
            ]
          },
          "metadata": {},
          "execution_count": 5
        }
      ]
    },
    {
      "cell_type": "markdown",
      "metadata": {
        "id": "Jz4gSiVrHBXh"
      },
      "source": [
        "The y-data consists of the corresponding labels. Digits from 0 to 9."
      ]
    },
    {
      "cell_type": "markdown",
      "metadata": {
        "id": "uxWVW2tWHVfo"
      },
      "source": [
        "Lets plot the images with matplotlib, to get an idea of what we are dealing with."
      ]
    },
    {
      "cell_type": "code",
      "metadata": {
        "id": "2-T557UAErMl",
        "outputId": "77a0f8ae-c3fd-4a0a-c7c7-ae76e7a38947",
        "colab": {
          "base_uri": "https://localhost:8080/",
          "height": 265
        }
      },
      "source": [
        "plt.imshow(x_train[0])\n",
        "plt.show()"
      ],
      "execution_count": 6,
      "outputs": [
        {
          "output_type": "display_data",
          "data": {
            "image/png": "[encoded data removed]",
            "text/plain": [
              "<Figure size 432x288 with 1 Axes>"
            ]
          },
          "metadata": {
            "needs_background": "light"
          }
        }
      ]
    },
    {
      "cell_type": "markdown",
      "metadata": {
        "id": "hTTY4NaPH44d"
      },
      "source": [
        "An important factor for the convergence of the network is the normalization of the input data, therefore we check the value range."
      ]
    },
    {
      "cell_type": "code",
      "metadata": {
        "id": "Mq0gPAN3IQDl",
        "outputId": "0ce73854-7f09-48af-b807-09e8a8f035df",
        "colab": {
          "base_uri": "https://localhost:8080/"
        }
      },
      "source": [
        "print(\"MAX-VALUE\", np.max(x_train))\n",
        "print(\"MIN-VALUE\", np.min(x_train))"
      ],
      "execution_count": 7,
      "outputs": [
        {
          "output_type": "stream",
          "name": "stdout",
          "text": [
            "MAX-VALUE 255\n",
            "MIN-VALUE 0\n"
          ]
        }
      ]
    },
    {
      "cell_type": "markdown",
      "metadata": {
        "id": "ftbPdEejIcu1"
      },
      "source": [
        "Large values can result in spikes during the training which disrupt the model. Small values make it easier for the model to adjust, therefore we normalize the data to the interval [-1, 1] to benefit the convergence."
      ]
    },
    {
      "cell_type": "code",
      "metadata": {
        "id": "YHf0YUFBKZIE"
      },
      "source": [
        "norm_x_train = (x_train - 127.5) / 127.5"
      ],
      "execution_count": 8,
      "outputs": []
    },
    {
      "cell_type": "markdown",
      "metadata": {
        "id": "hgTR5bKMIxjG"
      },
      "source": [
        "Images are provided with there channels as large dimension. For RGB = 3, greyscale = 1. Therefore we reshape each image from (28, 28) to (28, 28, 1)."
      ]
    },
    {
      "cell_type": "code",
      "metadata": {
        "id": "p1xbT57bO3o0",
        "outputId": "01b157a2-fc2f-4e6f-8cec-540a87ee21af",
        "colab": {
          "base_uri": "https://localhost:8080/"
        }
      },
      "source": [
        "norm_x_train = norm_x_train.reshape((-1, 28, 28, 1))\n",
        "norm_x_train.shape"
      ],
      "execution_count": 9,
      "outputs": [
        {
          "output_type": "execute_result",
          "data": {
            "text/plain": [
              "(60000, 28, 28, 1)"
            ]
          },
          "metadata": {},
          "execution_count": 9
        }
      ]
    },
    {
      "cell_type": "markdown",
      "metadata": {
        "id": "YlqPiXU8JM_N"
      },
      "source": [
        "The target values (y-train) consists of digits. A very poor approach would be to predict the number directly:\n",
        "1.   There is no relation between appearance and value of the digits\n",
        "2.   Regression problems are hard to train\n",
        "\n",
        "We therefore discritize the values into 10 categories. The output corresponds then to probability for each category:\n",
        "\n",
        "3 --> [0, 0, 0, 1, 0, 0, 0, 0, 0, 0]\n",
        "\n",
        "0 --> [1, 0, 0, 0, 0, 0, 0, 0, 0, 0]\n",
        "\n",
        "8 --> [0, 0, 0, 0, 0, 0, 0, 0, 1, 0]"
      ]
    },
    {
      "cell_type": "markdown",
      "metadata": {
        "id": "D8Go14kIKjN3"
      },
      "source": [
        "Keras provides a build in util for this task."
      ]
    },
    {
      "cell_type": "code",
      "metadata": {
        "id": "QNJCPwnwQ-al",
        "outputId": "45f1a6b2-e29a-4679-abff-0971e594138d",
        "colab": {
          "base_uri": "https://localhost:8080/"
        }
      },
      "source": [
        "categorical_y_train = to_categorical(y_train, 10)\n",
        "categorical_y_train.shape"
      ],
      "execution_count": 10,
      "outputs": [
        {
          "output_type": "execute_result",
          "data": {
            "text/plain": [
              "(60000, 10)"
            ]
          },
          "metadata": {},
          "execution_count": 10
        }
      ]
    },
    {
      "cell_type": "markdown",
      "metadata": {
        "id": "wEAc2cq9K2A-"
      },
      "source": [
        "We apply the same procedure for the test data"
      ]
    },
    {
      "cell_type": "code",
      "metadata": {
        "id": "wlClJkO3PQCE"
      },
      "source": [
        "norm_x_test = (x_test - 127.5) / 127.5\n",
        "norm_x_test = norm_x_test.reshape((-1, 28, 28, 1))\n",
        "categorical_y_test = to_categorical(y_test, 10)"
      ],
      "execution_count": 11,
      "outputs": []
    },
    {
      "cell_type": "markdown",
      "metadata": {
        "id": "4A5PyCX-K-cJ"
      },
      "source": [
        "Let us check the images and the value range."
      ]
    },
    {
      "cell_type": "code",
      "metadata": {
        "id": "3IJkU2xsLIRH",
        "outputId": "8360687e-b266-49c8-ed33-0916274a6919",
        "colab": {
          "base_uri": "https://localhost:8080/",
          "height": 316
        }
      },
      "source": [
        "plt.imshow(norm_x_train[0,...,0])\n",
        "plt.colorbar()\n",
        "plt.title(categorical_y_train[0])\n",
        "plt.show()"
      ],
      "execution_count": 12,
      "outputs": [
        {
          "output_type": "stream",
          "name": "stderr",
          "text": [
            "/usr/local/lib/python3.7/dist-packages/matplotlib/text.py:1165: FutureWarning: elementwise comparison failed; returning scalar instead, but in the future will perform elementwise comparison\n",
            "  if s != self._text:\n"
          ]
        },
        {
          "output_type": "display_data",
          "data": {
            "image/png": "[encoded data removed]",
            "text/plain": [
              "<Figure size 432x288 with 2 Axes>"
            ]
          },
          "metadata": {
            "needs_background": "light"
          }
        }
      ]
    },
    {
      "cell_type": "markdown",
      "metadata": {
        "id": "RSYzHcBfLjMj"
      },
      "source": [
        "## Deep Learning Model"
      ]
    },
    {
      "cell_type": "code",
      "metadata": {
        "id": "F-HWHns-M6sP"
      },
      "source": [
        "from keras.layers import Flatten, Dense, Input\n",
        "from keras import Model\n",
        "from tensorflow.keras.optimizers import Adam"
      ],
      "execution_count": 13,
      "outputs": []
    },
    {
      "cell_type": "markdown",
      "metadata": {
        "id": "NZOpbhpzLqx1"
      },
      "source": [
        "Keras provides a very convenient way to create deep learning models. We only have to specify the input shape and the layers within the network. Each layer corresponds to a certain operation. We will start with a simple model where each neuron is connected with each neuron of the previous layer. This is called a dense or feed-forward network. The problem is that our input is not flat (28, 28, 1), therefore we have to transform the image in a first step into a vector of size (784,).\n",
        "\n",
        "\n",
        "The value after each layer is defined by the matrix multiplication with the weights of the layer and an activation function. There is a large set of different activation functions available (https://keras.io/activations/). The commonly used activation functions are ReLU, Tanh and Sigmoid. "
      ]
    },
    {
      "cell_type": "code",
      "metadata": {
        "id": "wVxAj-NdOPN-",
        "outputId": "ca47b777-6129-4b3c-87c2-c516d0d5242e",
        "colab": {
          "base_uri": "https://localhost:8080/",
          "height": 225
        }
      },
      "source": [
        "x = np.arange(-5, 5.1, 0.1)\n",
        "\n",
        "relu = np.where(x < 0,0,x)\n",
        "\n",
        "plt.figure(figsize=(9, 3))\n",
        "\n",
        "plt.subplot(1, 3, 1)\n",
        "plt.title(\"ReLU\")\n",
        "plt.plot(x, relu)\n",
        "\n",
        "\n",
        "plt.subplot(1, 3, 2)\n",
        "plt.title(\"Tanh\")\n",
        "plt.plot(x, np.tanh(x))\n",
        "\n",
        "plt.subplot(1, 3, 3)\n",
        "plt.title(\"Sigmoid\")\n",
        "plt.plot(x, 1/(1+np.exp(-x)))\n",
        "\n",
        "plt.tight_layout()"
      ],
      "execution_count": 14,
      "outputs": [
        {
          "output_type": "display_data",
          "data": {
            "image/png": "[encoded data removed]",
            "text/plain": [
              "<Figure size 648x216 with 3 Axes>"
            ]
          },
          "metadata": {
            "needs_background": "light"
          }
        }
      ]
    },
    {
      "cell_type": "markdown",
      "metadata": {
        "id": "8yINkE5OQVdf"
      },
      "source": [
        "The activation functions within the network are arbitrary (choose what leads to the best performance). Contrarily the activation function of the output is important.\n",
        "\n",
        "\n",
        "*   Regression (predict values): linear/no activation\n",
        "*   Single Classification: sigmoid [0, 1] --> defines probability to be class 1 or 2 where 0.5 defines the border\n",
        "*   Normalized Output (e.g. images): tanh, sigmoid\n",
        "*   Multi-Class Classification: softmax (probabilities per class sum to 1)\n",
        "\n",
        "These additional restrictions prevent that the network has to learn the output representation. In our case we are using a softmax as output activation and ReLU everywhere else."
      ]
    },
    {
      "cell_type": "code",
      "metadata": {
        "id": "M5RKgZ5XPnFk",
        "outputId": "c953e702-bd37-4112-b506-82fd1ed4e698",
        "colab": {
          "base_uri": "https://localhost:8080/"
        }
      },
      "source": [
        "img = Input((28, 28, 1))\n",
        "x = Flatten()(img)\n",
        "x = Dense(64, activation=\"relu\")(x)\n",
        "x = Dense(10, activation=\"softmax\")(x)\n",
        "model = Model(img, x)\n",
        "\n",
        "model.summary()"
      ],
      "execution_count": 15,
      "outputs": [
        {
          "output_type": "stream",
          "name": "stdout",
          "text": [
            "Model: \"model\"\n",
            "_________________________________________________________________\n",
            " Layer (type)                Output Shape              Param #   \n",
            "=================================================================\n",
            " input_1 (InputLayer)        [(None, 28, 28, 1)]       0         \n",
            "                                                                 \n",
            " flatten (Flatten)           (None, 784)               0         \n",
            "                                                                 \n",
            " dense (Dense)               (None, 64)                50240     \n",
            "                                                                 \n",
            " dense_1 (Dense)             (None, 10)                650       \n",
            "                                                                 \n",
            "=================================================================\n",
            "Total params: 50,890\n",
            "Trainable params: 50,890\n",
            "Non-trainable params: 0\n",
            "_________________________________________________________________\n"
          ]
        }
      ]
    },
    {
      "cell_type": "markdown",
      "metadata": {
        "id": "hF-E2Z1dNLfr"
      },
      "source": [
        "Next we have to define the loss function to use (e.g. mean-squared-error, mean-absolute-error, cross-entropy).\n",
        "\n",
        "The learning rate defines the parameter change per update step. If the learning rate is too low the convergence takes long (the minimum is approached very slowly). If the learning rate is too large, oscillations around the minimum or divergences can occur.\n",
        "\n",
        "For the update of the tunable parameters (weights) different algorithms can be used. Stochastic-Gradient-Descent is the simplest approach. Adam provides adaptive learning rates for each weight, which can significantly increase the convergence."
      ]
    },
    {
      "cell_type": "markdown",
      "metadata": {
        "id": "jnnsixT2VvuK"
      },
      "source": [
        "![alt text](https://cdn-images-1.medium.com/max/1600/1*Y2KPVGrVX9MQkeI8Yjy59Q.gif)"
      ]
    },
    {
      "cell_type": "markdown",
      "metadata": {
        "id": "7ecmR1VdWLQb"
      },
      "source": [
        "The batch size defines the samples which are simultaneously being processed. It should be rather large to increase the training speed and to efficiently use the computational resources (GPU). Additional the update based on multiple samples leads to a smoother convergence and a better generalization.\n",
        "\n",
        "An epoch defines a full run through the dataset."
      ]
    },
    {
      "cell_type": "code",
      "metadata": {
        "id": "gAMsdIp6QX6H",
        "outputId": "db9a9a02-7502-4d1d-e554-83c4a59126f3",
        "colab": {
          "base_uri": "https://localhost:8080/"
        }
      },
      "source": [
        "opt = Adam(0.001)\n",
        "model.compile(loss=\"categorical_crossentropy\", optimizer=opt, metrics=[\"categorical_accuracy\"])\n",
        "history = model.fit(norm_x_train, categorical_y_train, epochs=50, batch_size=512, validation_split=0.2)"
      ],
      "execution_count": 16,
      "outputs": [
        {
          "output_type": "stream",
          "name": "stdout",
          "text": [
            "Epoch 1/50\n",
            "94/94 [==============================] - 2s 6ms/step - loss: 0.7445 - categorical_accuracy: 0.7784 - val_loss: 0.3582 - val_categorical_accuracy: 0.8988\n",
            "Epoch 2/50\n",
            "94/94 [==============================] - 0s 4ms/step - loss: 0.3431 - categorical_accuracy: 0.9012 - val_loss: 0.2966 - val_categorical_accuracy: 0.9162\n",
            "Epoch 3/50\n",
            "94/94 [==============================] - 0s 4ms/step - loss: 0.2905 - categorical_accuracy: 0.9154 - val_loss: 0.2566 - val_categorical_accuracy: 0.9259\n",
            "Epoch 4/50\n",
            "94/94 [==============================] - 0s 5ms/step - loss: 0.2571 - categorical_accuracy: 0.9250 - val_loss: 0.2354 - val_categorical_accuracy: 0.9333\n",
            "Epoch 5/50\n",
            "94/94 [==============================] - 0s 4ms/step - loss: 0.2314 - categorical_accuracy: 0.9326 - val_loss: 0.2123 - val_categorical_accuracy: 0.9398\n",
            "Epoch 6/50\n",
            "94/94 [==============================] - 0s 4ms/step - loss: 0.2072 - categorical_accuracy: 0.9401 - val_loss: 0.1952 - val_categorical_accuracy: 0.9440\n",
            "Epoch 7/50\n",
            "94/94 [==============================] - 0s 4ms/step - loss: 0.1891 - categorical_accuracy: 0.9454 - val_loss: 0.1859 - val_categorical_accuracy: 0.9467\n",
            "Epoch 8/50\n",
            "94/94 [==============================] - 0s 4ms/step - loss: 0.1754 - categorical_accuracy: 0.9489 - val_loss: 0.1768 - val_categorical_accuracy: 0.9505\n",
            "Epoch 9/50\n",
            "94/94 [==============================] - 0s 5ms/step - loss: 0.1621 - categorical_accuracy: 0.9532 - val_loss: 0.1671 - val_categorical_accuracy: 0.9530\n",
            "Epoch 10/50\n",
            "94/94 [==============================] - 0s 4ms/step - loss: 0.1507 - categorical_accuracy: 0.9561 - val_loss: 0.1645 - val_categorical_accuracy: 0.9531\n",
            "Epoch 11/50\n",
            "94/94 [==============================] - 0s 4ms/step - loss: 0.1420 - categorical_accuracy: 0.9590 - val_loss: 0.1581 - val_categorical_accuracy: 0.9564\n",
            "Epoch 12/50\n",
            "94/94 [==============================] - 0s 4ms/step - loss: 0.1322 - categorical_accuracy: 0.9623 - val_loss: 0.1456 - val_categorical_accuracy: 0.9592\n",
            "Epoch 13/50\n",
            "94/94 [==============================] - 0s 4ms/step - loss: 0.1260 - categorical_accuracy: 0.9632 - val_loss: 0.1415 - val_categorical_accuracy: 0.9598\n",
            "Epoch 14/50\n",
            "94/94 [==============================] - 0s 4ms/step - loss: 0.1181 - categorical_accuracy: 0.9659 - val_loss: 0.1420 - val_categorical_accuracy: 0.9570\n",
            "Epoch 15/50\n",
            "94/94 [==============================] - 0s 5ms/step - loss: 0.1127 - categorical_accuracy: 0.9671 - val_loss: 0.1323 - val_categorical_accuracy: 0.9637\n",
            "Epoch 16/50\n",
            "94/94 [==============================] - 0s 4ms/step - loss: 0.1061 - categorical_accuracy: 0.9699 - val_loss: 0.1322 - val_categorical_accuracy: 0.9623\n",
            "Epoch 17/50\n",
            "94/94 [==============================] - 0s 4ms/step - loss: 0.1021 - categorical_accuracy: 0.9707 - val_loss: 0.1348 - val_categorical_accuracy: 0.9605\n",
            "Epoch 18/50\n",
            "94/94 [==============================] - 0s 4ms/step - loss: 0.0997 - categorical_accuracy: 0.9712 - val_loss: 0.1261 - val_categorical_accuracy: 0.9648\n",
            "Epoch 19/50\n",
            "94/94 [==============================] - 0s 4ms/step - loss: 0.0936 - categorical_accuracy: 0.9729 - val_loss: 0.1260 - val_categorical_accuracy: 0.9643\n",
            "Epoch 20/50\n",
            "94/94 [==============================] - 0s 4ms/step - loss: 0.0894 - categorical_accuracy: 0.9738 - val_loss: 0.1237 - val_categorical_accuracy: 0.9646\n",
            "Epoch 21/50\n",
            "94/94 [==============================] - 0s 4ms/step - loss: 0.0866 - categorical_accuracy: 0.9754 - val_loss: 0.1217 - val_categorical_accuracy: 0.9647\n",
            "Epoch 22/50\n",
            "94/94 [==============================] - 0s 4ms/step - loss: 0.0817 - categorical_accuracy: 0.9763 - val_loss: 0.1239 - val_categorical_accuracy: 0.9638\n",
            "Epoch 23/50\n",
            "94/94 [==============================] - 0s 5ms/step - loss: 0.0775 - categorical_accuracy: 0.9785 - val_loss: 0.1212 - val_categorical_accuracy: 0.9649\n",
            "Epoch 24/50\n",
            "94/94 [==============================] - 0s 4ms/step - loss: 0.0755 - categorical_accuracy: 0.9780 - val_loss: 0.1166 - val_categorical_accuracy: 0.9658\n",
            "Epoch 25/50\n",
            "94/94 [==============================] - 0s 4ms/step - loss: 0.0743 - categorical_accuracy: 0.9783 - val_loss: 0.1141 - val_categorical_accuracy: 0.9667\n",
            "Epoch 26/50\n",
            "94/94 [==============================] - 0s 4ms/step - loss: 0.0744 - categorical_accuracy: 0.9778 - val_loss: 0.1119 - val_categorical_accuracy: 0.9679\n",
            "Epoch 27/50\n",
            "94/94 [==============================] - 0s 4ms/step - loss: 0.0663 - categorical_accuracy: 0.9807 - val_loss: 0.1111 - val_categorical_accuracy: 0.9675\n",
            "Epoch 28/50\n",
            "94/94 [==============================] - 0s 5ms/step - loss: 0.0649 - categorical_accuracy: 0.9816 - val_loss: 0.1113 - val_categorical_accuracy: 0.9667\n",
            "Epoch 29/50\n",
            "94/94 [==============================] - 0s 4ms/step - loss: 0.0615 - categorical_accuracy: 0.9827 - val_loss: 0.1196 - val_categorical_accuracy: 0.9655\n",
            "Epoch 30/50\n",
            "94/94 [==============================] - 0s 4ms/step - loss: 0.0601 - categorical_accuracy: 0.9833 - val_loss: 0.1094 - val_categorical_accuracy: 0.9673\n",
            "Epoch 31/50\n",
            "94/94 [==============================] - 0s 5ms/step - loss: 0.0576 - categorical_accuracy: 0.9834 - val_loss: 0.1136 - val_categorical_accuracy: 0.9678\n",
            "Epoch 32/50\n",
            "94/94 [==============================] - 0s 4ms/step - loss: 0.0555 - categorical_accuracy: 0.9840 - val_loss: 0.1125 - val_categorical_accuracy: 0.9666\n",
            "Epoch 33/50\n",
            "94/94 [==============================] - 0s 4ms/step - loss: 0.0542 - categorical_accuracy: 0.9847 - val_loss: 0.1113 - val_categorical_accuracy: 0.9668\n",
            "Epoch 34/50\n",
            "94/94 [==============================] - 0s 4ms/step - loss: 0.0523 - categorical_accuracy: 0.9848 - val_loss: 0.1152 - val_categorical_accuracy: 0.9668\n",
            "Epoch 35/50\n",
            "94/94 [==============================] - 0s 4ms/step - loss: 0.0511 - categorical_accuracy: 0.9847 - val_loss: 0.1087 - val_categorical_accuracy: 0.9682\n",
            "Epoch 36/50\n",
            "94/94 [==============================] - 0s 4ms/step - loss: 0.0499 - categorical_accuracy: 0.9858 - val_loss: 0.1067 - val_categorical_accuracy: 0.9690\n",
            "Epoch 37/50\n",
            "94/94 [==============================] - 0s 4ms/step - loss: 0.0476 - categorical_accuracy: 0.9866 - val_loss: 0.1162 - val_categorical_accuracy: 0.9659\n",
            "Epoch 38/50\n",
            "94/94 [==============================] - 0s 4ms/step - loss: 0.0469 - categorical_accuracy: 0.9861 - val_loss: 0.1098 - val_categorical_accuracy: 0.9682\n",
            "Epoch 39/50\n",
            "94/94 [==============================] - 0s 4ms/step - loss: 0.0448 - categorical_accuracy: 0.9871 - val_loss: 0.1079 - val_categorical_accuracy: 0.9693\n",
            "Epoch 40/50\n",
            "94/94 [==============================] - 0s 4ms/step - loss: 0.0437 - categorical_accuracy: 0.9876 - val_loss: 0.1115 - val_categorical_accuracy: 0.9673\n",
            "Epoch 41/50\n",
            "94/94 [==============================] - 0s 5ms/step - loss: 0.0424 - categorical_accuracy: 0.9879 - val_loss: 0.1067 - val_categorical_accuracy: 0.9703\n",
            "Epoch 42/50\n",
            "94/94 [==============================] - 0s 4ms/step - loss: 0.0417 - categorical_accuracy: 0.9880 - val_loss: 0.1087 - val_categorical_accuracy: 0.9687\n",
            "Epoch 43/50\n",
            "94/94 [==============================] - 0s 4ms/step - loss: 0.0395 - categorical_accuracy: 0.9889 - val_loss: 0.1156 - val_categorical_accuracy: 0.9660\n",
            "Epoch 44/50\n",
            "94/94 [==============================] - 0s 4ms/step - loss: 0.0385 - categorical_accuracy: 0.9893 - val_loss: 0.1135 - val_categorical_accuracy: 0.9680\n",
            "Epoch 45/50\n",
            "94/94 [==============================] - 0s 4ms/step - loss: 0.0365 - categorical_accuracy: 0.9900 - val_loss: 0.1149 - val_categorical_accuracy: 0.9677\n",
            "Epoch 46/50\n",
            "94/94 [==============================] - 0s 4ms/step - loss: 0.0344 - categorical_accuracy: 0.9907 - val_loss: 0.1069 - val_categorical_accuracy: 0.9697\n",
            "Epoch 47/50\n",
            "94/94 [==============================] - 0s 4ms/step - loss: 0.0348 - categorical_accuracy: 0.9905 - val_loss: 0.1068 - val_categorical_accuracy: 0.9699\n",
            "Epoch 48/50\n",
            "94/94 [==============================] - 0s 4ms/step - loss: 0.0335 - categorical_accuracy: 0.9907 - val_loss: 0.1116 - val_categorical_accuracy: 0.9690\n",
            "Epoch 49/50\n",
            "94/94 [==============================] - 0s 4ms/step - loss: 0.0323 - categorical_accuracy: 0.9909 - val_loss: 0.1202 - val_categorical_accuracy: 0.9653\n",
            "Epoch 50/50\n",
            "94/94 [==============================] - 0s 4ms/step - loss: 0.0316 - categorical_accuracy: 0.9920 - val_loss: 0.1085 - val_categorical_accuracy: 0.9706\n"
          ]
        }
      ]
    },
    {
      "cell_type": "markdown",
      "metadata": {
        "id": "Qo7I5_gAW_FT"
      },
      "source": [
        "From the comperisson of the training loss and the validation loss we can estimate the performance of the network. Remember that the final goal is generalization, the important quantity which we are trying to minimize is therefore the validation loss/accurarcy."
      ]
    },
    {
      "cell_type": "code",
      "metadata": {
        "id": "B1AZ0vSvSfu9",
        "outputId": "379c340c-a0f9-4a24-dd54-fadd023e7276",
        "colab": {
          "base_uri": "https://localhost:8080/",
          "height": 573
        }
      },
      "source": [
        "# Plot training & validation accuracy values\n",
        "plt.plot(history.history['categorical_accuracy'])\n",
        "plt.plot(history.history['val_categorical_accuracy'])\n",
        "plt.title('Model accuracy')\n",
        "plt.ylabel('Accuracy')\n",
        "plt.xlabel('Epoch')\n",
        "plt.legend(['Train', 'Validation'], loc='upper left')\n",
        "plt.show()\n",
        "\n",
        "# Plot training & validation loss values\n",
        "plt.plot(history.history['loss'])\n",
        "plt.plot(history.history['val_loss'])\n",
        "plt.title('Model loss')\n",
        "plt.ylabel('Loss')\n",
        "plt.xlabel('Epoch')\n",
        "plt.legend(['Train', 'Validation'], loc='upper left')\n",
        "plt.show()"
      ],
      "execution_count": 17,
      "outputs": [
        {
          "output_type": "display_data",
          "data": {
            "image/png": "[encoded data removed]",
            "text/plain": [
              "<Figure size 432x288 with 1 Axes>"
            ]
          },
          "metadata": {
            "needs_background": "light"
          }
        },
        {
          "output_type": "display_data",
          "data": {
            "image/png": "[encoded data removed]",
            "text/plain": [
              "<Figure size 432x288 with 1 Axes>"
            ]
          },
          "metadata": {
            "needs_background": "light"
          }
        }
      ]
    },
    {
      "cell_type": "markdown",
      "metadata": {
        "id": "Vh85piCzYGkk"
      },
      "source": [
        "From this we can see that the model starts to performs better on the training data (overfitting) after about 10 epochs. After ~27 epochs there is no performance increase on the validation set. We rebuild the model and train on the full set for the final evaluation (no validation set). We stop the training after 27 epochs to approximitaly reach the point of best performance."
      ]
    },
    {
      "cell_type": "code",
      "metadata": {
        "id": "W6qt1TI_Y3ym",
        "outputId": "1097acba-d326-42a8-a06d-7406399c2172",
        "colab": {
          "base_uri": "https://localhost:8080/"
        }
      },
      "source": [
        "img = Input((28, 28, 1))\n",
        "x = Flatten()(img)\n",
        "x = Dense(64, activation=\"relu\")(x)\n",
        "x = Dense(10, activation=\"softmax\")(x)\n",
        "model = Model(img, x)\n",
        "opt = Adam(0.001)\n",
        "model.compile(loss=\"categorical_crossentropy\",optimizer=opt, metrics=[\"categorical_accuracy\"])\n",
        "history = model.fit(norm_x_train, categorical_y_train, epochs=27, batch_size=512, validation_split=0)"
      ],
      "execution_count": 18,
      "outputs": [
        {
          "output_type": "stream",
          "name": "stdout",
          "text": [
            "Epoch 1/27\n",
            "118/118 [==============================] - 1s 4ms/step - loss: 0.6851 - categorical_accuracy: 0.7968\n",
            "Epoch 2/27\n",
            "118/118 [==============================] - 0s 3ms/step - loss: 0.3201 - categorical_accuracy: 0.9073\n",
            "Epoch 3/27\n",
            "118/118 [==============================] - 0s 3ms/step - loss: 0.2667 - categorical_accuracy: 0.9233\n",
            "Epoch 4/27\n",
            "118/118 [==============================] - 0s 3ms/step - loss: 0.2310 - categorical_accuracy: 0.9329\n",
            "Epoch 5/27\n",
            "118/118 [==============================] - 0s 3ms/step - loss: 0.2069 - categorical_accuracy: 0.9400\n",
            "Epoch 6/27\n",
            "118/118 [==============================] - 0s 3ms/step - loss: 0.1832 - categorical_accuracy: 0.9469\n",
            "Epoch 7/27\n",
            "118/118 [==============================] - 0s 3ms/step - loss: 0.1694 - categorical_accuracy: 0.9503\n",
            "Epoch 8/27\n",
            "118/118 [==============================] - 0s 3ms/step - loss: 0.1545 - categorical_accuracy: 0.9549\n",
            "Epoch 9/27\n",
            "118/118 [==============================] - 0s 3ms/step - loss: 0.1445 - categorical_accuracy: 0.9579\n",
            "Epoch 10/27\n",
            "118/118 [==============================] - 0s 3ms/step - loss: 0.1379 - categorical_accuracy: 0.9594\n",
            "Epoch 11/27\n",
            "118/118 [==============================] - 0s 3ms/step - loss: 0.1274 - categorical_accuracy: 0.9622\n",
            "Epoch 12/27\n",
            "118/118 [==============================] - 0s 3ms/step - loss: 0.1197 - categorical_accuracy: 0.9650\n",
            "Epoch 13/27\n",
            "118/118 [==============================] - 0s 3ms/step - loss: 0.1158 - categorical_accuracy: 0.9658\n",
            "Epoch 14/27\n",
            "118/118 [==============================] - 0s 3ms/step - loss: 0.1093 - categorical_accuracy: 0.9674\n",
            "Epoch 15/27\n",
            "118/118 [==============================] - 0s 3ms/step - loss: 0.1035 - categorical_accuracy: 0.9695\n",
            "Epoch 16/27\n",
            "118/118 [==============================] - 0s 3ms/step - loss: 0.0970 - categorical_accuracy: 0.9720\n",
            "Epoch 17/27\n",
            "118/118 [==============================] - 0s 3ms/step - loss: 0.0929 - categorical_accuracy: 0.9725\n",
            "Epoch 18/27\n",
            "118/118 [==============================] - 0s 3ms/step - loss: 0.0889 - categorical_accuracy: 0.9740\n",
            "Epoch 19/27\n",
            "118/118 [==============================] - 0s 3ms/step - loss: 0.0865 - categorical_accuracy: 0.9740\n",
            "Epoch 20/27\n",
            "118/118 [==============================] - 0s 3ms/step - loss: 0.0833 - categorical_accuracy: 0.9752\n",
            "Epoch 21/27\n",
            "118/118 [==============================] - 0s 3ms/step - loss: 0.0782 - categorical_accuracy: 0.9769\n",
            "Epoch 22/27\n",
            "118/118 [==============================] - 0s 3ms/step - loss: 0.0759 - categorical_accuracy: 0.9773\n",
            "Epoch 23/27\n",
            "118/118 [==============================] - 0s 3ms/step - loss: 0.0751 - categorical_accuracy: 0.9775\n",
            "Epoch 24/27\n",
            "118/118 [==============================] - 0s 3ms/step - loss: 0.0710 - categorical_accuracy: 0.9788\n",
            "Epoch 25/27\n",
            "118/118 [==============================] - 0s 4ms/step - loss: 0.0689 - categorical_accuracy: 0.9796\n",
            "Epoch 26/27\n",
            "118/118 [==============================] - 0s 3ms/step - loss: 0.0653 - categorical_accuracy: 0.9806\n",
            "Epoch 27/27\n",
            "118/118 [==============================] - 0s 3ms/step - loss: 0.0661 - categorical_accuracy: 0.9798\n"
          ]
        }
      ]
    },
    {
      "cell_type": "code",
      "metadata": {
        "id": "J7Ybt2ZnRfOU",
        "outputId": "0158e23b-7956-4d74-a414-12be67adbe5a",
        "colab": {
          "base_uri": "https://localhost:8080/"
        }
      },
      "source": [
        "model.evaluate(norm_x_test, categorical_y_test)"
      ],
      "execution_count": 19,
      "outputs": [
        {
          "output_type": "stream",
          "name": "stdout",
          "text": [
            "313/313 [==============================] - 1s 2ms/step - loss: 0.1039 - categorical_accuracy: 0.9680\n"
          ]
        },
        {
          "output_type": "execute_result",
          "data": {
            "text/plain": [
              "[0.10386313498020172, 0.9679999947547913]"
            ]
          },
          "metadata": {},
          "execution_count": 19
        }
      ]
    },
    {
      "cell_type": "markdown",
      "metadata": {
        "id": "xXNIxjkcaZZk"
      },
      "source": [
        "This is already a very good result for this approach, but can we do better?"
      ]
    },
    {
      "cell_type": "markdown",
      "metadata": {
        "id": "dbhIux0Xaklq"
      },
      "source": [
        "## Convolutional Neural Network"
      ]
    },
    {
      "cell_type": "code",
      "metadata": {
        "id": "SYpynk8qoi0K"
      },
      "source": [
        "from keras.layers import MaxPooling2D, Conv2D, Dropout"
      ],
      "execution_count": 20,
      "outputs": []
    },
    {
      "cell_type": "markdown",
      "metadata": {
        "id": "fBDk-temfmc0"
      },
      "source": [
        "Convolutional neural networks (CNN) share parameters across space. The idea is that spatially close pixels are stronger related than distant pixels. The image is estimated step by step where the spatial dimensionality is consecutively reduced while the depth is increased. This corresponds to a transformation into the feature space of the image, where there is no spatial information.\n",
        "\n",
        "The most important terms are:\n",
        "*   Filters\n",
        "*   Kernel\n",
        "*   Striding\n",
        "*   Padding\n",
        "\n"
      ]
    },
    {
      "cell_type": "code",
      "metadata": {
        "id": "-NeeiKq4ivbx",
        "outputId": "69d70b9e-97f2-4105-b94c-ba1a11cec8be",
        "colab": {
          "base_uri": "https://localhost:8080/",
          "height": 421
        }
      },
      "source": [
        "#@title Introducing CNN { vertical-output: true, display-mode: \"code\" }\n",
        "#@markdown This is a very good introduction to convolutional neural networks\n",
        "from IPython.display import YouTubeVideo\n",
        "YouTubeVideo('ISHGyvsT0QY', width=600, height=400)"
      ],
      "execution_count": 21,
      "outputs": [
        {
          "output_type": "execute_result",
          "data": {
            "text/html": [
              "\n",
              "        <iframe\n",
              "            width=\"600\"\n",
              "            height=\"400\"\n",
              "            src=\"https://www.youtube.com/embed/ISHGyvsT0QY\"\n",
              "            frameborder=\"0\"\n",
              "            allowfullscreen\n",
              "        ></iframe>\n",
              "        "
            ],
            "text/plain": [
              "<IPython.lib.display.YouTubeVideo at 0x7fdc9def4990>"
            ],
            "image/jpeg": "[encoded data removed]"
          },
          "metadata": {},
          "execution_count": 21
        }
      ]
    },
    {
      "cell_type": "markdown",
      "metadata": {
        "id": "H83fuKn9nVeK"
      },
      "source": [
        "We can reduce spatial dimensions either by striding or pooling.\n",
        "\n",
        "In our next approach we are including the spatial relations to increase the model performance. We start with a few Convolutional layers and reduce the dimensionalty with a single pooling layer before we continue with a fully-connected network (Flatten + Dense layers)."
      ]
    },
    {
      "cell_type": "markdown",
      "metadata": {
        "id": "AWx5GH5OMDm7"
      },
      "source": [
        "![alt text](https://cdn-images-1.medium.com/max/1500/1*8dx6nxpUh2JqvYWPadTwMQ.gif)\n",
        "\n",
        "\n",
        "![alt text](https://cdn-images-1.medium.com/max/1500/1*CYB2dyR3EhFs1xNLK8ewiA.gif)\n",
        "\n",
        "![alt text](https://cdn-images-1.medium.com/max/1000/1*RYYucIh3U-YFxrIkyQKzRw.gif)"
      ]
    },
    {
      "cell_type": "code",
      "metadata": {
        "id": "XN3qTqoBcZ3E",
        "outputId": "270bea9a-901d-4a63-dc0c-7bd1e1a66b92",
        "colab": {
          "base_uri": "https://localhost:8080/"
        }
      },
      "source": [
        "img = Input((28, 28, 1))\n",
        "x = Conv2D(32,3, padding=\"same\", activation=\"relu\")(img)\n",
        "x = Conv2D(64,3, padding=\"same\", activation=\"relu\")(x)\n",
        "x = MaxPooling2D()(x)\n",
        "x = Flatten()(x)\n",
        "x = Dense(128, activation=\"relu\")(x)\n",
        "x = Dense(10, activation=\"softmax\")(x)\n",
        "model = Model(img, x)\n",
        "\n",
        "model.summary()\n",
        "\n",
        "opt = Adam(0.001)\n",
        "model.compile(loss=\"categorical_crossentropy\",optimizer=opt, metrics=[\"categorical_accuracy\"])\n",
        "history = model.fit(norm_x_train, categorical_y_train, epochs=20, batch_size=512, validation_split=0.2)"
      ],
      "execution_count": 22,
      "outputs": [
        {
          "output_type": "stream",
          "name": "stdout",
          "text": [
            "Model: \"model_2\"\n",
            "_________________________________________________________________\n",
            " Layer (type)                Output Shape              Param #   \n",
            "=================================================================\n",
            " input_3 (InputLayer)        [(None, 28, 28, 1)]       0         \n",
            "                                                                 \n",
            " conv2d (Conv2D)             (None, 28, 28, 32)        320       \n",
            "                                                                 \n",
            " conv2d_1 (Conv2D)           (None, 28, 28, 64)        18496     \n",
            "                                                                 \n",
            " max_pooling2d (MaxPooling2D  (None, 14, 14, 64)       0         \n",
            " )                                                               \n",
            "                                                                 \n",
            " flatten_2 (Flatten)         (None, 12544)             0         \n",
            "                                                                 \n",
            " dense_4 (Dense)             (None, 128)               1605760   \n",
            "                                                                 \n",
            " dense_5 (Dense)             (None, 10)                1290      \n",
            "                                                                 \n",
            "=================================================================\n",
            "Total params: 1,625,866\n",
            "Trainable params: 1,625,866\n",
            "Non-trainable params: 0\n",
            "_________________________________________________________________\n",
            "Epoch 1/20\n",
            "94/94 [==============================] - 11s 31ms/step - loss: 0.5060 - categorical_accuracy: 0.8549 - val_loss: 0.1138 - val_categorical_accuracy: 0.9682\n",
            "Epoch 2/20\n",
            "94/94 [==============================] - 2s 26ms/step - loss: 0.0853 - categorical_accuracy: 0.9745 - val_loss: 0.0633 - val_categorical_accuracy: 0.9811\n",
            "Epoch 3/20\n",
            "94/94 [==============================] - 3s 27ms/step - loss: 0.0520 - categorical_accuracy: 0.9847 - val_loss: 0.0519 - val_categorical_accuracy: 0.9842\n",
            "Epoch 4/20\n",
            "94/94 [==============================] - 2s 26ms/step - loss: 0.0412 - categorical_accuracy: 0.9875 - val_loss: 0.0505 - val_categorical_accuracy: 0.9856\n",
            "Epoch 5/20\n",
            "94/94 [==============================] - 3s 27ms/step - loss: 0.0314 - categorical_accuracy: 0.9906 - val_loss: 0.0509 - val_categorical_accuracy: 0.9858\n",
            "Epoch 6/20\n",
            "94/94 [==============================] - 3s 27ms/step - loss: 0.0240 - categorical_accuracy: 0.9928 - val_loss: 0.0466 - val_categorical_accuracy: 0.9872\n",
            "Epoch 7/20\n",
            "94/94 [==============================] - 2s 26ms/step - loss: 0.0199 - categorical_accuracy: 0.9940 - val_loss: 0.0519 - val_categorical_accuracy: 0.9858\n",
            "Epoch 8/20\n",
            "94/94 [==============================] - 3s 27ms/step - loss: 0.0167 - categorical_accuracy: 0.9946 - val_loss: 0.0473 - val_categorical_accuracy: 0.9866\n",
            "Epoch 9/20\n",
            "94/94 [==============================] - 2s 26ms/step - loss: 0.0136 - categorical_accuracy: 0.9959 - val_loss: 0.0514 - val_categorical_accuracy: 0.9863\n",
            "Epoch 10/20\n",
            "94/94 [==============================] - 2s 26ms/step - loss: 0.0124 - categorical_accuracy: 0.9961 - val_loss: 0.0515 - val_categorical_accuracy: 0.9874\n",
            "Epoch 11/20\n",
            "94/94 [==============================] - 2s 26ms/step - loss: 0.0087 - categorical_accuracy: 0.9974 - val_loss: 0.0492 - val_categorical_accuracy: 0.9875\n",
            "Epoch 12/20\n",
            "94/94 [==============================] - 2s 26ms/step - loss: 0.0083 - categorical_accuracy: 0.9974 - val_loss: 0.0575 - val_categorical_accuracy: 0.9877\n",
            "Epoch 13/20\n",
            "94/94 [==============================] - 3s 27ms/step - loss: 0.0055 - categorical_accuracy: 0.9983 - val_loss: 0.0545 - val_categorical_accuracy: 0.9875\n",
            "Epoch 14/20\n",
            "94/94 [==============================] - 2s 26ms/step - loss: 0.0030 - categorical_accuracy: 0.9992 - val_loss: 0.0555 - val_categorical_accuracy: 0.9877\n",
            "Epoch 15/20\n",
            "94/94 [==============================] - 2s 26ms/step - loss: 0.0025 - categorical_accuracy: 0.9994 - val_loss: 0.0529 - val_categorical_accuracy: 0.9877\n",
            "Epoch 16/20\n",
            "94/94 [==============================] - 3s 27ms/step - loss: 0.0032 - categorical_accuracy: 0.9993 - val_loss: 0.0558 - val_categorical_accuracy: 0.9882\n",
            "Epoch 17/20\n",
            "94/94 [==============================] - 2s 26ms/step - loss: 0.0020 - categorical_accuracy: 0.9996 - val_loss: 0.0626 - val_categorical_accuracy: 0.9870\n",
            "Epoch 18/20\n",
            "94/94 [==============================] - 2s 26ms/step - loss: 0.0014 - categorical_accuracy: 0.9997 - val_loss: 0.0557 - val_categorical_accuracy: 0.9889\n",
            "Epoch 19/20\n",
            "94/94 [==============================] - 2s 26ms/step - loss: 5.5439e-04 - categorical_accuracy: 0.9999 - val_loss: 0.0575 - val_categorical_accuracy: 0.9893\n",
            "Epoch 20/20\n",
            "94/94 [==============================] - 2s 26ms/step - loss: 3.2227e-04 - categorical_accuracy: 1.0000 - val_loss: 0.0580 - val_categorical_accuracy: 0.9898\n"
          ]
        }
      ]
    },
    {
      "cell_type": "code",
      "metadata": {
        "id": "HhQHTr3xo_XE",
        "outputId": "53925b5b-8637-49ed-deb7-84c4f0f21336",
        "colab": {
          "base_uri": "https://localhost:8080/",
          "height": 295
        }
      },
      "source": [
        "# Plot training & validation loss values\n",
        "plt.plot(history.history['loss'])\n",
        "plt.plot(history.history['val_loss'])\n",
        "plt.title('Model loss')\n",
        "plt.ylabel('Loss')\n",
        "plt.xlabel('Epoch')\n",
        "plt.legend(['Train', 'Validation'], loc='upper left')\n",
        "plt.show()"
      ],
      "execution_count": 23,
      "outputs": [
        {
          "output_type": "display_data",
          "data": {
            "image/png": "[encoded data removed]",
            "text/plain": [
              "<Figure size 432x288 with 1 Axes>"
            ]
          },
          "metadata": {
            "needs_background": "light"
          }
        }
      ]
    },
    {
      "cell_type": "markdown",
      "metadata": {
        "id": "VfG1U7ZXpGJF"
      },
      "source": [
        "Overfitting is one of the major problems in deep learning. As can be seen from the validation loss the network starts to memorize the training data.\n",
        "This can be prevented either by limiting the model complexity or by using more data.\n",
        "\n",
        "The commonly used steps to circumvent this are:\n",
        "*   Change Architecture\n",
        "*   Data augmentation\n",
        "*   Weight decay (L1/L2)\n",
        "*   Dropout\n",
        "*   Early stopping\n",
        "\n",
        "We have already applied early stopping by limiting the training epochs, now we add additional dropout layers which randomly switch off connections within the network. With this technique the network learns to find multiple paths which lead to a solution, this improves the performance and the generalization."
      ]
    },
    {
      "cell_type": "code",
      "metadata": {
        "id": "dRUrdailrVKz",
        "outputId": "1103b6e6-8839-45cf-a5dc-b3c37a0a0ce8",
        "colab": {
          "base_uri": "https://localhost:8080/"
        }
      },
      "source": [
        "img = Input((28, 28, 1))\n",
        "x = Conv2D(32,3, padding=\"same\", activation=\"relu\")(img)\n",
        "x = Dropout(0.3)(x)\n",
        "x = Conv2D(64,3, padding=\"same\", activation=\"relu\")(x)\n",
        "x = MaxPooling2D()(x)\n",
        "x = Flatten()(x)\n",
        "x = Dropout(0.5)(x)\n",
        "x = Dense(128, activation=\"relu\")(x)\n",
        "x = Dense(10, activation=\"softmax\")(x)\n",
        "model = Model(img, x)\n",
        "\n",
        "model.summary()\n",
        "\n",
        "opt = Adam(0.0005)\n",
        "model.compile(loss=\"categorical_crossentropy\",optimizer=opt, metrics=[\"categorical_accuracy\"])\n",
        "history = model.fit(norm_x_train, categorical_y_train, epochs=40, batch_size=512, validation_split=0.2)"
      ],
      "execution_count": 24,
      "outputs": [
        {
          "output_type": "stream",
          "name": "stdout",
          "text": [
            "Model: \"model_3\"\n",
            "_________________________________________________________________\n",
            " Layer (type)                Output Shape              Param #   \n",
            "=================================================================\n",
            " input_4 (InputLayer)        [(None, 28, 28, 1)]       0         \n",
            "                                                                 \n",
            " conv2d_2 (Conv2D)           (None, 28, 28, 32)        320       \n",
            "                                                                 \n",
            " dropout (Dropout)           (None, 28, 28, 32)        0         \n",
            "                                                                 \n",
            " conv2d_3 (Conv2D)           (None, 28, 28, 64)        18496     \n",
            "                                                                 \n",
            " max_pooling2d_1 (MaxPooling  (None, 14, 14, 64)       0         \n",
            " 2D)                                                             \n",
            "                                                                 \n",
            " flatten_3 (Flatten)         (None, 12544)             0         \n",
            "                                                                 \n",
            " dropout_1 (Dropout)         (None, 12544)             0         \n",
            "                                                                 \n",
            " dense_6 (Dense)             (None, 128)               1605760   \n",
            "                                                                 \n",
            " dense_7 (Dense)             (None, 10)                1290      \n",
            "                                                                 \n",
            "=================================================================\n",
            "Total params: 1,625,866\n",
            "Trainable params: 1,625,866\n",
            "Non-trainable params: 0\n",
            "_________________________________________________________________\n",
            "Epoch 1/40\n",
            "94/94 [==============================] - 4s 33ms/step - loss: 0.7843 - categorical_accuracy: 0.7627 - val_loss: 0.2384 - val_categorical_accuracy: 0.9324\n",
            "Epoch 2/40\n",
            "94/94 [==============================] - 3s 31ms/step - loss: 0.2065 - categorical_accuracy: 0.9393 - val_loss: 0.1323 - val_categorical_accuracy: 0.9642\n",
            "Epoch 3/40\n",
            "94/94 [==============================] - 3s 31ms/step - loss: 0.1294 - categorical_accuracy: 0.9617 - val_loss: 0.0941 - val_categorical_accuracy: 0.9742\n",
            "Epoch 4/40\n",
            "94/94 [==============================] - 3s 31ms/step - loss: 0.0990 - categorical_accuracy: 0.9701 - val_loss: 0.0758 - val_categorical_accuracy: 0.9798\n",
            "Epoch 5/40\n",
            "94/94 [==============================] - 3s 31ms/step - loss: 0.0816 - categorical_accuracy: 0.9752 - val_loss: 0.0649 - val_categorical_accuracy: 0.9818\n",
            "Epoch 6/40\n",
            "94/94 [==============================] - 3s 32ms/step - loss: 0.0714 - categorical_accuracy: 0.9780 - val_loss: 0.0578 - val_categorical_accuracy: 0.9840\n",
            "Epoch 7/40\n",
            "94/94 [==============================] - 3s 31ms/step - loss: 0.0641 - categorical_accuracy: 0.9797 - val_loss: 0.0585 - val_categorical_accuracy: 0.9832\n",
            "Epoch 8/40\n",
            "94/94 [==============================] - 3s 31ms/step - loss: 0.0575 - categorical_accuracy: 0.9819 - val_loss: 0.0543 - val_categorical_accuracy: 0.9848\n",
            "Epoch 9/40\n",
            "94/94 [==============================] - 3s 31ms/step - loss: 0.0543 - categorical_accuracy: 0.9835 - val_loss: 0.0499 - val_categorical_accuracy: 0.9843\n",
            "Epoch 10/40\n",
            "94/94 [==============================] - 3s 31ms/step - loss: 0.0495 - categorical_accuracy: 0.9845 - val_loss: 0.0519 - val_categorical_accuracy: 0.9851\n",
            "Epoch 11/40\n",
            "94/94 [==============================] - 3s 32ms/step - loss: 0.0476 - categorical_accuracy: 0.9849 - val_loss: 0.0477 - val_categorical_accuracy: 0.9865\n",
            "Epoch 12/40\n",
            "94/94 [==============================] - 3s 31ms/step - loss: 0.0417 - categorical_accuracy: 0.9868 - val_loss: 0.0434 - val_categorical_accuracy: 0.9872\n",
            "Epoch 13/40\n",
            "94/94 [==============================] - 3s 32ms/step - loss: 0.0380 - categorical_accuracy: 0.9878 - val_loss: 0.0423 - val_categorical_accuracy: 0.9878\n",
            "Epoch 14/40\n",
            "94/94 [==============================] - 3s 32ms/step - loss: 0.0366 - categorical_accuracy: 0.9883 - val_loss: 0.0433 - val_categorical_accuracy: 0.9877\n",
            "Epoch 15/40\n",
            "94/94 [==============================] - 3s 31ms/step - loss: 0.0345 - categorical_accuracy: 0.9895 - val_loss: 0.0426 - val_categorical_accuracy: 0.9883\n",
            "Epoch 16/40\n",
            "94/94 [==============================] - 3s 31ms/step - loss: 0.0314 - categorical_accuracy: 0.9899 - val_loss: 0.0406 - val_categorical_accuracy: 0.9893\n",
            "Epoch 17/40\n",
            "94/94 [==============================] - 3s 31ms/step - loss: 0.0296 - categorical_accuracy: 0.9908 - val_loss: 0.0409 - val_categorical_accuracy: 0.9880\n",
            "Epoch 18/40\n",
            "94/94 [==============================] - 3s 31ms/step - loss: 0.0284 - categorical_accuracy: 0.9908 - val_loss: 0.0430 - val_categorical_accuracy: 0.9874\n",
            "Epoch 19/40\n",
            "94/94 [==============================] - 3s 31ms/step - loss: 0.0267 - categorical_accuracy: 0.9916 - val_loss: 0.0399 - val_categorical_accuracy: 0.9894\n",
            "Epoch 20/40\n",
            "94/94 [==============================] - 3s 32ms/step - loss: 0.0260 - categorical_accuracy: 0.9915 - val_loss: 0.0385 - val_categorical_accuracy: 0.9892\n",
            "Epoch 21/40\n",
            "94/94 [==============================] - 3s 33ms/step - loss: 0.0236 - categorical_accuracy: 0.9921 - val_loss: 0.0370 - val_categorical_accuracy: 0.9894\n",
            "Epoch 22/40\n",
            "94/94 [==============================] - 3s 31ms/step - loss: 0.0253 - categorical_accuracy: 0.9915 - val_loss: 0.0407 - val_categorical_accuracy: 0.9882\n",
            "Epoch 23/40\n",
            "94/94 [==============================] - 3s 31ms/step - loss: 0.0216 - categorical_accuracy: 0.9931 - val_loss: 0.0378 - val_categorical_accuracy: 0.9900\n",
            "Epoch 24/40\n",
            "94/94 [==============================] - 3s 31ms/step - loss: 0.0207 - categorical_accuracy: 0.9934 - val_loss: 0.0373 - val_categorical_accuracy: 0.9889\n",
            "Epoch 25/40\n",
            "94/94 [==============================] - 3s 31ms/step - loss: 0.0202 - categorical_accuracy: 0.9929 - val_loss: 0.0390 - val_categorical_accuracy: 0.9885\n",
            "Epoch 26/40\n",
            "94/94 [==============================] - 3s 31ms/step - loss: 0.0175 - categorical_accuracy: 0.9943 - val_loss: 0.0380 - val_categorical_accuracy: 0.9894\n",
            "Epoch 27/40\n",
            "94/94 [==============================] - 3s 32ms/step - loss: 0.0173 - categorical_accuracy: 0.9941 - val_loss: 0.0368 - val_categorical_accuracy: 0.9899\n",
            "Epoch 28/40\n",
            "94/94 [==============================] - 3s 31ms/step - loss: 0.0159 - categorical_accuracy: 0.9944 - val_loss: 0.0372 - val_categorical_accuracy: 0.9898\n",
            "Epoch 29/40\n",
            "94/94 [==============================] - 3s 31ms/step - loss: 0.0159 - categorical_accuracy: 0.9949 - val_loss: 0.0372 - val_categorical_accuracy: 0.9902\n",
            "Epoch 30/40\n",
            "94/94 [==============================] - 3s 31ms/step - loss: 0.0142 - categorical_accuracy: 0.9952 - val_loss: 0.0383 - val_categorical_accuracy: 0.9894\n",
            "Epoch 31/40\n",
            "94/94 [==============================] - 3s 31ms/step - loss: 0.0146 - categorical_accuracy: 0.9948 - val_loss: 0.0368 - val_categorical_accuracy: 0.9901\n",
            "Epoch 32/40\n",
            "94/94 [==============================] - 3s 31ms/step - loss: 0.0135 - categorical_accuracy: 0.9951 - val_loss: 0.0377 - val_categorical_accuracy: 0.9902\n",
            "Epoch 33/40\n",
            "94/94 [==============================] - 3s 32ms/step - loss: 0.0138 - categorical_accuracy: 0.9956 - val_loss: 0.0369 - val_categorical_accuracy: 0.9903\n",
            "Epoch 34/40\n",
            "94/94 [==============================] - 3s 32ms/step - loss: 0.0128 - categorical_accuracy: 0.9957 - val_loss: 0.0360 - val_categorical_accuracy: 0.9908\n",
            "Epoch 35/40\n",
            "94/94 [==============================] - 3s 32ms/step - loss: 0.0133 - categorical_accuracy: 0.9955 - val_loss: 0.0373 - val_categorical_accuracy: 0.9903\n",
            "Epoch 36/40\n",
            "94/94 [==============================] - 3s 31ms/step - loss: 0.0099 - categorical_accuracy: 0.9968 - val_loss: 0.0382 - val_categorical_accuracy: 0.9906\n",
            "Epoch 37/40\n",
            "94/94 [==============================] - 3s 31ms/step - loss: 0.0113 - categorical_accuracy: 0.9961 - val_loss: 0.0384 - val_categorical_accuracy: 0.9899\n",
            "Epoch 38/40\n",
            "94/94 [==============================] - 3s 31ms/step - loss: 0.0106 - categorical_accuracy: 0.9965 - val_loss: 0.0382 - val_categorical_accuracy: 0.9903\n",
            "Epoch 39/40\n",
            "94/94 [==============================] - 3s 31ms/step - loss: 0.0107 - categorical_accuracy: 0.9964 - val_loss: 0.0415 - val_categorical_accuracy: 0.9891\n",
            "Epoch 40/40\n",
            "94/94 [==============================] - 3s 31ms/step - loss: 0.0096 - categorical_accuracy: 0.9967 - val_loss: 0.0376 - val_categorical_accuracy: 0.9908\n"
          ]
        }
      ]
    },
    {
      "cell_type": "code",
      "metadata": {
        "id": "VpwJAi_sr_cT",
        "outputId": "3c50a0e5-aeba-4f3e-891a-7542ec0dc316",
        "colab": {
          "base_uri": "https://localhost:8080/",
          "height": 295
        }
      },
      "source": [
        "# Plot training & validation loss values\n",
        "plt.plot(history.history['loss'])\n",
        "plt.plot(history.history['val_loss'])\n",
        "plt.title('Model loss')\n",
        "plt.ylabel('Loss')\n",
        "plt.xlabel('Epoch')\n",
        "plt.legend(['Train', 'Validation'], loc='upper left')\n",
        "plt.show()"
      ],
      "execution_count": 25,
      "outputs": [
        {
          "output_type": "display_data",
          "data": {
            "image/png": "[encoded data removed]",
            "text/plain": [
              "<Figure size 432x288 with 1 Axes>"
            ]
          },
          "metadata": {
            "needs_background": "light"
          }
        }
      ]
    },
    {
      "cell_type": "markdown",
      "metadata": {
        "id": "_rghYM4rsaoy"
      },
      "source": [
        "With this the training and validation loss decrease gradually together. Lets train the model on the full training set for the final prediction."
      ]
    },
    {
      "cell_type": "code",
      "metadata": {
        "id": "UAL1Vcjbtc2j",
        "outputId": "8c5954c4-6a2f-4011-f030-75bf9de5b461",
        "colab": {
          "base_uri": "https://localhost:8080/"
        }
      },
      "source": [
        "img = Input((28, 28, 1))\n",
        "x = Conv2D(32,3, padding=\"same\", activation=\"relu\")(img)\n",
        "x = Dropout(0.3)(x)\n",
        "x = Conv2D(64,3, padding=\"same\", activation=\"relu\")(x)\n",
        "x = MaxPooling2D()(x)\n",
        "x = Flatten()(x)\n",
        "x = Dropout(0.5)(x)\n",
        "x = Dense(128, activation=\"relu\")(x)\n",
        "x = Dense(10, activation=\"softmax\")(x)\n",
        "model = Model(img, x)\n",
        "\n",
        "model.summary()\n",
        "\n",
        "opt = Adam(0.0005)\n",
        "model.compile(loss=\"categorical_crossentropy\",optimizer=opt, metrics=[\"categorical_accuracy\"])\n",
        "history = model.fit(norm_x_train, categorical_y_train, epochs=40, batch_size=512, validation_split=0)"
      ],
      "execution_count": 26,
      "outputs": [
        {
          "output_type": "stream",
          "name": "stdout",
          "text": [
            "Model: \"model_4\"\n",
            "_________________________________________________________________\n",
            " Layer (type)                Output Shape              Param #   \n",
            "=================================================================\n",
            " input_5 (InputLayer)        [(None, 28, 28, 1)]       0         \n",
            "                                                                 \n",
            " conv2d_4 (Conv2D)           (None, 28, 28, 32)        320       \n",
            "                                                                 \n",
            " dropout_2 (Dropout)         (None, 28, 28, 32)        0         \n",
            "                                                                 \n",
            " conv2d_5 (Conv2D)           (None, 28, 28, 64)        18496     \n",
            "                                                                 \n",
            " max_pooling2d_2 (MaxPooling  (None, 14, 14, 64)       0         \n",
            " 2D)                                                             \n",
            "                                                                 \n",
            " flatten_4 (Flatten)         (None, 12544)             0         \n",
            "                                                                 \n",
            " dropout_3 (Dropout)         (None, 12544)             0         \n",
            "                                                                 \n",
            " dense_8 (Dense)             (None, 128)               1605760   \n",
            "                                                                 \n",
            " dense_9 (Dense)             (None, 10)                1290      \n",
            "                                                                 \n",
            "=================================================================\n",
            "Total params: 1,625,866\n",
            "Trainable params: 1,625,866\n",
            "Non-trainable params: 0\n",
            "_________________________________________________________________\n",
            "Epoch 1/40\n",
            "118/118 [==============================] - 4s 30ms/step - loss: 0.6428 - categorical_accuracy: 0.8049\n",
            "Epoch 2/40\n",
            "118/118 [==============================] - 3s 29ms/step - loss: 0.1711 - categorical_accuracy: 0.9492\n",
            "Epoch 3/40\n",
            "118/118 [==============================] - 3s 29ms/step - loss: 0.1040 - categorical_accuracy: 0.9685\n",
            "Epoch 4/40\n",
            "118/118 [==============================] - 3s 29ms/step - loss: 0.0801 - categorical_accuracy: 0.9758\n",
            "Epoch 5/40\n",
            "118/118 [==============================] - 3s 29ms/step - loss: 0.0688 - categorical_accuracy: 0.9790\n",
            "Epoch 6/40\n",
            "118/118 [==============================] - 3s 29ms/step - loss: 0.0604 - categorical_accuracy: 0.9821\n",
            "Epoch 7/40\n",
            "118/118 [==============================] - 3s 29ms/step - loss: 0.0530 - categorical_accuracy: 0.9831\n",
            "Epoch 8/40\n",
            "118/118 [==============================] - 3s 29ms/step - loss: 0.0475 - categorical_accuracy: 0.9852\n",
            "Epoch 9/40\n",
            "118/118 [==============================] - 3s 29ms/step - loss: 0.0444 - categorical_accuracy: 0.9862\n",
            "Epoch 10/40\n",
            "118/118 [==============================] - 3s 29ms/step - loss: 0.0406 - categorical_accuracy: 0.9873\n",
            "Epoch 11/40\n",
            "118/118 [==============================] - 3s 29ms/step - loss: 0.0369 - categorical_accuracy: 0.9883\n",
            "Epoch 12/40\n",
            "118/118 [==============================] - 3s 29ms/step - loss: 0.0357 - categorical_accuracy: 0.9880\n",
            "Epoch 13/40\n",
            "118/118 [==============================] - 3s 29ms/step - loss: 0.0302 - categorical_accuracy: 0.9904\n",
            "Epoch 14/40\n",
            "118/118 [==============================] - 3s 29ms/step - loss: 0.0292 - categorical_accuracy: 0.9906\n",
            "Epoch 15/40\n",
            "118/118 [==============================] - 3s 29ms/step - loss: 0.0258 - categorical_accuracy: 0.9913\n",
            "Epoch 16/40\n",
            "118/118 [==============================] - 3s 29ms/step - loss: 0.0246 - categorical_accuracy: 0.9920\n",
            "Epoch 17/40\n",
            "118/118 [==============================] - 3s 28ms/step - loss: 0.0231 - categorical_accuracy: 0.9923\n",
            "Epoch 18/40\n",
            "118/118 [==============================] - 3s 29ms/step - loss: 0.0219 - categorical_accuracy: 0.9930\n",
            "Epoch 19/40\n",
            "118/118 [==============================] - 3s 29ms/step - loss: 0.0209 - categorical_accuracy: 0.9935\n",
            "Epoch 20/40\n",
            "118/118 [==============================] - 3s 29ms/step - loss: 0.0201 - categorical_accuracy: 0.9934\n",
            "Epoch 21/40\n",
            "118/118 [==============================] - 3s 29ms/step - loss: 0.0171 - categorical_accuracy: 0.9944\n",
            "Epoch 22/40\n",
            "118/118 [==============================] - 3s 29ms/step - loss: 0.0166 - categorical_accuracy: 0.9944\n",
            "Epoch 23/40\n",
            "118/118 [==============================] - 3s 29ms/step - loss: 0.0162 - categorical_accuracy: 0.9946\n",
            "Epoch 24/40\n",
            "118/118 [==============================] - 3s 29ms/step - loss: 0.0144 - categorical_accuracy: 0.9950\n",
            "Epoch 25/40\n",
            "118/118 [==============================] - 3s 29ms/step - loss: 0.0138 - categorical_accuracy: 0.9957\n",
            "Epoch 26/40\n",
            "118/118 [==============================] - 3s 29ms/step - loss: 0.0133 - categorical_accuracy: 0.9954\n",
            "Epoch 27/40\n",
            "118/118 [==============================] - 3s 28ms/step - loss: 0.0122 - categorical_accuracy: 0.9959\n",
            "Epoch 28/40\n",
            "118/118 [==============================] - 3s 29ms/step - loss: 0.0119 - categorical_accuracy: 0.9961\n",
            "Epoch 29/40\n",
            "118/118 [==============================] - 3s 29ms/step - loss: 0.0120 - categorical_accuracy: 0.9958\n",
            "Epoch 30/40\n",
            "118/118 [==============================] - 3s 29ms/step - loss: 0.0111 - categorical_accuracy: 0.9963\n",
            "Epoch 31/40\n",
            "118/118 [==============================] - 3s 29ms/step - loss: 0.0103 - categorical_accuracy: 0.9964\n",
            "Epoch 32/40\n",
            "118/118 [==============================] - 3s 29ms/step - loss: 0.0102 - categorical_accuracy: 0.9966\n",
            "Epoch 33/40\n",
            "118/118 [==============================] - 3s 29ms/step - loss: 0.0084 - categorical_accuracy: 0.9972\n",
            "Epoch 34/40\n",
            "118/118 [==============================] - 3s 29ms/step - loss: 0.0098 - categorical_accuracy: 0.9966\n",
            "Epoch 35/40\n",
            "118/118 [==============================] - 3s 29ms/step - loss: 0.0082 - categorical_accuracy: 0.9974\n",
            "Epoch 36/40\n",
            "118/118 [==============================] - 3s 29ms/step - loss: 0.0084 - categorical_accuracy: 0.9972\n",
            "Epoch 37/40\n",
            "118/118 [==============================] - 3s 29ms/step - loss: 0.0086 - categorical_accuracy: 0.9970\n",
            "Epoch 38/40\n",
            "118/118 [==============================] - 3s 29ms/step - loss: 0.0076 - categorical_accuracy: 0.9973\n",
            "Epoch 39/40\n",
            "118/118 [==============================] - 3s 29ms/step - loss: 0.0079 - categorical_accuracy: 0.9974\n",
            "Epoch 40/40\n",
            "118/118 [==============================] - 3s 29ms/step - loss: 0.0082 - categorical_accuracy: 0.9972\n"
          ]
        }
      ]
    },
    {
      "cell_type": "code",
      "metadata": {
        "id": "dSkPY_UYuaz3",
        "outputId": "11608897-b678-475e-ed80-ec53413e1d61",
        "colab": {
          "base_uri": "https://localhost:8080/"
        }
      },
      "source": [
        "model.evaluate(norm_x_test, categorical_y_test)"
      ],
      "execution_count": 27,
      "outputs": [
        {
          "output_type": "stream",
          "name": "stdout",
          "text": [
            "313/313 [==============================] - 1s 3ms/step - loss: 0.0306 - categorical_accuracy: 0.9901\n"
          ]
        },
        {
          "output_type": "execute_result",
          "data": {
            "text/plain": [
              "[0.03059435822069645, 0.9901000261306763]"
            ]
          },
          "metadata": {},
          "execution_count": 27
        }
      ]
    },
    {
      "cell_type": "markdown",
      "metadata": {
        "id": "qpFmbNg4t1f_"
      },
      "source": [
        "Thus, the use of convolutional layers leads to almost perfect predictions (1% error)."
      ]
    },
    {
      "cell_type": "markdown",
      "metadata": {
        "id": "Trvf6vLw80Tn"
      },
      "source": [
        "# CIFAR"
      ]
    },
    {
      "cell_type": "markdown",
      "metadata": {
        "id": "iBdFHtAC-dhG"
      },
      "source": [
        "![alt text](https://alexisbcook.github.io/assets/cifar10.png)"
      ]
    },
    {
      "cell_type": "markdown",
      "metadata": {
        "id": "a79Ti5ywwpGp"
      },
      "source": [
        "**Choose your weapons!**\n",
        "\n",
        "\n",
        "\n",
        "```\n",
        "from keras.layers import Dense, Flatten, Conv2D, MaxPooling2D, AveragePooling2D, Dropout, Activation, BatchNormalization, GaussianNoise, SeparableConv2D\n",
        "from keras.optimizers import SGD, RMSprop, Adagrad, Adam, Adadelta, Adamax, Nadam\n",
        "```\n",
        "Change learning rate, batch size, loss and optimizer\n",
        "\n",
        "\n",
        "Activations: relu, sigmoid, tanh, elu\n",
        "\n",
        "```\n",
        "x = Activation(\"tanh\")(x)\n",
        "```\n",
        "\n",
        "Normalization for faster convergence (for images):\n",
        "\n",
        "```\n",
        "x = BatchNormalization()(x)\n",
        "```\n",
        "\n",
        "Striding instead of pooling:\n",
        "\n",
        "```\n",
        "x = Conv2D(... , strides=2)(img)\n",
        "```\n",
        "\n",
        "Try different kernel sizes, pooling steps and paddings:\n",
        "```\n",
        "x = Conv2D(filters=128, kernel_size=10, padding=\"valid\", activation=\"relu\", strides=2)(img)\n",
        "```\n",
        "\n",
        "\n",
        "https://keras.io/"
      ]
    },
    {
      "cell_type": "code",
      "metadata": {
        "id": "JvUI2Bw9upW3"
      },
      "source": [
        "from keras.datasets import cifar10"
      ],
      "execution_count": 28,
      "outputs": []
    },
    {
      "cell_type": "code",
      "metadata": {
        "id": "fDxdj4ZSz8KB",
        "colab": {
          "base_uri": "https://localhost:8080/"
        },
        "outputId": "9fa127a1-3965-4d7d-e79b-30f18f7a6010"
      },
      "source": [
        "(x_train, y_train), (x_test, y_test) = cifar10.load_data()"
      ],
      "execution_count": 29,
      "outputs": [
        {
          "output_type": "stream",
          "name": "stdout",
          "text": [
            "Downloading data from https://www.cs.toronto.edu/~kriz/cifar-10-python.tar.gz\n",
            "170500096/170498071 [==============================] - 2s 0us/step\n",
            "170508288/170498071 [==============================] - 2s 0us/step\n"
          ]
        }
      ]
    },
    {
      "cell_type": "code",
      "metadata": {
        "id": "GzlnpRYCArJd",
        "colab": {
          "base_uri": "https://localhost:8080/"
        },
        "outputId": "ebf029c4-25a8-40e8-bc70-88b919206ba7"
      },
      "source": [
        "print(\"X-shape:\", x_train.shape)\n",
        "print(\"Y-shape:\", y_train.shape)"
      ],
      "execution_count": 30,
      "outputs": [
        {
          "output_type": "stream",
          "name": "stdout",
          "text": [
            "X-shape: (50000, 32, 32, 3)\n",
            "Y-shape: (50000, 1)\n"
          ]
        }
      ]
    },
    {
      "cell_type": "code",
      "metadata": {
        "id": "Ub7s6-rC9uYV",
        "colab": {
          "base_uri": "https://localhost:8080/",
          "height": 266
        },
        "outputId": "85172c4f-3fae-4d82-d165-5f6d8e89b14a"
      },
      "source": [
        "  plt.imshow(x_train[0])\n",
        "  plt.show()"
      ],
      "execution_count": 32,
      "outputs": [
        {
          "output_type": "display_data",
          "data": {
            "image/png": "[encoded data removed]",
            "text/plain": [
              "<Figure size 432x288 with 1 Axes>"
            ]
          },
          "metadata": {
            "needs_background": "light"
          }
        }
      ]
    },
    {
      "cell_type": "code",
      "source": [
        ""
      ],
      "metadata": {
        "id": "3htF8i6quoY_"
      },
      "execution_count": null,
      "outputs": []
    }
  ]
}